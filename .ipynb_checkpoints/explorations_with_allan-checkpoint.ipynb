{
 "cells": [
  {
   "cell_type": "code",
   "execution_count": 49,
   "id": "c4b45966",
   "metadata": {},
   "outputs": [
    {
     "name": "stdout",
     "output_type": "stream",
     "text": [
      "The autoreload extension is already loaded. To reload it, use:\n",
      "  %reload_ext autoreload\n"
     ]
    }
   ],
   "source": [
    "%load_ext autoreload\n",
    "%autoreload 2"
   ]
  },
  {
   "cell_type": "code",
   "execution_count": 50,
   "id": "a3314662",
   "metadata": {},
   "outputs": [
    {
     "data": {
      "text/html": [
       "<style>.container { width:100% !important; }</style>"
      ],
      "text/plain": [
       "<IPython.core.display.HTML object>"
      ]
     },
     "metadata": {},
     "output_type": "display_data"
    }
   ],
   "source": [
    "from CIPEC import *\n",
    "from reduced_word_builder import *\n",
    "\n",
    "from IPython.display import display, HTML\n",
    "display(HTML(\"<style>.container { width:100% !important; }</style>\"))"
   ]
  },
  {
   "cell_type": "code",
   "execution_count": 45,
   "id": "7e9dcd3f",
   "metadata": {},
   "outputs": [
    {
     "data": {
      "text/latex": [
       "$IIIIII=\\left[\\begin{matrix}1.0 & 0 & 0 & 1.0\\\\0 & 0 & 0 & 0\\\\0 & 0 & 0 & 0\\\\1.0 & 0 & 0 & 1.0\\end{matrix}\\right]$"
      ],
      "text/plain": [
       "<IPython.core.display.Latex object>"
      ]
     },
     "metadata": {},
     "output_type": "display_data"
    },
    {
     "data": {
      "text/latex": [
       "$IIIIIH=\\left[\\begin{matrix}0.5 & 0.5 & 0.5 & -0.5\\\\0.5 & 0.5 & 0.5 & -0.5\\\\0.5 & 0.5 & 0.5 & -0.5\\\\-0.5 & -0.5 & -0.5 & 0.5\\end{matrix}\\right]$"
      ],
      "text/plain": [
       "<IPython.core.display.Latex object>"
      ]
     },
     "metadata": {},
     "output_type": "display_data"
    },
    {
     "data": {
      "text/latex": [
       "$IIIIIS=\\left[\\begin{matrix}1.0 & 0 & 0 & - 1.0 i\\\\0 & 0 & 0 & 0\\\\0 & 0 & 0 & 0\\\\1.0 i & 0 & 0 & 1.0\\end{matrix}\\right]$"
      ],
      "text/plain": [
       "<IPython.core.display.Latex object>"
      ]
     },
     "metadata": {},
     "output_type": "display_data"
    },
    {
     "data": {
      "text/latex": [
       "$IIIIHS=\\left[\\begin{matrix}0.5 & - 0.5 i & 0.5 & 0.5 i\\\\0.5 i & 0.5 & 0.5 i & -0.5\\\\0.5 & - 0.5 i & 0.5 & 0.5 i\\\\- 0.5 i & -0.5 & - 0.5 i & 0.5\\end{matrix}\\right]$"
      ],
      "text/plain": [
       "<IPython.core.display.Latex object>"
      ]
     },
     "metadata": {},
     "output_type": "display_data"
    },
    {
     "data": {
      "text/latex": [
       "$IIIISH=\\left[\\begin{matrix}0.5 & 0.5 & - 0.5 i & 0.5 i\\\\0.5 & 0.5 & - 0.5 i & 0.5 i\\\\0.5 i & 0.5 i & 0.5 & -0.5\\\\- 0.5 i & - 0.5 i & -0.5 & 0.5\\end{matrix}\\right]$"
      ],
      "text/plain": [
       "<IPython.core.display.Latex object>"
      ]
     },
     "metadata": {},
     "output_type": "display_data"
    },
    {
     "data": {
      "text/latex": [
       "$IIIISS=\\left[\\begin{matrix}1.0 & 0 & 0 & -1.0\\\\0 & 0 & 0 & 0\\\\0 & 0 & 0 & 0\\\\-1.0 & 0 & 0 & 1.0\\end{matrix}\\right]$"
      ],
      "text/plain": [
       "<IPython.core.display.Latex object>"
      ]
     },
     "metadata": {},
     "output_type": "display_data"
    },
    {
     "data": {
      "text/latex": [
       "$IIIHSH=\\left[\\begin{matrix}0.5 & 0.5 i & 0.5 i & 0.5\\\\- 0.5 i & 0.5 & 0.5 & - 0.5 i\\\\- 0.5 i & 0.5 & 0.5 & - 0.5 i\\\\0.5 & 0.5 i & 0.5 i & 0.5\\end{matrix}\\right]$"
      ],
      "text/plain": [
       "<IPython.core.display.Latex object>"
      ]
     },
     "metadata": {},
     "output_type": "display_data"
    },
    {
     "data": {
      "text/latex": [
       "$IIIHSS=\\left[\\begin{matrix}0.5 & -0.5 & 0.5 & 0.5\\\\-0.5 & 0.5 & -0.5 & -0.5\\\\0.5 & -0.5 & 0.5 & 0.5\\\\0.5 & -0.5 & 0.5 & 0.5\\end{matrix}\\right]$"
      ],
      "text/plain": [
       "<IPython.core.display.Latex object>"
      ]
     },
     "metadata": {},
     "output_type": "display_data"
    },
    {
     "data": {
      "text/latex": [
       "$IIISHS=\\left[\\begin{matrix}0.5 & - 0.5 i & - 0.5 i & 0.5\\\\0.5 i & 0.5 & 0.5 & 0.5 i\\\\0.5 i & 0.5 & 0.5 & 0.5 i\\\\0.5 & - 0.5 i & - 0.5 i & 0.5\\end{matrix}\\right]$"
      ],
      "text/plain": [
       "<IPython.core.display.Latex object>"
      ]
     },
     "metadata": {},
     "output_type": "display_data"
    },
    {
     "data": {
      "text/latex": [
       "$IIISSH=\\left[\\begin{matrix}0.5 & 0.5 & -0.5 & 0.5\\\\0.5 & 0.5 & -0.5 & 0.5\\\\-0.5 & -0.5 & 0.5 & -0.5\\\\0.5 & 0.5 & -0.5 & 0.5\\end{matrix}\\right]$"
      ],
      "text/plain": [
       "<IPython.core.display.Latex object>"
      ]
     },
     "metadata": {},
     "output_type": "display_data"
    },
    {
     "data": {
      "text/latex": [
       "$IIISSS=\\left[\\begin{matrix}1.0 & 0 & 0 & 1.0 i\\\\0 & 0 & 0 & 0\\\\0 & 0 & 0 & 0\\\\- 1.0 i & 0 & 0 & 1.0\\end{matrix}\\right]$"
      ],
      "text/plain": [
       "<IPython.core.display.Latex object>"
      ]
     },
     "metadata": {},
     "output_type": "display_data"
    },
    {
     "data": {
      "text/latex": [
       "$IIHSHS=\\left[\\begin{matrix}0.5 & 0.5 & 0.5 i & - 0.5 i\\\\0.5 & 0.5 & 0.5 i & - 0.5 i\\\\- 0.5 i & - 0.5 i & 0.5 & -0.5\\\\0.5 i & 0.5 i & -0.5 & 0.5\\end{matrix}\\right]$"
      ],
      "text/plain": [
       "<IPython.core.display.Latex object>"
      ]
     },
     "metadata": {},
     "output_type": "display_data"
    },
    {
     "data": {
      "text/latex": [
       "$IIHSSH=\\left[\\begin{matrix}0 & 0 & 0 & 0\\\\0 & 1.0 & 1.0 & 0\\\\0 & 1.0 & 1.0 & 0\\\\0 & 0 & 0 & 0\\end{matrix}\\right]$"
      ],
      "text/plain": [
       "<IPython.core.display.Latex object>"
      ]
     },
     "metadata": {},
     "output_type": "display_data"
    },
    {
     "data": {
      "text/latex": [
       "$IIHSSS=\\left[\\begin{matrix}0.5 & 0.5 i & 0.5 & - 0.5 i\\\\- 0.5 i & 0.5 & - 0.5 i & -0.5\\\\0.5 & 0.5 i & 0.5 & - 0.5 i\\\\0.5 i & -0.5 & 0.5 i & 0.5\\end{matrix}\\right]$"
      ],
      "text/plain": [
       "<IPython.core.display.Latex object>"
      ]
     },
     "metadata": {},
     "output_type": "display_data"
    },
    {
     "data": {
      "text/latex": [
       "$IISHSS=\\left[\\begin{matrix}0.5 & -0.5 & - 0.5 i & - 0.5 i\\\\-0.5 & 0.5 & 0.5 i & 0.5 i\\\\0.5 i & - 0.5 i & 0.5 & 0.5\\\\0.5 i & - 0.5 i & 0.5 & 0.5\\end{matrix}\\right]$"
      ],
      "text/plain": [
       "<IPython.core.display.Latex object>"
      ]
     },
     "metadata": {},
     "output_type": "display_data"
    },
    {
     "data": {
      "text/latex": [
       "$IISSHS=\\left[\\begin{matrix}0.5 & - 0.5 i & -0.5 & - 0.5 i\\\\0.5 i & 0.5 & - 0.5 i & 0.5\\\\-0.5 & 0.5 i & 0.5 & 0.5 i\\\\0.5 i & 0.5 & - 0.5 i & 0.5\\end{matrix}\\right]$"
      ],
      "text/plain": [
       "<IPython.core.display.Latex object>"
      ]
     },
     "metadata": {},
     "output_type": "display_data"
    },
    {
     "data": {
      "text/latex": [
       "$IHSHSS=\\left[\\begin{matrix}0.5 & - 0.5 i & 0.5 i & -0.5\\\\0.5 i & 0.5 & -0.5 & - 0.5 i\\\\- 0.5 i & -0.5 & 0.5 & 0.5 i\\\\-0.5 & 0.5 i & - 0.5 i & 0.5\\end{matrix}\\right]$"
      ],
      "text/plain": [
       "<IPython.core.display.Latex object>"
      ]
     },
     "metadata": {},
     "output_type": "display_data"
    },
    {
     "data": {
      "text/latex": [
       "$IHSSHS=\\left[\\begin{matrix}0 & 0 & 0 & 0\\\\0 & 1.0 & 1.0 i & 0\\\\0 & - 1.0 i & 1.0 & 0\\\\0 & 0 & 0 & 0\\end{matrix}\\right]$"
      ],
      "text/plain": [
       "<IPython.core.display.Latex object>"
      ]
     },
     "metadata": {},
     "output_type": "display_data"
    },
    {
     "data": {
      "text/latex": [
       "$ISHSSH=\\left[\\begin{matrix}0 & 0 & 0 & 0\\\\0 & 1.0 & - 1.0 i & 0\\\\0 & 1.0 i & 1.0 & 0\\\\0 & 0 & 0 & 0\\end{matrix}\\right]$"
      ],
      "text/plain": [
       "<IPython.core.display.Latex object>"
      ]
     },
     "metadata": {},
     "output_type": "display_data"
    },
    {
     "data": {
      "text/latex": [
       "$ISHSSS=\\left[\\begin{matrix}0.5 & 0.5 i & - 0.5 i & -0.5\\\\- 0.5 i & 0.5 & -0.5 & 0.5 i\\\\0.5 i & -0.5 & 0.5 & - 0.5 i\\\\-0.5 & - 0.5 i & 0.5 i & 0.5\\end{matrix}\\right]$"
      ],
      "text/plain": [
       "<IPython.core.display.Latex object>"
      ]
     },
     "metadata": {},
     "output_type": "display_data"
    },
    {
     "data": {
      "text/latex": [
       "$ISSHSS=\\left[\\begin{matrix}0.5 & -0.5 & -0.5 & -0.5\\\\-0.5 & 0.5 & 0.5 & 0.5\\\\-0.5 & 0.5 & 0.5 & 0.5\\\\-0.5 & 0.5 & 0.5 & 0.5\\end{matrix}\\right]$"
      ],
      "text/plain": [
       "<IPython.core.display.Latex object>"
      ]
     },
     "metadata": {},
     "output_type": "display_data"
    },
    {
     "data": {
      "text/latex": [
       "$HSHSSH=\\left[\\begin{matrix}0.5 & 0.5 i & -0.5 & 0.5 i\\\\- 0.5 i & 0.5 & 0.5 i & 0.5\\\\-0.5 & - 0.5 i & 0.5 & - 0.5 i\\\\- 0.5 i & 0.5 & 0.5 i & 0.5\\end{matrix}\\right]$"
      ],
      "text/plain": [
       "<IPython.core.display.Latex object>"
      ]
     },
     "metadata": {},
     "output_type": "display_data"
    },
    {
     "data": {
      "text/latex": [
       "$HSHSSS=\\left[\\begin{matrix}0.5 & -0.5 & 0.5 i & 0.5 i\\\\-0.5 & 0.5 & - 0.5 i & - 0.5 i\\\\- 0.5 i & 0.5 i & 0.5 & 0.5\\\\- 0.5 i & 0.5 i & 0.5 & 0.5\\end{matrix}\\right]$"
      ],
      "text/plain": [
       "<IPython.core.display.Latex object>"
      ]
     },
     "metadata": {},
     "output_type": "display_data"
    },
    {
     "data": {
      "text/latex": [
       "$HSSHSS=\\left[\\begin{matrix}0 & 0 & 0 & 0\\\\0 & 1.0 & -1.0 & 0\\\\0 & -1.0 & 1.0 & 0\\\\0 & 0 & 0 & 0\\end{matrix}\\right]$"
      ],
      "text/plain": [
       "<IPython.core.display.Latex object>"
      ]
     },
     "metadata": {},
     "output_type": "display_data"
    }
   ],
   "source": [
    "# B = noiseless_basis(1,include_T=True)\n",
    "\n",
    "# print(B.keys())\n",
    "\n",
    "# BB = {\"\".join(k):v for k,v in B.items() if \"\".join(k) not in set(['Px','Py','Pz'])}\n",
    "\n",
    "cliff_dict_1q = {'I': I, 'H': H, 'S': S}\n",
    "all_words = reduced_word_builder(word_length=6, mat_dict=cliff_dict_1q)\n",
    "\n",
    "for k in all_words.keys():\n",
    "    all_words[k] = qi.to_choi(all_words[k])\n",
    "    fancy_display(all_words[k],\"\".join(k.split(',')))"
   ]
  },
  {
   "cell_type": "code",
   "execution_count": 51,
   "id": "1de0dec0",
   "metadata": {},
   "outputs": [
    {
     "data": {
      "text/plain": [
       "{'II': array([[1., 0., 0., 0.],\n",
       "        [0., 1., 0., 0.],\n",
       "        [0., 0., 1., 0.],\n",
       "        [0., 0., 0., 1.]]),\n",
       " 'IH': array([[ 0.70710678,  0.70710678,  0.        ,  0.        ],\n",
       "        [ 0.70710678, -0.70710678,  0.        , -0.        ],\n",
       "        [ 0.        ,  0.        ,  0.70710678,  0.70710678],\n",
       "        [ 0.        , -0.        ,  0.70710678, -0.70710678]]),\n",
       " 'IS': array([[1.+0.j, 0.+0.j, 0.+0.j, 0.+0.j],\n",
       "        [0.+0.j, 0.+1.j, 0.+0.j, 0.+0.j],\n",
       "        [0.+0.j, 0.+0.j, 1.+0.j, 0.+0.j],\n",
       "        [0.+0.j, 0.+0.j, 0.+0.j, 0.+1.j]]),\n",
       " 'HI': array([[ 0.70710678,  0.        ,  0.70710678,  0.        ],\n",
       "        [ 0.        ,  0.70710678,  0.        ,  0.70710678],\n",
       "        [ 0.70710678,  0.        , -0.70710678, -0.        ],\n",
       "        [ 0.        ,  0.70710678, -0.        , -0.70710678]]),\n",
       " 'HH': array([[ 0.5,  0.5,  0.5,  0.5],\n",
       "        [ 0.5, -0.5,  0.5, -0.5],\n",
       "        [ 0.5,  0.5, -0.5, -0.5],\n",
       "        [ 0.5, -0.5, -0.5,  0.5]]),\n",
       " 'HS': array([[ 0.70710678+0.j        ,  0.        +0.j        ,\n",
       "          0.70710678+0.j        ,  0.        +0.j        ],\n",
       "        [ 0.        +0.j        ,  0.        +0.70710678j,\n",
       "          0.        +0.j        ,  0.        +0.70710678j],\n",
       "        [ 0.70710678+0.j        ,  0.        +0.j        ,\n",
       "         -0.70710678+0.j        , -0.        +0.j        ],\n",
       "        [ 0.        +0.j        ,  0.        +0.70710678j,\n",
       "         -0.        +0.j        , -0.        -0.70710678j]]),\n",
       " 'SI': array([[1.+0.j, 0.+0.j, 0.+0.j, 0.+0.j],\n",
       "        [0.+0.j, 1.+0.j, 0.+0.j, 0.+0.j],\n",
       "        [0.+0.j, 0.+0.j, 0.+1.j, 0.+0.j],\n",
       "        [0.+0.j, 0.+0.j, 0.+0.j, 0.+1.j]]),\n",
       " 'SH': array([[ 0.70710678+0.j        ,  0.70710678+0.j        ,\n",
       "          0.        +0.j        ,  0.        +0.j        ],\n",
       "        [ 0.70710678+0.j        , -0.70710678+0.j        ,\n",
       "          0.        +0.j        , -0.        +0.j        ],\n",
       "        [ 0.        +0.j        ,  0.        +0.j        ,\n",
       "          0.        +0.70710678j,  0.        +0.70710678j],\n",
       "        [ 0.        +0.j        , -0.        +0.j        ,\n",
       "          0.        +0.70710678j, -0.        -0.70710678j]]),\n",
       " 'SS': array([[ 1.+0.j,  0.+0.j,  0.+0.j,  0.+0.j],\n",
       "        [ 0.+0.j,  0.+1.j,  0.+0.j,  0.+0.j],\n",
       "        [ 0.+0.j,  0.+0.j,  0.+1.j,  0.+0.j],\n",
       "        [ 0.+0.j,  0.+0.j,  0.+0.j, -1.+0.j]]),\n",
       " 'CX': array([[1., 0., 0., 0.],\n",
       "        [0., 1., 0., 0.],\n",
       "        [0., 0., 0., 1.],\n",
       "        [0., 0., 1., 0.]])}"
      ]
     },
     "execution_count": 51,
     "metadata": {},
     "output_type": "execute_result"
    }
   ],
   "source": [
    "cliff_dict_1q = {'I': I, 'H': H, 'S': S}\n",
    "cliff_dict_2q = tsr_prod(cliff_dict_1q,cliff_dict_1q)\n",
    "cliff_dict_2q['CX'] = CX\n",
    "cliff_dict_2q['XC'] = XC\n",
    "\n",
    "cliff_dict_2q\n",
    "# all_words = reduced_word_builder(word_length=6, mat_dict=U_dict)\n",
    "\n",
    "# for k in all_words.keys():\n",
    "#     all_words[k] = qi.to_choi(all_words[k])\n",
    "#     fancy_display(all_words[k],\"\".join(k.split(',')))"
   ]
  },
  {
   "cell_type": "code",
   "execution_count": null,
   "id": "1824c833",
   "metadata": {},
   "outputs": [],
   "source": []
  }
 ],
 "metadata": {
  "kernelspec": {
   "display_name": "Python 3 (ipykernel)",
   "language": "python",
   "name": "python3"
  },
  "language_info": {
   "codemirror_mode": {
    "name": "ipython",
    "version": 3
   },
   "file_extension": ".py",
   "mimetype": "text/x-python",
   "name": "python",
   "nbconvert_exporter": "python",
   "pygments_lexer": "ipython3",
   "version": "3.9.15"
  }
 },
 "nbformat": 4,
 "nbformat_minor": 5
}
