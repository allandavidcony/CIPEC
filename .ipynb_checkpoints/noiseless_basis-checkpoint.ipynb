{
 "cells": [
  {
   "cell_type": "code",
   "execution_count": 68,
   "id": "504f8405",
   "metadata": {},
   "outputs": [
    {
     "name": "stdout",
     "output_type": "stream",
     "text": [
      "The autoreload extension is already loaded. To reload it, use:\n",
      "  %reload_ext autoreload\n"
     ]
    }
   ],
   "source": [
    "%load_ext autoreload\n",
    "%autoreload 2"
   ]
  },
  {
   "cell_type": "code",
   "execution_count": 106,
   "id": "e1e1282f",
   "metadata": {},
   "outputs": [],
   "source": [
    "from CIPEC import *"
   ]
  },
  {
   "cell_type": "markdown",
   "id": "60336f2e",
   "metadata": {},
   "source": [
    "# 1) Single-qubit basis"
   ]
  },
  {
   "cell_type": "code",
   "execution_count": 141,
   "id": "e87604fc",
   "metadata": {},
   "outputs": [
    {
     "name": "stdout",
     "output_type": "stream",
     "text": [
      "Loaded pre-computed basis \"1qbasis_cliffplusT_noiseless.csv\"\n",
      "\n",
      "The following 13 channels form a basis of 1q CPTP maps:\n",
      "[('I',), ('H',), ('S',), ('T',), ('H', 'S'), ('H', 'T'), ('S', 'H'), ('T', 'H'), ('H', 'S', 'H'), ('S', 'H', 'T'), ('Px',), ('Py',), ('Pz',)]\n",
      "\n",
      "Here are their Choi matrices:\n"
     ]
    },
    {
     "data": {
      "text/latex": [
       "$I=\\left[\\begin{matrix}1.0 & 0 & 0 & 1.0\\\\0 & 0 & 0 & 0\\\\0 & 0 & 0 & 0\\\\1.0 & 0 & 0 & 1.0\\end{matrix}\\right]$"
      ],
      "text/plain": [
       "<IPython.core.display.Latex object>"
      ]
     },
     "metadata": {},
     "output_type": "display_data"
    },
    {
     "data": {
      "text/latex": [
       "$H=\\left[\\begin{matrix}0.5 & 0.5 & 0.5 & -0.5\\\\0.5 & 0.5 & 0.5 & -0.5\\\\0.5 & 0.5 & 0.5 & -0.5\\\\-0.5 & -0.5 & -0.5 & 0.5\\end{matrix}\\right]$"
      ],
      "text/plain": [
       "<IPython.core.display.Latex object>"
      ]
     },
     "metadata": {},
     "output_type": "display_data"
    },
    {
     "data": {
      "text/latex": [
       "$S=\\left[\\begin{matrix}1.0 & 0 & 0 & - 1.0 i\\\\0 & 0 & 0 & 0\\\\0 & 0 & 0 & 0\\\\1.0 i & 0 & 0 & 1.0\\end{matrix}\\right]$"
      ],
      "text/plain": [
       "<IPython.core.display.Latex object>"
      ]
     },
     "metadata": {},
     "output_type": "display_data"
    },
    {
     "data": {
      "text/latex": [
       "$T=\\left[\\begin{matrix}1.0 & 0 & 0 & 0.707 - 0.707 i\\\\0 & 0 & 0 & 0\\\\0 & 0 & 0 & 0\\\\0.707 + 0.707 i & 0 & 0 & 1.0\\end{matrix}\\right]$"
      ],
      "text/plain": [
       "<IPython.core.display.Latex object>"
      ]
     },
     "metadata": {},
     "output_type": "display_data"
    },
    {
     "data": {
      "text/latex": [
       "$H S=\\left[\\begin{matrix}0.5 & 0.5 & - 0.5 i & 0.5 i\\\\0.5 & 0.5 & - 0.5 i & 0.5 i\\\\0.5 i & 0.5 i & 0.5 & -0.5\\\\- 0.5 i & - 0.5 i & -0.5 & 0.5\\end{matrix}\\right]$"
      ],
      "text/plain": [
       "<IPython.core.display.Latex object>"
      ]
     },
     "metadata": {},
     "output_type": "display_data"
    },
    {
     "data": {
      "text/latex": [
       "$H T=\\left[\\begin{matrix}0.5 & 0.5 & 0.354 - 0.354 i & -0.354 + 0.354 i\\\\0.5 & 0.5 & 0.354 - 0.354 i & -0.354 + 0.354 i\\\\0.354 + 0.354 i & 0.354 + 0.354 i & 0.5 & -0.5\\\\-0.354 - 0.354 i & -0.354 - 0.354 i & -0.5 & 0.5\\end{matrix}\\right]$"
      ],
      "text/plain": [
       "<IPython.core.display.Latex object>"
      ]
     },
     "metadata": {},
     "output_type": "display_data"
    },
    {
     "data": {
      "text/latex": [
       "$S H=\\left[\\begin{matrix}0.5 & - 0.5 i & 0.5 & 0.5 i\\\\0.5 i & 0.5 & 0.5 i & -0.5\\\\0.5 & - 0.5 i & 0.5 & 0.5 i\\\\- 0.5 i & -0.5 & - 0.5 i & 0.5\\end{matrix}\\right]$"
      ],
      "text/plain": [
       "<IPython.core.display.Latex object>"
      ]
     },
     "metadata": {},
     "output_type": "display_data"
    },
    {
     "data": {
      "text/latex": [
       "$T H=\\left[\\begin{matrix}0.5 & 0.354 - 0.354 i & 0.5 & -0.354 + 0.354 i\\\\0.354 + 0.354 i & 0.5 & 0.354 + 0.354 i & -0.5\\\\0.5 & 0.354 - 0.354 i & 0.5 & -0.354 + 0.354 i\\\\-0.354 - 0.354 i & -0.5 & -0.354 - 0.354 i & 0.5\\end{matrix}\\right]$"
      ],
      "text/plain": [
       "<IPython.core.display.Latex object>"
      ]
     },
     "metadata": {},
     "output_type": "display_data"
    },
    {
     "data": {
      "text/latex": [
       "$H S H=\\left[\\begin{matrix}0.5 & 0.5 i & 0.5 i & 0.5\\\\- 0.5 i & 0.5 & 0.5 & - 0.5 i\\\\- 0.5 i & 0.5 & 0.5 & - 0.5 i\\\\0.5 & 0.5 i & 0.5 i & 0.5\\end{matrix}\\right]$"
      ],
      "text/plain": [
       "<IPython.core.display.Latex object>"
      ]
     },
     "metadata": {},
     "output_type": "display_data"
    },
    {
     "data": {
      "text/latex": [
       "$S H T=\\left[\\begin{matrix}0.5 & - 0.5 i & 0.354 - 0.354 i & 0.354 + 0.354 i\\\\0.5 i & 0.5 & 0.354 + 0.354 i & -0.354 + 0.354 i\\\\0.354 + 0.354 i & 0.354 - 0.354 i & 0.5 & 0.5 i\\\\0.354 - 0.354 i & -0.354 - 0.354 i & - 0.5 i & 0.5\\end{matrix}\\right]$"
      ],
      "text/plain": [
       "<IPython.core.display.Latex object>"
      ]
     },
     "metadata": {},
     "output_type": "display_data"
    },
    {
     "data": {
      "text/latex": [
       "$Px=\\left[\\begin{matrix}0.5 & 0.0 & 0.5 & 0.0\\\\0.0 & 0.5 & 0.0 & 0.5\\\\0.5 & 0.0 & 0.5 & 0.0\\\\0.0 & 0.5 & 0.0 & 0.5\\end{matrix}\\right]$"
      ],
      "text/plain": [
       "<IPython.core.display.Latex object>"
      ]
     },
     "metadata": {},
     "output_type": "display_data"
    },
    {
     "data": {
      "text/latex": [
       "$Py=\\left[\\begin{matrix}0.5 & 0 & 0.5 i & 0\\\\0 & 0.5 & 0 & 0.5 i\\\\- 0.5 i & 0 & 0.5 & 0\\\\0 & - 0.5 i & 0 & 0.5\\end{matrix}\\right]$"
      ],
      "text/plain": [
       "<IPython.core.display.Latex object>"
      ]
     },
     "metadata": {},
     "output_type": "display_data"
    },
    {
     "data": {
      "text/latex": [
       "$Pz=\\left[\\begin{matrix}1.0 & 0.0 & 0.0 & 0.0\\\\0.0 & 1.0 & 0.0 & 0.0\\\\0.0 & 0.0 & 0.0 & 0.0\\\\0.0 & 0.0 & 0.0 & 0.0\\end{matrix}\\right]$"
      ],
      "text/plain": [
       "<IPython.core.display.Latex object>"
      ]
     },
     "metadata": {},
     "output_type": "display_data"
    }
   ],
   "source": [
    "# 1-qubit CPTP maps (including T)\n",
    "B = noiseless_basis(1,include_T=True)\n",
    "\n",
    "#disp(G)\n",
    "if np.linalg.matrix_rank(G)==len(B):\n",
    "    print(f\"\\nThe following {len(B)} channels form a basis of 1q CPTP maps:\\n{list(B.keys())}\")\n",
    "\n",
    "    print(f'\\nHere are their Choi matrices:')\n",
    "    for k,v in B.items():\n",
    "        fancy_display(v,\" \".join(k))"
   ]
  },
  {
   "cell_type": "code",
   "execution_count": 142,
   "id": "02eea8fd",
   "metadata": {},
   "outputs": [
    {
     "name": "stdout",
     "output_type": "stream",
     "text": [
      "Loaded pre-computed basis \"1qbasis_cliff_noiseless.csv\"\n",
      "\n",
      "The following 13 channels form a basis of 1q CPTP maps:\n",
      "[('I',), ('H',), ('S',), ('H', 'S'), ('S', 'H'), ('S', 'S'), ('H', 'S', 'H'), ('H', 'S', 'S'), ('S', 'H', 'S'), ('S', 'H', 'S', 'S'), ('Px',), ('Py',), ('Pz',)]\n",
      "\n",
      "Here are their Choi matrices:\n"
     ]
    },
    {
     "data": {
      "text/latex": [
       "$I=\\left[\\begin{matrix}1.0 & 0 & 0 & 1.0\\\\0 & 0 & 0 & 0\\\\0 & 0 & 0 & 0\\\\1.0 & 0 & 0 & 1.0\\end{matrix}\\right]$"
      ],
      "text/plain": [
       "<IPython.core.display.Latex object>"
      ]
     },
     "metadata": {},
     "output_type": "display_data"
    },
    {
     "data": {
      "text/latex": [
       "$H=\\left[\\begin{matrix}0.5 & 0.5 & 0.5 & -0.5\\\\0.5 & 0.5 & 0.5 & -0.5\\\\0.5 & 0.5 & 0.5 & -0.5\\\\-0.5 & -0.5 & -0.5 & 0.5\\end{matrix}\\right]$"
      ],
      "text/plain": [
       "<IPython.core.display.Latex object>"
      ]
     },
     "metadata": {},
     "output_type": "display_data"
    },
    {
     "data": {
      "text/latex": [
       "$S=\\left[\\begin{matrix}1.0 & 0 & 0 & - 1.0 i\\\\0 & 0 & 0 & 0\\\\0 & 0 & 0 & 0\\\\1.0 i & 0 & 0 & 1.0\\end{matrix}\\right]$"
      ],
      "text/plain": [
       "<IPython.core.display.Latex object>"
      ]
     },
     "metadata": {},
     "output_type": "display_data"
    },
    {
     "data": {
      "text/latex": [
       "$H S=\\left[\\begin{matrix}0.5 & 0.5 & - 0.5 i & 0.5 i\\\\0.5 & 0.5 & - 0.5 i & 0.5 i\\\\0.5 i & 0.5 i & 0.5 & -0.5\\\\- 0.5 i & - 0.5 i & -0.5 & 0.5\\end{matrix}\\right]$"
      ],
      "text/plain": [
       "<IPython.core.display.Latex object>"
      ]
     },
     "metadata": {},
     "output_type": "display_data"
    },
    {
     "data": {
      "text/latex": [
       "$S H=\\left[\\begin{matrix}0.5 & - 0.5 i & 0.5 & 0.5 i\\\\0.5 i & 0.5 & 0.5 i & -0.5\\\\0.5 & - 0.5 i & 0.5 & 0.5 i\\\\- 0.5 i & -0.5 & - 0.5 i & 0.5\\end{matrix}\\right]$"
      ],
      "text/plain": [
       "<IPython.core.display.Latex object>"
      ]
     },
     "metadata": {},
     "output_type": "display_data"
    },
    {
     "data": {
      "text/latex": [
       "$S S=\\left[\\begin{matrix}1.0 & 0 & 0 & -1.0\\\\0 & 0 & 0 & 0\\\\0 & 0 & 0 & 0\\\\-1.0 & 0 & 0 & 1.0\\end{matrix}\\right]$"
      ],
      "text/plain": [
       "<IPython.core.display.Latex object>"
      ]
     },
     "metadata": {},
     "output_type": "display_data"
    },
    {
     "data": {
      "text/latex": [
       "$H S H=\\left[\\begin{matrix}0.5 & 0.5 i & 0.5 i & 0.5\\\\- 0.5 i & 0.5 & 0.5 & - 0.5 i\\\\- 0.5 i & 0.5 & 0.5 & - 0.5 i\\\\0.5 & 0.5 i & 0.5 i & 0.5\\end{matrix}\\right]$"
      ],
      "text/plain": [
       "<IPython.core.display.Latex object>"
      ]
     },
     "metadata": {},
     "output_type": "display_data"
    },
    {
     "data": {
      "text/latex": [
       "$H S S=\\left[\\begin{matrix}0.5 & 0.5 & -0.5 & 0.5\\\\0.5 & 0.5 & -0.5 & 0.5\\\\-0.5 & -0.5 & 0.5 & -0.5\\\\0.5 & 0.5 & -0.5 & 0.5\\end{matrix}\\right]$"
      ],
      "text/plain": [
       "<IPython.core.display.Latex object>"
      ]
     },
     "metadata": {},
     "output_type": "display_data"
    },
    {
     "data": {
      "text/latex": [
       "$S H S=\\left[\\begin{matrix}0.5 & - 0.5 i & - 0.5 i & 0.5\\\\0.5 i & 0.5 & 0.5 & 0.5 i\\\\0.5 i & 0.5 & 0.5 & 0.5 i\\\\0.5 & - 0.5 i & - 0.5 i & 0.5\\end{matrix}\\right]$"
      ],
      "text/plain": [
       "<IPython.core.display.Latex object>"
      ]
     },
     "metadata": {},
     "output_type": "display_data"
    },
    {
     "data": {
      "text/latex": [
       "$S H S S=\\left[\\begin{matrix}0.5 & - 0.5 i & -0.5 & - 0.5 i\\\\0.5 i & 0.5 & - 0.5 i & 0.5\\\\-0.5 & 0.5 i & 0.5 & 0.5 i\\\\0.5 i & 0.5 & - 0.5 i & 0.5\\end{matrix}\\right]$"
      ],
      "text/plain": [
       "<IPython.core.display.Latex object>"
      ]
     },
     "metadata": {},
     "output_type": "display_data"
    },
    {
     "data": {
      "text/latex": [
       "$Px=\\left[\\begin{matrix}0.5 & 0.0 & 0.5 & 0.0\\\\0.0 & 0.5 & 0.0 & 0.5\\\\0.5 & 0.0 & 0.5 & 0.0\\\\0.0 & 0.5 & 0.0 & 0.5\\end{matrix}\\right]$"
      ],
      "text/plain": [
       "<IPython.core.display.Latex object>"
      ]
     },
     "metadata": {},
     "output_type": "display_data"
    },
    {
     "data": {
      "text/latex": [
       "$Py=\\left[\\begin{matrix}0.5 & 0 & 0.5 i & 0\\\\0 & 0.5 & 0 & 0.5 i\\\\- 0.5 i & 0 & 0.5 & 0\\\\0 & - 0.5 i & 0 & 0.5\\end{matrix}\\right]$"
      ],
      "text/plain": [
       "<IPython.core.display.Latex object>"
      ]
     },
     "metadata": {},
     "output_type": "display_data"
    },
    {
     "data": {
      "text/latex": [
       "$Pz=\\left[\\begin{matrix}1.0 & 0.0 & 0.0 & 0.0\\\\0.0 & 1.0 & 0.0 & 0.0\\\\0.0 & 0.0 & 0.0 & 0.0\\\\0.0 & 0.0 & 0.0 & 0.0\\end{matrix}\\right]$"
      ],
      "text/plain": [
       "<IPython.core.display.Latex object>"
      ]
     },
     "metadata": {},
     "output_type": "display_data"
    }
   ],
   "source": [
    "# 1-qubit CPTP maps (only Cliffords)\n",
    "B = noiseless_basis(1,include_T=False)\n",
    "\n",
    "G = gram_matrix(list(B.values()))\n",
    "#disp(G)\n",
    "if np.linalg.matrix_rank(G)==len(B):\n",
    "    print(f\"\\nThe following {len(B)} channels form a basis of 1q CPTP maps:\\n{list(B.keys())}\")\n",
    "\n",
    "    print(f'\\nHere are their Choi matrices:')\n",
    "    for k,v in B.items():\n",
    "        fancy_display(v,\" \".join(k))"
   ]
  },
  {
   "cell_type": "code",
   "execution_count": 139,
   "id": "c74570cf-3e22-41ef-b54e-3f04ae64036d",
   "metadata": {},
   "outputs": [
    {
     "name": "stderr",
     "output_type": "stream",
     "text": [
      "[Qibo 0.2.16|INFO|2025-02-24 20:12:38]: Using numpy backend on /CPU:0\n"
     ]
    },
    {
     "name": "stdout",
     "output_type": "stream",
     "text": [
      "Loaded pre-computed basis \"1qbasis_cliffplusT_noiseless.csv\"\n",
      "Loaded pre-computed basis \"1qbasis_cliff_noiseless.csv\"\n",
      "\n",
      "--------- Random unitary channel:\n",
      "\n"
     ]
    },
    {
     "data": {
      "text/latex": [
       "$U=\\left[\\begin{matrix}1.0 & 0 & 0 & 0.707 - 0.707 i\\\\0 & 0 & 0 & 0\\\\0 & 0 & 0 & 0\\\\0.707 + 0.707 i & 0 & 0 & 1.0\\end{matrix}\\right]$"
      ],
      "text/plain": [
       "<IPython.core.display.Latex object>"
      ]
     },
     "metadata": {},
     "output_type": "display_data"
    },
    {
     "name": "stdout",
     "output_type": "stream",
     "text": [
      "\n",
      "--------- Clifford+T basis decomposition:\n",
      "\n"
     ]
    },
    {
     "data": {
      "text/latex": [
       "$c=\\left[\\begin{array}{ccccccccccccc}0 & 0 & 0 & 1.0 & 0 & 0 & 0 & 0 & 0 & 0 & 0 & 0 & 0\\end{array}\\right]$"
      ],
      "text/plain": [
       "<IPython.core.display.Latex object>"
      ]
     },
     "metadata": {},
     "output_type": "display_data"
    },
    {
     "name": "stdout",
     "output_type": "stream",
     "text": [
      "Non-null components at ['T']\n"
     ]
    },
    {
     "data": {
      "text/latex": [
       "$|c|_1=1.0$"
      ],
      "text/plain": [
       "<IPython.core.display.Latex object>"
      ]
     },
     "metadata": {},
     "output_type": "display_data"
    },
    {
     "name": "stdout",
     "output_type": "stream",
     "text": [
      "\n",
      "--------- Clifford basis decomposition:\n",
      "\n"
     ]
    },
    {
     "data": {
      "text/latex": [
       "$c=\\left[\\begin{array}{ccccccccccccc}0.5 & 0 & 0.707 & 0 & 0 & -0.207 & 0 & 0 & 0 & 0 & 0 & 0 & 0\\end{array}\\right]$"
      ],
      "text/plain": [
       "<IPython.core.display.Latex object>"
      ]
     },
     "metadata": {},
     "output_type": "display_data"
    },
    {
     "name": "stdout",
     "output_type": "stream",
     "text": [
      "Non-null components at ['I', 'S', 'S S']\n"
     ]
    },
    {
     "data": {
      "text/latex": [
       "$|c|_1=1.414$"
      ],
      "text/plain": [
       "<IPython.core.display.Latex object>"
      ]
     },
     "metadata": {},
     "output_type": "display_data"
    }
   ],
   "source": [
    "B_T = noiseless_basis(1,include_T=True)\n",
    "B_Cliff = noiseless_basis(1,include_T=False)\n",
    "\n",
    "# U = gates.UnitaryChannel(0,[(1.,qi.random_unitary(2))]).to_choi()\n",
    "U = gates.UnitaryChannel(0,[(1.,gates.T(0).matrix())]).to_choi()\n",
    "print(f'\\n--------- Random unitary channel:\\n')\n",
    "fancy_display(U,'U')\n",
    "\n",
    "for name,B in [('Clifford+T',B_T), ('Clifford',B_Cliff)]:\n",
    "    c = decomposition_coefficients(U, B)\n",
    "    negativity = np.linalg.norm(c,1)\n",
    "    \n",
    "    #sanity check\n",
    "    U_expanded = np.sum([c[i]*list(B.values())[i] for i in range(len(B))],0)\n",
    "    error = np.linalg.norm(U-U_expanded)\n",
    "    print(f'\\n--------- {name} basis decomposition:\\n')\n",
    "    fancy_display(c.reshape(1,-1),'c')\n",
    "    print(f'Non-null components at {[\" \".join(list(B.keys())[i]) for i in np.where(np.abs(c)>1e-4)[0]]}')\n",
    "    fancy_display(negativity,'|c|_1')"
   ]
  },
  {
   "cell_type": "code",
   "execution_count": 134,
   "id": "a73c0ebb-8805-47d8-baea-7719688436ce",
   "metadata": {},
   "outputs": [
    {
     "name": "stdout",
     "output_type": "stream",
     "text": [
      "Loaded pre-computed basis \"1qbasis_cliffplusT_noiseless.csv\"\n",
      "Loaded pre-computed basis \"1qbasis_cliff_noiseless.csv\"\n",
      "\n",
      "--------- Clifford+T basis decomposition:\n",
      "\n",
      "mean(|c|_1)=22.05, var(|c|_1)=423.02\n",
      "\n",
      "--------- Clifford basis decomposition:\n",
      "\n",
      "mean(|c|_1)=4.08, var(|c|_1)=5.74\n"
     ]
    },
    {
     "data": {
      "image/png": "[encoded data removed]",
      "text/plain": [
       "<Figure size 640x480 with 1 Axes>"
      ]
     },
     "metadata": {},
     "output_type": "display_data"
    }
   ],
   "source": [
    "# comparing the negativity of the two bases\n",
    "n_samples = 100\n",
    "\n",
    "B_T = noiseless_basis(1,include_T=True)\n",
    "B_Cliff = noiseless_basis(1,include_T=False)\n",
    "\n",
    "plt.figure()\n",
    "legends = []\n",
    "\n",
    "for name,B in [('Clifford+T',B_T), ('Clifford',B_Cliff)]:\n",
    "    negativity = []\n",
    "    for i in range(n_samples):\n",
    "        U = gates.UnitaryChannel(0,[(1.,qi.random_unitary(2))]).to_choi()\n",
    "        c = decomposition_coefficients(U, B)\n",
    "        negativity.append(np.linalg.norm(c,1))\n",
    "    print(f'\\n--------- {name} basis decomposition:\\n\\nmean(|c|_1)={np.mean(negativity).round(2)}, var(|c|_1)={np.var(negativity).round(2)}')\n",
    "    plt.plot(negativity)\n",
    "    legends.append(name)\n",
    "\n",
    "plt.xlabel('Instance',fontsize='large')\n",
    "plt.ylabel(r'$\\|c\\|_1$',fontsize='large')\n",
    "plt.yscale('log')\n",
    "plt.legend(legends);"
   ]
  },
  {
   "cell_type": "markdown",
   "id": "075e1a9e",
   "metadata": {},
   "source": [
    "# 2) Two-qubit basis"
   ]
  },
  {
   "cell_type": "code",
   "execution_count": null,
   "id": "8bdb304b",
   "metadata": {},
   "outputs": [
    {
     "name": "stderr",
     "output_type": "stream",
     "text": [
      "[Qibo 0.2.16|INFO|2025-02-24 21:56:38]: Using numpy backend on /CPU:0\n"
     ]
    },
    {
     "name": "stdout",
     "output_type": "stream",
     "text": [
      "dim(CPTP)=241\n",
      "\n",
      "['II', 'IH', 'IS', 'IT', 'HI', 'HH', 'HS', 'HT', 'SI', 'SH', 'SS', 'ST', 'TI', 'TH', 'TS', 'TT', 'CX', 'XC']\n",
      "17 18\n",
      "Starting sequences of L=2. There are 306 to try.\n"
     ]
    },
    {
     "data": {
      "application/vnd.jupyter.widget-view+json": {
       "model_id": "9cd0cdb029a74169933f7a2b311c24e4",
       "version_major": 2,
       "version_minor": 0
      },
      "text/plain": [
       "  0%|          | 0/306 [00:00<?, ?it/s]"
      ]
     },
     "metadata": {},
     "output_type": "display_data"
    },
    {
     "name": "stdout",
     "output_type": "stream",
     "text": [
      "Starting sequences of L=3. There are 1314 to try.\n"
     ]
    },
    {
     "data": {
      "application/vnd.jupyter.widget-view+json": {
       "model_id": "19c5dd37e31346569bb14fb801e856b8",
       "version_major": 2,
       "version_minor": 0
      },
      "text/plain": [
       "  0%|          | 0/1314 [00:00<?, ?it/s]"
      ]
     },
     "metadata": {},
     "output_type": "display_data"
    }
   ],
   "source": [
    "# 2-qubit CPTP maps (including T)\n",
    "B = noiseless_basis(2,include_T=True)\n",
    "\n",
    "print(f\"\\nThe following {len(B)} channels form a basis of 1q CPTP maps:\\n{list(B.keys())}\")\n",
    "# print(f'\\nHere are their Choi matrices:')\n",
    "# for v in B.values():\n",
    "#     print(f'{np.round(v,2)}')"
   ]
  },
  {
   "cell_type": "code",
   "execution_count": 182,
   "id": "7c16ea74",
   "metadata": {},
   "outputs": [
    {
     "name": "stderr",
     "output_type": "stream",
     "text": [
      "[Qibo 0.2.16|INFO|2025-02-24 21:51:31]: Using numpy backend on /CPU:0\n"
     ]
    },
    {
     "name": "stdout",
     "output_type": "stream",
     "text": [
      "dim(CPTP)=241\n",
      "\n",
      "Starting sequences of L=2. There are 100 to try.\n"
     ]
    },
    {
     "data": {
      "application/vnd.jupyter.widget-view+json": {
       "model_id": "0073071cb6b241138f7d0e2281906cae",
       "version_major": 2,
       "version_minor": 0
      },
      "text/plain": [
       "  0%|          | 0/100 [00:00<?, ?it/s]"
      ]
     },
     "metadata": {},
     "output_type": "display_data"
    },
    {
     "name": "stdout",
     "output_type": "stream",
     "text": [
      "Starting sequences of L=3. There are 420 to try.\n"
     ]
    },
    {
     "data": {
      "application/vnd.jupyter.widget-view+json": {
       "model_id": "02addf9ec63a46f8a6d3ba460ca18bbd",
       "version_major": 2,
       "version_minor": 0
      },
      "text/plain": [
       "  0%|          | 0/420 [00:00<?, ?it/s]"
      ]
     },
     "metadata": {},
     "output_type": "display_data"
    },
    {
     "name": "stdout",
     "output_type": "stream",
     "text": [
      "Starting sequences of L=4. There are 1110 to try.\n"
     ]
    },
    {
     "data": {
      "application/vnd.jupyter.widget-view+json": {
       "model_id": "3d0cb212e93e4039a35a53e9b14383b2",
       "version_major": 2,
       "version_minor": 0
      },
      "text/plain": [
       "  0%|          | 0/1110 [00:00<?, ?it/s]"
      ]
     },
     "metadata": {},
     "output_type": "display_data"
    },
    {
     "name": "stdout",
     "output_type": "stream",
     "text": [
      "Starting sequences of L=5. There are 580 to try.\n"
     ]
    },
    {
     "data": {
      "application/vnd.jupyter.widget-view+json": {
       "model_id": "bb50ca6326f046d2a953e580a48c8c12",
       "version_major": 2,
       "version_minor": 0
      },
      "text/plain": [
       "  0%|          | 0/580 [00:00<?, ?it/s]"
      ]
     },
     "metadata": {},
     "output_type": "display_data"
    },
    {
     "name": "stdout",
     "output_type": "stream",
     "text": [
      "Success!\n",
      "Achieved rank(G)=226\n",
      "\n",
      "Adding now state prep channels\n"
     ]
    },
    {
     "data": {
      "application/vnd.jupyter.widget-view+json": {
       "model_id": "2eeb6bf2e6b44863ac45139156051a7c",
       "version_major": 2,
       "version_minor": 0
      },
      "text/plain": [
       "  0%|          | 0/15 [00:00<?, ?it/s]"
      ]
     },
     "metadata": {},
     "output_type": "display_data"
    },
    {
     "name": "stdout",
     "output_type": "stream",
     "text": [
      "Success!\n",
      "Achieved rank(G)=241. Results were written at file \"2qbasis_cliff_noiseless.csv\"\n",
      "\n",
      "The following 241 channels form a basis of 1q CPTP maps:\n",
      "[('II',), ('IH',), ('IS',), ('HI',), ('HH',), ('HS',), ('SI',), ('SH',), ('SS',), ('CX',), ('IH', 'IS'), ('IH', 'HS'), ('IH', 'SS'), ('IH', 'CX'), ('IS', 'IH'), ('IS', 'IS'), ('IS', 'HH'), ('IS', 'HS'), ('IS', 'SH'), ('IS', 'SS'), ('IS', 'CX'), ('HI', 'SI'), ('HI', 'SH'), ('HI', 'SS'), ('HI', 'CX'), ('HH', 'SS'), ('HH', 'CX'), ('HS', 'SH'), ('HS', 'SS'), ('HS', 'CX'), ('SI', 'HI'), ('SI', 'HH'), ('SI', 'HS'), ('SI', 'SI'), ('SI', 'SH'), ('SI', 'SS'), ('SI', 'CX'), ('SH', 'HS'), ('SH', 'SS'), ('SH', 'CX'), ('SS', 'HH'), ('SS', 'HS'), ('SS', 'SH'), ('SS', 'SS'), ('SS', 'CX'), ('CX', 'IH'), ('CX', 'IS'), ('CX', 'HI'), ('CX', 'HH'), ('CX', 'HS'), ('CX', 'SH'), ('CX', 'SS'), ('IH', 'IS', 'IH'), ('IH', 'IS', 'IS'), ('IH', 'IS', 'HH'), ('IH', 'IS', 'HS'), ('IH', 'IS', 'SH'), ('IH', 'IS', 'SS'), ('IH', 'IS', 'CX'), ('IH', 'HS', 'SH'), ('IH', 'HS', 'SS'), ('IH', 'HS', 'CX'), ('IH', 'SS', 'HH'), ('IH', 'SS', 'HS'), ('IH', 'SS', 'SH'), ('IH', 'SS', 'SS'), ('IH', 'SS', 'CX'), ('IH', 'CX', 'IH'), ('IH', 'CX', 'IS'), ('IH', 'CX', 'HI'), ('IH', 'CX', 'HH'), ('IH', 'CX', 'HS'), ('IH', 'CX', 'SH'), ('IH', 'CX', 'SS'), ('IS', 'IH', 'IS'), ('IS', 'IH', 'HS'), ('IS', 'IH', 'SS'), ('IS', 'IH', 'CX'), ('IS', 'IS', 'CX'), ('IS', 'HH', 'SS'), ('IS', 'HH', 'CX'), ('IS', 'HS', 'CX'), ('IS', 'SH', 'HS'), ('IS', 'CX', 'IH'), ('IS', 'CX', 'IS'), ('IS', 'CX', 'HI'), ('IS', 'CX', 'HH'), ('IS', 'CX', 'HS'), ('HI', 'SI', 'HI'), ('HI', 'SI', 'HH'), ('HI', 'SI', 'HS'), ('HI', 'SI', 'SI'), ('HI', 'SI', 'SH'), ('HI', 'SI', 'SS'), ('HI', 'SI', 'CX'), ('HI', 'SH', 'HS'), ('HI', 'SH', 'SS'), ('HI', 'SH', 'CX'), ('HI', 'SS', 'HH'), ('HI', 'SS', 'HS'), ('HI', 'SS', 'SH'), ('HI', 'SS', 'SS'), ('HI', 'SS', 'CX'), ('HI', 'CX', 'IH'), ('HI', 'CX', 'IS'), ('HI', 'CX', 'HI'), ('HI', 'CX', 'HH'), ('HI', 'CX', 'HS'), ('HI', 'CX', 'SH'), ('HI', 'CX', 'SS'), ('HH', 'SS', 'HH'), ('HH', 'SS', 'HS'), ('HH', 'SS', 'SH'), ('HH', 'SS', 'SS'), ('HH', 'SS', 'CX'), ('HH', 'CX', 'IH'), ('HH', 'CX', 'IS'), ('HH', 'CX', 'HI'), ('HH', 'CX', 'HH'), ('HH', 'CX', 'HS'), ('HH', 'CX', 'SH'), ('HH', 'CX', 'SS'), ('HS', 'SH', 'HS'), ('HS', 'CX', 'IH'), ('HS', 'CX', 'IS'), ('HS', 'CX', 'HI'), ('HS', 'CX', 'HH'), ('HS', 'CX', 'HS'), ('SI', 'HI', 'SI'), ('SI', 'HI', 'SH'), ('SI', 'HI', 'CX'), ('SI', 'HH', 'SS'), ('SI', 'HH', 'CX'), ('SI', 'HS', 'SH'), ('SI', 'HS', 'SS'), ('SI', 'HS', 'CX'), ('SI', 'SI', 'CX'), ('SI', 'SH', 'CX'), ('SI', 'SS', 'CX'), ('SI', 'CX', 'HI'), ('SI', 'CX', 'HH'), ('SI', 'CX', 'HS'), ('SH', 'HS', 'SS'), ('SH', 'HS', 'CX'), ('SH', 'SS', 'CX'), ('SH', 'CX', 'HI'), ('SH', 'CX', 'HS'), ('SS', 'HH', 'CX'), ('SS', 'HS', 'CX'), ('SS', 'CX', 'HI'), ('CX', 'IH', 'HS'), ('CX', 'IS', 'HH'), ('CX', 'IS', 'HS'), ('CX', 'HI', 'SI'), ('CX', 'HI', 'SH'), ('CX', 'HI', 'SS'), ('CX', 'HI', 'CX'), ('CX', 'HH', 'SS'), ('CX', 'HH', 'CX'), ('CX', 'HS', 'SH'), ('CX', 'HS', 'SS'), ('CX', 'HS', 'CX'), ('CX', 'SS', 'HH'), ('IH', 'IS', 'HH', 'CX'), ('IH', 'IS', 'HS', 'CX'), ('IH', 'IS', 'CX', 'HI'), ('IH', 'IS', 'CX', 'HH'), ('IH', 'IS', 'CX', 'HS'), ('IH', 'HS', 'CX', 'IS'), ('IH', 'HS', 'CX', 'HI'), ('IH', 'SS', 'HH', 'CX'), ('IH', 'SS', 'HS', 'CX'), ('IH', 'CX', 'IS', 'HH'), ('IH', 'CX', 'HI', 'SI'), ('IH', 'CX', 'HI', 'SH'), ('IH', 'CX', 'HI', 'SS'), ('IH', 'CX', 'HI', 'CX'), ('IH', 'CX', 'HH', 'SS'), ('IH', 'CX', 'HH', 'CX'), ('IH', 'CX', 'HS', 'SH'), ('IH', 'CX', 'HS', 'SS'), ('IH', 'CX', 'HS', 'CX'), ('IS', 'IH', 'IS', 'IS'), ('IS', 'IH', 'IS', 'HS'), ('IS', 'IH', 'HS', 'SS'), ('IS', 'SH', 'HS', 'CX'), ('IS', 'CX', 'HI', 'SI'), ('IS', 'CX', 'HI', 'SH'), ('IS', 'CX', 'HI', 'SS'), ('IS', 'CX', 'HI', 'CX'), ('IS', 'CX', 'HH', 'SS'), ('IS', 'CX', 'HH', 'CX'), ('IS', 'CX', 'HS', 'SH'), ('IS', 'CX', 'HS', 'SS'), ('IS', 'CX', 'HS', 'CX'), ('HI', 'SI', 'HI', 'CX'), ('HI', 'SI', 'HH', 'CX'), ('HI', 'SI', 'HS', 'CX'), ('HI', 'SH', 'HS', 'CX'), ('HI', 'SS', 'HH', 'CX'), ('HI', 'SS', 'HS', 'CX'), ('HI', 'CX', 'HI', 'SI'), ('HI', 'CX', 'HI', 'SH'), ('HI', 'CX', 'HI', 'SS'), ('HI', 'CX', 'HH', 'CX'), ('HI', 'CX', 'HS', 'CX'), ('HH', 'CX', 'HH', 'CX'), ('SI', 'HI', 'CX', 'IH'), ('SI', 'HI', 'CX', 'IS'), ('SI', 'HI', 'CX', 'HH'), ('SI', 'HI', 'CX', 'HS'), ('SI', 'HH', 'CX', 'IH'), ('SI', 'CX', 'HH', 'CX'), ('SI', 'CX', 'HS', 'CX'), ('CX', 'HI', 'SI', 'HH'), ('CX', 'HI', 'SI', 'HS'), ('CX', 'HI', 'SH', 'CX'), ('CX', 'HI', 'SS', 'CX'), ('CX', 'HH', 'CX', 'IH'), ('CX', 'HH', 'CX', 'HI'), ('CX', 'HS', 'CX', 'HI'), ('IH', 'CX', 'HI', 'SI', 'HH'), ('IH', 'CX', 'HI', 'SH', 'CX'), ('IH', 'CX', 'HH', 'CX', 'HI'), ('HI', 'CX', 'HH', 'CX', 'IH'), ('SI', 'CX', 'HH', 'CX', 'IH'), ('PxI',), ('PyI',), ('PzI',), ('IPx',), ('IPy',), ('IPz',), ('PxPx',), ('PxPy',), ('PxPz',), ('PyPx',), ('PyPy',), ('PyPz',), ('PzPx',), ('PzPy',), ('PzPz',)]\n"
     ]
    }
   ],
   "source": [
    "# 2-qubit CPTP maps (excluding T)\n",
    "B = noiseless_basis(2,include_T=False)\n",
    "\n",
    "print(f\"\\nThe following {len(B)} channels form a basis of 1q CPTP maps:\\n{list(B.keys())}\")\n",
    "# print(f'\\nHere are their Choi matrices:')\n",
    "# for v in B.values():\n",
    "#     print(f'{np.round(v,2)}')"
   ]
  },
  {
   "cell_type": "code",
   "execution_count": 34,
   "id": "e36c4f02-82d7-48b5-91bc-cf1a727f9031",
   "metadata": {},
   "outputs": [
    {
     "name": "stdout",
     "output_type": "stream",
     "text": [
      "Loaded pre-computed basis \"2qbasis_cliffplusT_noiseless.csv\"\n",
      "Loaded pre-computed basis \"2qbasis_cliff_noiseless.csv\"\n",
      "\n",
      "--------- Random unitary channel:\n",
      "\n",
      "U=[[ 0.76+0.j    0.12-0.02j  0.38-0.01j  0.15-0.06j  0.01-0.02j  0.43-0.59j\n",
      "  -0.22+0.05j  0.21+0.36j -0.4 -0.05j  0.23-0.11j  0.72+0.12j  0.02-0.05j\n",
      "  -0.14-0.j    0.17+0.33j -0.08-0.19j  0.74-0.1j ]\n",
      " [ 0.12+0.02j  0.02+0.j    0.06+0.01j  0.02-0.01j  0.  -0.j    0.08-0.09j\n",
      "  -0.04+0.j    0.03+0.06j -0.06-0.02j  0.04-0.01j  0.11+0.03j  0.  -0.01j\n",
      "  -0.02-0.j    0.02+0.06j -0.01-0.03j  0.12-0.j  ]\n",
      " [ 0.38+0.01j  0.06-0.01j  0.19-0.j    0.07-0.03j  0.01-0.01j  0.22-0.29j\n",
      "  -0.11+0.02j  0.1 +0.18j -0.2 -0.03j  0.12-0.05j  0.35+0.07j  0.01-0.02j\n",
      "  -0.07-0.j    0.08+0.17j -0.04-0.09j  0.37-0.04j]\n",
      " [ 0.15+0.06j  0.02+0.01j  0.07+0.03j  0.03-0.j    0.  -0.j    0.13-0.08j\n",
      "  -0.05-0.01j  0.01+0.08j -0.07-0.04j  0.05-0.j    0.13+0.08j  0.01-0.01j\n",
      "  -0.03-0.01j  0.01+0.08j -0.  -0.04j  0.15+0.04j]\n",
      " [ 0.01+0.02j  0.  +0.j    0.01+0.01j  0.  +0.j    0.  +0.j    0.02-0.j\n",
      "  -0.01-0.j   -0.01+0.01j -0.01-0.01j  0.01+0.j    0.01+0.02j  0.  -0.j\n",
      "  -0.  -0.j   -0.01+0.01j  0.  -0.01j  0.02+0.02j]\n",
      " [ 0.43+0.59j  0.08+0.09j  0.22+0.29j  0.13+0.08j  0.02+0.j    0.71-0.j\n",
      "  -0.16-0.14j -0.16+0.36j -0.19-0.34j  0.22+0.12j  0.32+0.63j  0.05-0.01j\n",
      "  -0.08-0.11j -0.16+0.32j  0.1 -0.17j  0.5 +0.52j]\n",
      " [-0.22-0.05j -0.04-0.j   -0.11-0.02j -0.05+0.01j -0.01+0.j   -0.16+0.14j\n",
      "   0.07+0.j   -0.03-0.12j  0.11+0.04j -0.07+0.02j -0.2 -0.08j -0.01+0.01j\n",
      "   0.04+0.01j -0.03-0.11j  0.01+0.06j -0.22-0.02j]\n",
      " [ 0.21-0.36j  0.03-0.06j  0.1 -0.18j  0.01-0.08j -0.01-0.01j -0.16-0.36j\n",
      "  -0.03+0.12j  0.22-0.j   -0.13+0.18j  0.01-0.14j  0.25-0.31j -0.02-0.02j\n",
      "  -0.04+0.06j  0.2 +0.01j -0.11-0.01j  0.15-0.38j]\n",
      " [-0.4 +0.05j -0.06+0.02j -0.2 +0.03j -0.07+0.04j -0.01+0.01j -0.19+0.34j\n",
      "   0.11-0.04j -0.13-0.18j  0.21-0.j   -0.12+0.07j -0.39-0.02j -0.01+0.03j\n",
      "   0.07-0.01j -0.11-0.16j  0.05+0.09j -0.39+0.1j ]\n",
      " [ 0.23+0.11j  0.04+0.01j  0.12+0.05j  0.05+0.j    0.01-0.j    0.22-0.12j\n",
      "  -0.07-0.02j  0.01+0.14j -0.12-0.07j  0.09-0.j    0.2 +0.14j  0.01-0.01j\n",
      "  -0.04-0.02j  0.  +0.13j  0.  -0.07j  0.24+0.08j]\n",
      " [ 0.72-0.12j  0.11-0.03j  0.35-0.07j  0.13-0.08j  0.01-0.02j  0.32-0.63j\n",
      "  -0.2 +0.08j  0.25+0.31j -0.39+0.02j  0.2 -0.14j  0.69-0.j    0.01-0.05j\n",
      "  -0.13+0.02j  0.21+0.28j -0.1 -0.16j  0.68-0.21j]\n",
      " [ 0.02+0.05j  0.  +0.01j  0.01+0.02j  0.01+0.01j  0.  +0.j    0.05+0.01j\n",
      "  -0.01-0.01j -0.02+0.02j -0.01-0.03j  0.01+0.01j  0.01+0.05j  0.  -0.j\n",
      "  -0.  -0.01j -0.02+0.02j  0.01-0.01j  0.03+0.04j]\n",
      " [-0.14+0.j   -0.02+0.j   -0.07+0.j   -0.03+0.01j -0.  +0.j   -0.08+0.11j\n",
      "   0.04-0.01j -0.04-0.06j  0.07+0.01j -0.04+0.02j -0.13-0.02j -0.  +0.01j\n",
      "   0.02-0.j   -0.03-0.06j  0.01+0.03j -0.13+0.02j]\n",
      " [ 0.17-0.33j  0.02-0.06j  0.08-0.17j  0.01-0.08j -0.01-0.01j -0.16-0.32j\n",
      "  -0.03+0.11j  0.2 -0.01j -0.11+0.16j  0.  -0.13j  0.21-0.28j -0.02-0.02j\n",
      "  -0.03+0.06j  0.18+0.j   -0.1 -0.01j  0.12-0.35j]\n",
      " [-0.08+0.19j -0.01+0.03j -0.04+0.09j -0.  +0.04j  0.  +0.01j  0.1 +0.17j\n",
      "   0.01-0.06j -0.11+0.01j  0.05-0.09j  0.  +0.07j -0.1 +0.16j  0.01+0.01j\n",
      "   0.01-0.03j -0.1 +0.01j  0.05-0.j   -0.05+0.19j]\n",
      " [ 0.74+0.1j   0.12+0.j    0.37+0.04j  0.15-0.04j  0.02-0.02j  0.5 -0.52j\n",
      "  -0.22+0.02j  0.15+0.38j -0.39-0.1j   0.24-0.08j  0.68+0.21j  0.03-0.04j\n",
      "  -0.13-0.02j  0.12+0.35j -0.05-0.19j  0.74+0.j  ]]\n",
      "\n",
      "--------- Clifford+T basis decomposition:\n",
      "\n",
      "c=[ 5.0080e+01+0.j  7.0620e+01+0.j -1.4770e+01-0.j -3.4300e+00-0.j\n",
      "  1.3180e+01-0.j  9.5900e+00-0.j -1.4750e+01-0.j -8.9600e+00-0.j\n",
      " -5.0000e-01+0.j -3.8160e+01-0.j -9.0390e+01+0.j -8.7890e+01+0.j\n",
      "  1.3480e+01-0.j  2.6150e+01+0.j  2.8320e+01+0.j  4.3694e+02+0.j\n",
      " -1.5300e+01-0.j  6.5950e+01+0.j -3.1000e+00+0.j -2.5070e+01-0.j\n",
      " -1.9110e+01-0.j -2.6500e+02-0.j  3.2160e+01+0.j  3.8620e+01+0.j\n",
      "  2.0570e+01+0.j  2.4525e+02+0.j -2.6020e+01-0.j -1.4460e+01-0.j\n",
      " -8.9700e+01-0.j -4.5276e+02-0.j  9.3770e+01+0.j  1.3910e+01+0.j\n",
      " -9.6250e+01-0.j -1.3030e+01-0.j -3.2990e+01-0.j -1.3410e+01-0.j\n",
      " -3.4800e+00-0.j  1.0958e+02+0.j  2.5600e+00+0.j -1.0040e+01-0.j\n",
      "  4.4960e+01+0.j -1.4400e+00+0.j -6.0000e-02-0.j -4.4040e+01+0.j\n",
      "  9.3610e+01+0.j -2.4410e+01-0.j  5.0860e+01+0.j -4.8700e+00-0.j\n",
      " -1.9260e+01-0.j -1.1407e+02-0.j -4.4200e+00+0.j -3.2120e+01-0.j\n",
      " -4.3970e+01-0.j  7.3820e+01+0.j  3.1200e+00-0.j -6.5800e+00-0.j\n",
      " -1.0023e+02-0.j -4.4100e+00+0.j -2.0000e-02+0.j  4.5170e+01+0.j\n",
      "  2.6500e+00+0.j -2.3970e+01-0.j  3.1120e+01+0.j -1.1900e+00-0.j\n",
      "  2.1560e+01+0.j  2.7900e+00-0.j  2.1570e+01+0.j -6.4000e+01-0.j\n",
      "  4.7100e+00+0.j -5.1500e+00-0.j -1.2600e+00-0.j  1.0170e+01+0.j\n",
      " -2.3600e+00+0.j  9.0000e-01-0.j -2.6740e+01-0.j  9.1000e-01+0.j\n",
      " -4.3400e+00-0.j -1.5500e+00+0.j  1.7400e+00+0.j  2.0520e+01+0.j\n",
      "  1.0660e+01+0.j -7.1400e+00-0.j  1.7500e+00+0.j -1.8590e+01+0.j\n",
      "  1.1810e+01+0.j  4.2940e+01-0.j -2.7660e+01+0.j -1.1015e+02-0.j\n",
      " -1.1200e+00-0.j  1.4531e+02-0.j -1.3697e+02-0.j -6.0010e+01-0.j\n",
      "  8.8200e+00-0.j  4.9030e+01+0.j  1.7801e+02+0.j -2.6750e+02-0.j\n",
      " -2.1935e+02-0.j  2.6360e+01+0.j  2.6500e+01+0.j  4.7207e+02+0.j\n",
      " -4.8000e-01+0.j  5.3000e-01+0.j -1.4400e+00+0.j -2.5200e+00-0.j\n",
      "  1.1808e+02+0.j -9.2540e+01-0.j -1.8110e+01-0.j  3.6200e+00+0.j\n",
      "  1.5380e+01+0.j  3.9800e+00+0.j  1.9620e+01+0.j -4.3970e+01-0.j\n",
      "  2.6090e+01+0.j -2.7800e+01-0.j -3.5500e+00-0.j  5.8100e+00+0.j\n",
      "  6.8890e+01+0.j -4.6070e+01-0.j -7.3400e+00-0.j -3.3500e+00-0.j\n",
      " -8.7900e+00-0.j  2.0000e-02-0.j -1.1500e+01-0.j  6.2000e-01-0.j\n",
      " -2.4500e+00-0.j  2.5300e+00+0.j  2.9000e-01+0.j  2.5100e+00+0.j\n",
      " -9.5100e+00-0.j  9.9700e+00+0.j -5.0420e+01-0.j -8.0000e-02+0.j\n",
      " -2.6150e+01-0.j  3.9000e-01-0.j  6.2080e+01+0.j -3.4900e+00-0.j\n",
      " -1.0300e+01+0.j  3.3100e+01+0.j  2.5220e+01+0.j -1.0200e+00+0.j\n",
      " -8.9900e+00-0.j -5.6890e+01-0.j  1.6590e+01+0.j  1.4320e+01+0.j\n",
      "  1.4300e+00-0.j  9.2000e-01-0.j -3.4760e+01-0.j -7.1000e-01+0.j\n",
      " -1.6460e+01-0.j  1.9000e-01+0.j  1.7700e+00-0.j  2.6320e+01+0.j\n",
      "  8.6000e-01-0.j  3.7900e+00-0.j  2.6900e+00+0.j -4.0000e-02-0.j\n",
      " -3.9900e+00+0.j  1.0960e+01+0.j -3.2000e-01-0.j -5.6000e-01+0.j\n",
      "  3.4000e-01-0.j -7.5400e+00-0.j  1.3600e+00-0.j  3.3000e-01-0.j\n",
      "  6.3500e+00+0.j -5.5500e+00-0.j  3.1200e+00+0.j  6.3000e-01+0.j\n",
      "  2.1900e+00+0.j -9.0200e+00-0.j -8.0000e-01+0.j  5.3000e-01+0.j\n",
      " -1.8000e-01+0.j -8.2000e-01-0.j  3.0210e+01+0.j  5.2100e+01+0.j\n",
      " -1.4700e+00-0.j -8.1840e+01-0.j  9.6150e+01+0.j -3.5300e+00-0.j\n",
      "  9.0000e-02+0.j  5.5000e-01-0.j  5.4900e+00+0.j  6.1000e+00+0.j\n",
      " -1.4590e+01-0.j -9.1000e-01+0.j -4.0300e+00-0.j  1.4510e+01+0.j\n",
      "  4.1970e+01+0.j  1.2500e+00+0.j -4.7630e+01-0.j  2.1000e-01-0.j\n",
      "  4.8000e-01-0.j  5.9000e-01-0.j -3.3000e-01+0.j -2.9510e+01-0.j\n",
      "  2.4000e-01-0.j -1.8000e-01-0.j -9.2600e+00-0.j -6.6700e+00-0.j\n",
      "  6.7600e+00+0.j  3.2000e-01-0.j -6.1500e+00-0.j -4.5000e-01+0.j\n",
      " -3.6000e-01+0.j  0.0000e+00+0.j -5.5300e+00-0.j  5.4200e+00+0.j\n",
      " -5.8000e-01-0.j  1.9850e+01+0.j  5.0000e-02+0.j  2.4000e-01-0.j\n",
      " -2.2600e+00-0.j -2.4000e-01-0.j  4.9000e-01-0.j -3.9000e-01-0.j\n",
      " -1.8000e-01-0.j  7.0000e-02+0.j -6.0000e-01+0.j  1.7900e+00-0.j\n",
      "  2.0000e-02+0.j  1.0000e-01-0.j -1.0000e-02-0.j -8.0000e-02+0.j\n",
      "  5.0000e-02-0.j  1.6000e-01-0.j  0.0000e+00-0.j -0.0000e+00-0.j\n",
      " -0.0000e+00-0.j  0.0000e+00-0.j  0.0000e+00-0.j  0.0000e+00+0.j\n",
      " -0.0000e+00-0.j -0.0000e+00+0.j -0.0000e+00+0.j -0.0000e+00+0.j\n",
      "  0.0000e+00+0.j -0.0000e+00-0.j  0.0000e+00+0.j  0.0000e+00-0.j\n",
      " -0.0000e+00+0.j]\n",
      "\n",
      "|c|_1=6904.69\n",
      "\n",
      "error=0.0\n",
      "\n",
      "--------- Clifford basis decomposition:\n",
      "\n",
      "c=[-0.54-0.j -1.04+0.j -2.12+0.j  1.24-0.j  1.44-0.j -3.69+0.j -0.19-0.j\n",
      "  0.99-0.j -0.09+0.j -1.71+0.j -2.82+0.j -5.15+0.j  1.43-0.j -0.46+0.j\n",
      "  4.05-0.j  4.63-0.j  0.98-0.j -1.09-0.j -1.22+0.j  0.08-0.j  2.8 +0.j\n",
      "  1.69-0.j  0.52+0.j -1.5 -0.j  0.33-0.j  1.38-0.j -0.42+0.j -0.47-0.j\n",
      "  2.03-0.j  0.15+0.j -0.49+0.j  0.97-0.j  4.65-0.j  5.16-0.j -0.41+0.j\n",
      "  0.48-0.j -0.61+0.j -0.76-0.j -2.06-0.j -0.73+0.j -0.93+0.j  0.27-0.j\n",
      "  0.05-0.j  0.25+0.j -0.35+0.j  1.66+0.j -0.1 -0.j  0.62+0.j -0.67+0.j\n",
      "  0.02-0.j -0.45-0.j  0.75+0.j -0.01-0.j -0.82-0.j  0.45-0.j -0.1 -0.j\n",
      "  0.4 +0.j  0.32+0.j  1.19+0.j -1.34+0.j  0.47-0.j  0.08+0.j  1.43-0.j\n",
      " -0.05-0.j  0.11+0.j -0.79+0.j -0.31+0.j  0.63-0.j -1.16+0.j  1.2 -0.j\n",
      "  1.45-0.j  0.08+0.j  1.13+0.j  0.43-0.j  0.4 -0.j -1.44+0.j  0.24+0.j\n",
      "  0.01-0.j -0.82-0.j -1.66+0.j -3.16+0.j  2.02+0.j  0.1 +0.j  0.44+0.j\n",
      " -0.21+0.j  1.56-0.j  0.89+0.j  0.17+0.j -1.23+0.j -0.24+0.j  0.87-0.j\n",
      " -0.04-0.j  0.02+0.j -1.27-0.j  0.08-0.j  0.07+0.j  0.4 -0.j  1.03-0.j\n",
      " -0.21+0.j  0.41-0.j -0.18+0.j -0.05+0.j  1.05+0.j  0.09+0.j -1.36-0.j\n",
      " -1.4 +0.j  1.07-0.j -0.04-0.j -0.36-0.j  0.4 -0.j -1.04+0.j -0.4 +0.j\n",
      " -0.09-0.j -0.32+0.j  1.21+0.j  0.37+0.j -0.27-0.j  0.44-0.j -0.33+0.j\n",
      "  0.31-0.j -0.22-0.j -1.72-0.j -0.26-0.j  0.23-0.j  0.82-0.j -0.23+0.j\n",
      "  0.18-0.j -1.36+0.j -0.12+0.j  0.31+0.j  0.42+0.j -1.18+0.j -0.11+0.j\n",
      " -1.44+0.j -0.07-0.j  1.08+0.j -2.71+0.j -2.2 +0.j -0.35-0.j  0.28-0.j\n",
      " -1.07-0.j -0.96-0.j  0.63+0.j -0.1 -0.j -1.42+0.j -1.53+0.j  1.22-0.j\n",
      "  1.32-0.j -0.25+0.j  0.08+0.j -0.46+0.j -0.25-0.j  0.19-0.j  0.12-0.j\n",
      " -0.17+0.j -0.11+0.j -0.45-0.j -0.92+0.j -0.32-0.j -0.76+0.j  0.36-0.j\n",
      " -2.16+0.j -0.37+0.j  0.62-0.j  0.12-0.j  1.18-0.j -0.46+0.j  1.26-0.j\n",
      " -1.1 +0.j -0.11-0.j  0.08-0.j -0.44+0.j  0.14-0.j -0.  -0.j  0.68+0.j\n",
      "  0.96-0.j  1.46-0.j  0.22-0.j  0.11-0.j  0.01-0.j  0.04+0.j  1.1 +0.j\n",
      " -0.27-0.j -0.72+0.j  0.24-0.j  0.22+0.j  0.22+0.j  0.19+0.j  0.27-0.j\n",
      "  0.15-0.j -0.06+0.j  0.28-0.j  0.19-0.j  0.03-0.j -0.39+0.j -0.11+0.j\n",
      "  0.66-0.j -0.05+0.j -0.1 +0.j -0.07+0.j  0.27+0.j -0.22+0.j -0.11+0.j\n",
      " -0.16+0.j  0.06-0.j  0.22-0.j  0.06-0.j -0.28+0.j -0.34+0.j -0.22-0.j\n",
      " -0.17+0.j  0.1 +0.j -0.12+0.j  0.35-0.j  0.52+0.j -0.66+0.j  0.17-0.j\n",
      "  0.13+0.j -0.01+0.j -0.05+0.j -0.06+0.j -0.01+0.j  0.01-0.j -0.08-0.j\n",
      "  0.05-0.j  0.16+0.j -0.  -0.j -0.  -0.j  0.  -0.j -0.  -0.j -0.  -0.j\n",
      "  0.  +0.j  0.  -0.j  0.  +0.j -0.  -0.j  0.  -0.j  0.  +0.j -0.  +0.j\n",
      "  0.  +0.j -0.  -0.j  0.  -0.j]\n",
      "\n",
      "|c|_1=161.82\n",
      "\n",
      "error=0.0\n",
      "\n"
     ]
    }
   ],
   "source": [
    "B_T = noiseless_basis(2,include_T=True)\n",
    "B_Cliff = noiseless_basis(2,include_T=False)\n",
    "\n",
    "U = gates.UnitaryChannel((0,1),[(1.,qi.random_unitary(4))]).to_choi()\n",
    "print(f'\\n--------- Random unitary channel:\\n\\nU={np.round(U,2)}\\n')\n",
    "\n",
    "for name,B in [('Clifford+T',B_T), ('Clifford',B_Cliff)]:\n",
    "    c = decomposition_coefficients(U, B)\n",
    "    negativity = np.linalg.norm(c,1)\n",
    "    \n",
    "    #sanity check\n",
    "    U_expanded = np.sum([c[i]*list(B.values())[i] for i in range(len(B))],0)\n",
    "    error = np.linalg.norm(U-U_expanded)\n",
    "    print(f'--------- {name} basis decomposition:\\n\\nc={np.round(c,2)}\\n\\n|c|_1={np.round(negativity,2)}\\n\\nerror={np.round(error,2)}\\n')"
   ]
  },
  {
   "cell_type": "code",
   "execution_count": 43,
   "id": "1efbdbe9-d958-4763-87cd-0eb46cd3d571",
   "metadata": {},
   "outputs": [
    {
     "name": "stdout",
     "output_type": "stream",
     "text": [
      "Loaded pre-computed basis \"2qbasis_cliffplusT_noiseless.csv\"\n",
      "Loaded pre-computed basis \"2qbasis_cliff_noiseless.csv\"\n",
      "\n",
      "--------- Clifford+T basis decomposition:\n",
      "\n",
      "mean(|c|_1)=9748.01759093078, var(|c|_1)=64800349.78208275\n",
      "\n",
      "--------- Clifford basis decomposition:\n",
      "\n",
      "mean(|c|_1)=779.8194226527256, var(|c|_1)=191790.53187643754\n"
     ]
    },
    {
     "data": {
      "image/png": "[encoded data removed]",
      "text/plain": [
       "<Figure size 640x480 with 1 Axes>"
      ]
     },
     "metadata": {},
     "output_type": "display_data"
    }
   ],
   "source": [
    "# comparing the negativity of the two bases\n",
    "n_samples = 100\n",
    "\n",
    "B_T = noiseless_basis(2,include_T=True)\n",
    "B_Cliff = noiseless_basis(2,include_T=False)\n",
    "\n",
    "plt.figure()\n",
    "legends = []\n",
    "\n",
    "for name,B in [('Clifford+T',B_T), ('Clifford',B_Cliff)]:\n",
    "    negativity = []\n",
    "    for i in range(n_samples):\n",
    "        U = gates.UnitaryChannel((0,1),[(1.,qi.random_unitary(4))]).to_choi()\n",
    "        c = decomposition_coefficients(U, B)\n",
    "        negativity.append(np.linalg.norm(c,1))\n",
    "    print(f'\\n--------- {name} basis decomposition:\\n\\nmean(|c|_1)={np.mean(negativity)}, var(|c|_1)={np.var(negativity)}')\n",
    "    plt.plot(negativity)\n",
    "    legends.append(name)\n",
    "\n",
    "plt.xlabel('Instance',fontsize='large')\n",
    "plt.ylabel(r'$\\|c\\|_1$',fontsize='large')\n",
    "plt.yscale('log')\n",
    "plt.legend(legends);"
   ]
  },
  {
   "cell_type": "code",
   "execution_count": null,
   "id": "a97b8356-666b-40fc-99c2-ec7a8bcbcfcd",
   "metadata": {},
   "outputs": [],
   "source": []
  }
 ],
 "metadata": {
  "kernelspec": {
   "display_name": "Python 3 (ipykernel)",
   "language": "python",
   "name": "python3"
  },
  "language_info": {
   "codemirror_mode": {
    "name": "ipython",
    "version": 3
   },
   "file_extension": ".py",
   "mimetype": "text/x-python",
   "name": "python",
   "nbconvert_exporter": "python",
   "pygments_lexer": "ipython3",
   "version": "3.12.5"
  }
 },
 "nbformat": 4,
 "nbformat_minor": 5
}
