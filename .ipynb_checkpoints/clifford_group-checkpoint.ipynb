{
 "cells": [
  {
   "cell_type": "code",
   "execution_count": 31,
   "id": "ff6ec8d2",
   "metadata": {},
   "outputs": [
    {
     "name": "stdout",
     "output_type": "stream",
     "text": [
      "The autoreload extension is already loaded. To reload it, use:\n",
      "  %reload_ext autoreload\n"
     ]
    }
   ],
   "source": [
    "%load_ext autoreload\n",
    "%autoreload 2"
   ]
  },
  {
   "cell_type": "code",
   "execution_count": 32,
   "id": "e5677910",
   "metadata": {},
   "outputs": [
    {
     "data": {
      "text/html": [
       "<style>.container { width:100% !important; }</style>"
      ],
      "text/plain": [
       "<IPython.core.display.HTML object>"
      ]
     },
     "metadata": {},
     "output_type": "display_data"
    }
   ],
   "source": [
    "from CIPEC import *\n",
    "\n",
    "from IPython.display import display, HTML\n",
    "display(HTML(\"<style>.container { width:100% !important; }</style>\"))"
   ]
  },
  {
   "cell_type": "code",
   "execution_count": 84,
   "id": "2d426126",
   "metadata": {},
   "outputs": [
    {
     "name": "stderr",
     "output_type": "stream",
     "text": [
      "[Qibo 0.2.14|INFO|2025-02-25 14:47:01]: Using numpy backend on /CPU:0\n"
     ]
    },
    {
     "name": "stdout",
     "output_type": "stream",
     "text": [
      "dim(Clifford)=24, generated 24\n"
     ]
    },
    {
     "data": {
      "text/latex": [
       "$I=\\left[\\begin{matrix}1.0 & 0\\\\0 & 1.0\\end{matrix}\\right]$"
      ],
      "text/plain": [
       "<IPython.core.display.Latex object>"
      ]
     },
     "metadata": {},
     "output_type": "display_data"
    },
    {
     "data": {
      "text/latex": [
       "$\\omega^0S=\\left[\\begin{matrix}1.0 & 0\\\\0 & 1.0 i\\end{matrix}\\right]$"
      ],
      "text/plain": [
       "<IPython.core.display.Latex object>"
      ]
     },
     "metadata": {},
     "output_type": "display_data"
    },
    {
     "data": {
      "text/latex": [
       "$\\omega^0SS=\\left[\\begin{matrix}1.0 & 0\\\\0 & -1.0\\end{matrix}\\right]$"
      ],
      "text/plain": [
       "<IPython.core.display.Latex object>"
      ]
     },
     "metadata": {},
     "output_type": "display_data"
    },
    {
     "data": {
      "text/latex": [
       "$\\omega^0SSS=\\left[\\begin{matrix}1.0 & 0\\\\0 & - 1.0 i\\end{matrix}\\right]$"
      ],
      "text/plain": [
       "<IPython.core.display.Latex object>"
      ]
     },
     "metadata": {},
     "output_type": "display_data"
    },
    {
     "data": {
      "text/latex": [
       "$\\omega^0HSSH=\\left[\\begin{matrix}0 & 1.0\\\\1.0 & 0\\end{matrix}\\right]$"
      ],
      "text/plain": [
       "<IPython.core.display.Latex object>"
      ]
     },
     "metadata": {},
     "output_type": "display_data"
    },
    {
     "data": {
      "text/latex": [
       "$\\omega^0HSSHS=\\left[\\begin{matrix}0 & 1.0 i\\\\1.0 & 0\\end{matrix}\\right]$"
      ],
      "text/plain": [
       "<IPython.core.display.Latex object>"
      ]
     },
     "metadata": {},
     "output_type": "display_data"
    },
    {
     "data": {
      "text/latex": [
       "$\\omega^0HSSHSS=\\left[\\begin{matrix}0 & -1.0\\\\1.0 & 0\\end{matrix}\\right]$"
      ],
      "text/plain": [
       "<IPython.core.display.Latex object>"
      ]
     },
     "metadata": {},
     "output_type": "display_data"
    },
    {
     "data": {
      "text/latex": [
       "$\\omega^0HSSHSSS=\\left[\\begin{matrix}0 & - 1.0 i\\\\1.0 & 0\\end{matrix}\\right]$"
      ],
      "text/plain": [
       "<IPython.core.display.Latex object>"
      ]
     },
     "metadata": {},
     "output_type": "display_data"
    },
    {
     "data": {
      "text/latex": [
       "$\\omega^3HSSS=\\left[\\begin{matrix}-0.5 + 0.5 i & 0.5 + 0.5 i\\\\-0.5 + 0.5 i & -0.5 - 0.5 i\\end{matrix}\\right]$"
      ],
      "text/plain": [
       "<IPython.core.display.Latex object>"
      ]
     },
     "metadata": {},
     "output_type": "display_data"
    },
    {
     "data": {
      "text/latex": [
       "$\\omega^3HSSSS=\\left[\\begin{matrix}-0.5 + 0.5 i & -0.5 + 0.5 i\\\\-0.5 + 0.5 i & 0.5 - 0.5 i\\end{matrix}\\right]$"
      ],
      "text/plain": [
       "<IPython.core.display.Latex object>"
      ]
     },
     "metadata": {},
     "output_type": "display_data"
    },
    {
     "data": {
      "text/latex": [
       "$\\omega^3HSSSSS=\\left[\\begin{matrix}-0.5 + 0.5 i & -0.5 - 0.5 i\\\\-0.5 + 0.5 i & 0.5 + 0.5 i\\end{matrix}\\right]$"
      ],
      "text/plain": [
       "<IPython.core.display.Latex object>"
      ]
     },
     "metadata": {},
     "output_type": "display_data"
    },
    {
     "data": {
      "text/latex": [
       "$\\omega^3HSSSSSS=\\left[\\begin{matrix}-0.5 + 0.5 i & 0.5 - 0.5 i\\\\-0.5 + 0.5 i & -0.5 + 0.5 i\\end{matrix}\\right]$"
      ],
      "text/plain": [
       "<IPython.core.display.Latex object>"
      ]
     },
     "metadata": {},
     "output_type": "display_data"
    },
    {
     "data": {
      "text/latex": [
       "$\\omega^3HSSSHSSH=\\left[\\begin{matrix}0.5 + 0.5 i & -0.5 + 0.5 i\\\\-0.5 - 0.5 i & -0.5 + 0.5 i\\end{matrix}\\right]$"
      ],
      "text/plain": [
       "<IPython.core.display.Latex object>"
      ]
     },
     "metadata": {},
     "output_type": "display_data"
    },
    {
     "data": {
      "text/latex": [
       "$\\omega^3HSSSHSSHS=\\left[\\begin{matrix}0.5 + 0.5 i & -0.5 - 0.5 i\\\\-0.5 - 0.5 i & -0.5 - 0.5 i\\end{matrix}\\right]$"
      ],
      "text/plain": [
       "<IPython.core.display.Latex object>"
      ]
     },
     "metadata": {},
     "output_type": "display_data"
    },
    {
     "data": {
      "text/latex": [
       "$\\omega^3HSSSHSSHSS=\\left[\\begin{matrix}0.5 + 0.5 i & 0.5 - 0.5 i\\\\-0.5 - 0.5 i & 0.5 - 0.5 i\\end{matrix}\\right]$"
      ],
      "text/plain": [
       "<IPython.core.display.Latex object>"
      ]
     },
     "metadata": {},
     "output_type": "display_data"
    },
    {
     "data": {
      "text/latex": [
       "$\\omega^3HSSSHSSHSSS=\\left[\\begin{matrix}0.5 + 0.5 i & 0.5 + 0.5 i\\\\-0.5 - 0.5 i & 0.5 + 0.5 i\\end{matrix}\\right]$"
      ],
      "text/plain": [
       "<IPython.core.display.Latex object>"
      ]
     },
     "metadata": {},
     "output_type": "display_data"
    },
    {
     "data": {
      "text/latex": [
       "$\\omega^6HSSSHSSS=\\left[\\begin{matrix}-0.5 - 0.5 i & -0.5 - 0.5 i\\\\0.5 - 0.5 i & -0.5 + 0.5 i\\end{matrix}\\right]$"
      ],
      "text/plain": [
       "<IPython.core.display.Latex object>"
      ]
     },
     "metadata": {},
     "output_type": "display_data"
    },
    {
     "data": {
      "text/latex": [
       "$\\omega^6HSSSHSSSS=\\left[\\begin{matrix}-0.5 - 0.5 i & 0.5 - 0.5 i\\\\0.5 - 0.5 i & -0.5 - 0.5 i\\end{matrix}\\right]$"
      ],
      "text/plain": [
       "<IPython.core.display.Latex object>"
      ]
     },
     "metadata": {},
     "output_type": "display_data"
    },
    {
     "data": {
      "text/latex": [
       "$\\omega^6HSSSHSSSSS=\\left[\\begin{matrix}-0.5 - 0.5 i & 0.5 + 0.5 i\\\\0.5 - 0.5 i & 0.5 - 0.5 i\\end{matrix}\\right]$"
      ],
      "text/plain": [
       "<IPython.core.display.Latex object>"
      ]
     },
     "metadata": {},
     "output_type": "display_data"
    },
    {
     "data": {
      "text/latex": [
       "$\\omega^6HSSSHSSSSSS=\\left[\\begin{matrix}-0.5 - 0.5 i & -0.5 + 0.5 i\\\\0.5 - 0.5 i & 0.5 + 0.5 i\\end{matrix}\\right]$"
      ],
      "text/plain": [
       "<IPython.core.display.Latex object>"
      ]
     },
     "metadata": {},
     "output_type": "display_data"
    },
    {
     "data": {
      "text/latex": [
       "$\\omega^6HSSSHSSSHSSH=\\left[\\begin{matrix}-0.5 - 0.5 i & -0.5 - 0.5 i\\\\-0.5 + 0.5 i & 0.5 - 0.5 i\\end{matrix}\\right]$"
      ],
      "text/plain": [
       "<IPython.core.display.Latex object>"
      ]
     },
     "metadata": {},
     "output_type": "display_data"
    },
    {
     "data": {
      "text/latex": [
       "$\\omega^6HSSSHSSSHSSHS=\\left[\\begin{matrix}-0.5 - 0.5 i & 0.5 - 0.5 i\\\\-0.5 + 0.5 i & 0.5 + 0.5 i\\end{matrix}\\right]$"
      ],
      "text/plain": [
       "<IPython.core.display.Latex object>"
      ]
     },
     "metadata": {},
     "output_type": "display_data"
    },
    {
     "data": {
      "text/latex": [
       "$\\omega^6HSSSHSSSHSSHSS=\\left[\\begin{matrix}-0.5 - 0.5 i & 0.5 + 0.5 i\\\\-0.5 + 0.5 i & -0.5 + 0.5 i\\end{matrix}\\right]$"
      ],
      "text/plain": [
       "<IPython.core.display.Latex object>"
      ]
     },
     "metadata": {},
     "output_type": "display_data"
    },
    {
     "data": {
      "text/latex": [
       "$\\omega^6HSSSHSSSHSSHSSS=\\left[\\begin{matrix}-0.5 - 0.5 i & -0.5 + 0.5 i\\\\-0.5 + 0.5 i & -0.5 - 0.5 i\\end{matrix}\\right]$"
      ],
      "text/plain": [
       "<IPython.core.display.Latex object>"
      ]
     },
     "metadata": {},
     "output_type": "display_data"
    }
   ],
   "source": [
    "C = clifford_group(1)\n",
    "print(f'dim(Clifford)={clifford_dim(1)}, generated {len(C)}')\n",
    "\n",
    "for k,v in C.items():\n",
    "    fancy_display(v,k)"
   ]
  },
  {
   "cell_type": "code",
   "execution_count": 89,
   "id": "fe390736",
   "metadata": {},
   "outputs": [
    {
     "name": "stdout",
     "output_type": "stream",
     "text": [
      "dim(Clifford)=11520, generated 11520\n"
     ]
    },
    {
     "data": {
      "text/latex": [
       "$(\\omega^0HSSHSSS\\otimes \\omega^3HSSSHSSHSSS).CNOT.(\\omega^6HSSS\\otimes -\\omega^3HSSS)=\\left[\\begin{matrix}-0.5 - 0.5 i & 0 & 0.5 + 0.5 i & 0\\\\0 & -0.5 + 0.5 i & 0 & 0.5 - 0.5 i\\\\-0.5 - 0.5 i & 0 & -0.5 - 0.5 i & 0\\\\0 & 0.5 - 0.5 i & 0 & 0.5 - 0.5 i\\end{matrix}\\right]$"
      ],
      "text/plain": [
       "<IPython.core.display.Latex object>"
      ]
     },
     "metadata": {},
     "output_type": "display_data"
    },
    {
     "data": {
      "text/latex": [
       "$(\\omega^3HSSSHSSHSSS\\otimes \\omega^0HSSHSSS).CNOT.(I\\otimes I)=\\left[\\begin{matrix}0 & 0.5 - 0.5 i & 0.5 - 0.5 i & 0\\\\0.5 + 0.5 i & 0 & 0 & 0.5 + 0.5 i\\\\0 & -0.5 + 0.5 i & 0.5 - 0.5 i & 0\\\\-0.5 - 0.5 i & 0 & 0 & 0.5 + 0.5 i\\end{matrix}\\right]$"
      ],
      "text/plain": [
       "<IPython.core.display.Latex object>"
      ]
     },
     "metadata": {},
     "output_type": "display_data"
    },
    {
     "data": {
      "text/latex": [
       "$(\\omega^0HSSHSS\\otimes \\omega^0S).CNOT.(I\\otimes I)=\\left[\\begin{matrix}0 & 0 & 0 & -1.0\\\\0 & 0 & - 1.0 i & 0\\\\1.0 & 0 & 0 & 0\\\\0 & 1.0 i & 0 & 0\\end{matrix}\\right]$"
      ],
      "text/plain": [
       "<IPython.core.display.Latex object>"
      ]
     },
     "metadata": {},
     "output_type": "display_data"
    },
    {
     "data": {
      "text/latex": [
       "$(\\omega^3HSSSHSSHSS\\otimes I).iSWAP.(-\\omega^3HSSS\\otimes \\omega^6HSSS)=\\left[\\begin{matrix}- 0.5 i & -0.5 & -0.5 & 0.5 i\\\\- 0.5 i & 0.5 & 0.5 & 0.5 i\\\\0.5 & 0.5 i & - 0.5 i & 0.5\\\\-0.5 & 0.5 i & - 0.5 i & -0.5\\end{matrix}\\right]$"
      ],
      "text/plain": [
       "<IPython.core.display.Latex object>"
      ]
     },
     "metadata": {},
     "output_type": "display_data"
    },
    {
     "data": {
      "text/latex": [
       "$(\\omega^6HSSSHSSSHSSHSS\\otimes \\omega^0SSS).iSWAP.(I\\otimes I)=\\left[\\begin{matrix}-0.5 - 0.5 i & -0.5 + 0.5 i & 0 & 0\\\\0 & 0 & -0.5 - 0.5 i & 0.5 - 0.5 i\\\\-0.5 + 0.5 i & -0.5 - 0.5 i & 0 & 0\\\\0 & 0 & -0.5 + 0.5 i & 0.5 + 0.5 i\\end{matrix}\\right]$"
      ],
      "text/plain": [
       "<IPython.core.display.Latex object>"
      ]
     },
     "metadata": {},
     "output_type": "display_data"
    }
   ],
   "source": [
    "C = clifford_group(2,True)\n",
    "\n",
    "print(f'dim(Clifford)={clifford_dim(2)}, generated {len(C)}')\n",
    "for k,v in [list(C.items())[i] for i in np.random.randint(0,len(C),5)]:\n",
    "    fancy_display(v,k)"
   ]
  },
  {
   "cell_type": "code",
   "execution_count": null,
   "id": "7b2ff345",
   "metadata": {},
   "outputs": [],
   "source": []
  }
 ],
 "metadata": {
  "kernelspec": {
   "display_name": "Python 3 (ipykernel)",
   "language": "python",
   "name": "python3"
  },
  "language_info": {
   "codemirror_mode": {
    "name": "ipython",
    "version": 3
   },
   "file_extension": ".py",
   "mimetype": "text/x-python",
   "name": "python",
   "nbconvert_exporter": "python",
   "pygments_lexer": "ipython3",
   "version": "3.9.15"
  }
 },
 "nbformat": 4,
 "nbformat_minor": 5
}
