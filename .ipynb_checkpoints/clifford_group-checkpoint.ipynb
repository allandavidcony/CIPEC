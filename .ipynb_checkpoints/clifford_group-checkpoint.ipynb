{
 "cells": [
  {
   "cell_type": "code",
   "execution_count": 1,
   "id": "3eb1b399",
   "metadata": {},
   "outputs": [],
   "source": [
    "%load_ext autoreload\n",
    "%autoreload 2"
   ]
  },
  {
   "cell_type": "code",
   "execution_count": 2,
   "id": "0c52827a",
   "metadata": {},
   "outputs": [
    {
     "name": "stderr",
     "output_type": "stream",
     "text": [
      "/Users/gian/Code/CIPEC/CIPEC.py:343: SyntaxWarning: invalid escape sequence '\\o'\n",
      "  key = ('I' if j+k+l==0 else f'\\omega^{3*j}'+f'HSSS'*j+'HSSH'*k+'S'*l)\n",
      "/Users/gian/Code/CIPEC/CIPEC.py:350: SyntaxWarning: invalid escape sequence '\\o'\n",
      "  key = ('I' if i+j+k+l==0 else f\"\\omega^{i+3*j}\"+'HSSS'*j+'HSSH'*k+'S'*l)\n",
      "/Users/gian/Code/CIPEC/CIPEC.py:369: SyntaxWarning: invalid escape sequence '\\o'\n",
      "  S1 = {'I': np.eye(2), f'-\\omega^{3}HSSS': RS, f'\\omega^{6}HSSSHSSS': RS@RS}\n",
      "/Users/gian/Code/CIPEC/CIPEC.py:369: SyntaxWarning: invalid escape sequence '\\o'\n",
      "  S1 = {'I': np.eye(2), f'-\\omega^{3}HSSS': RS, f'\\omega^{6}HSSSHSSS': RS@RS}\n",
      "/Users/gian/Code/CIPEC/CIPEC.py:375: SyntaxWarning: invalid escape sequence '\\o'\n",
      "  C2['('+k1+'\\otimes '+k2+')'] = kron\n",
      "/Users/gian/Code/CIPEC/CIPEC.py:377: SyntaxWarning: invalid escape sequence '\\o'\n",
      "  C2['('+k1+'\\otimes '+k2+').CNOT.('+k3+'\\otimes '+k4+')'] = kron@CNOT@np.kron(S1[k3],S1[k4])\n",
      "/Users/gian/Code/CIPEC/CIPEC.py:377: SyntaxWarning: invalid escape sequence '\\o'\n",
      "  C2['('+k1+'\\otimes '+k2+').CNOT.('+k3+'\\otimes '+k4+')'] = kron@CNOT@np.kron(S1[k3],S1[k4])\n",
      "/Users/gian/Code/CIPEC/CIPEC.py:378: SyntaxWarning: invalid escape sequence '\\o'\n",
      "  C2['('+k1+'\\otimes '+k2+').iSWAP.('+k3+'\\otimes '+k4+')'] = kron@iSWAP@np.kron(S1[k3],S1[k4])\n",
      "/Users/gian/Code/CIPEC/CIPEC.py:378: SyntaxWarning: invalid escape sequence '\\o'\n",
      "  C2['('+k1+'\\otimes '+k2+').iSWAP.('+k3+'\\otimes '+k4+')'] = kron@iSWAP@np.kron(S1[k3],S1[k4])\n",
      "/Users/gian/Code/CIPEC/CIPEC.py:379: SyntaxWarning: invalid escape sequence '\\o'\n",
      "  C2['('+k1+'\\otimes '+k2+').SWAP'] = kron@SWAP\n",
      "/Users/gian/Code/CIPEC/CIPEC.py:427: SyntaxWarning: invalid escape sequence '\\o'\n",
      "  k = f'({T_keys[i][0]} \\otimes {T_keys[i][1]}).{cliff_keys[i]}.{k}'\n",
      "[Qibo 0.2.16|INFO|2025-02-25 22:43:24]: Using numpy backend on /CPU:0\n"
     ]
    },
    {
     "data": {
      "text/html": [
       "<style>.container { width:100% !important; }</style>"
      ],
      "text/plain": [
       "<IPython.core.display.HTML object>"
      ]
     },
     "metadata": {},
     "output_type": "display_data"
    }
   ],
   "source": [
    "from CIPEC import *\n",
    "\n",
    "from IPython.display import display, HTML\n",
    "display(HTML(\"<style>.container { width:100% !important; }</style>\"))"
   ]
  },
  {
   "cell_type": "markdown",
   "id": "d0e1a363",
   "metadata": {},
   "source": [
    "# Clifford group of 1 and 2 qubits"
   ]
  },
  {
   "cell_type": "markdown",
   "id": "a03708a8",
   "metadata": {},
   "source": [
    "This generator works by using the decomposition exploited by [Ross and Selinger](https://hackage.haskell.org/package/newsynth) in their circuit synthesis package. In particular, they use that the single-qubit Clifford group can be characterized as\n",
    "\n",
    "$$\\mathcal{C}_1 = \\left\\{\\omega^i E^j X^k S^\\ell |i \\in \\text{range}(8), j \\in \\text{range}(3), k \\in \\text{range}(2), \\ell \\in \\text{range}(4) \\right\\}$$\n",
    "\n",
    "where $\\omega = \\mathrm{e}^{\\mathrm{i}\\pi/4}$, $E = \\omega^3 H S^3$, and $X=HS^2H$ is the familiar Pauli matrix. "
   ]
  },
  {
   "cell_type": "code",
   "execution_count": 3,
   "id": "49d86f63",
   "metadata": {},
   "outputs": [
    {
     "name": "stdout",
     "output_type": "stream",
     "text": [
      "dim(Clifford)=24, generated 24\n"
     ]
    },
    {
     "data": {
      "text/latex": [
       "$I=\\left[\\begin{matrix}1.0 & 0\\\\0 & 1.0\\end{matrix}\\right]$"
      ],
      "text/plain": [
       "<IPython.core.display.Latex object>"
      ]
     },
     "metadata": {},
     "output_type": "display_data"
    },
    {
     "data": {
      "text/latex": [
       "$S=\\left[\\begin{matrix}1.0 & 0\\\\0 & 1.0 i\\end{matrix}\\right]$"
      ],
      "text/plain": [
       "<IPython.core.display.Latex object>"
      ]
     },
     "metadata": {},
     "output_type": "display_data"
    },
    {
     "data": {
      "text/latex": [
       "$SS=\\left[\\begin{matrix}1.0 & 0\\\\0 & -1.0\\end{matrix}\\right]$"
      ],
      "text/plain": [
       "<IPython.core.display.Latex object>"
      ]
     },
     "metadata": {},
     "output_type": "display_data"
    },
    {
     "data": {
      "text/latex": [
       "$SSS=\\left[\\begin{matrix}1.0 & 0\\\\0 & - 1.0 i\\end{matrix}\\right]$"
      ],
      "text/plain": [
       "<IPython.core.display.Latex object>"
      ]
     },
     "metadata": {},
     "output_type": "display_data"
    },
    {
     "data": {
      "text/latex": [
       "$X=\\left[\\begin{matrix}0 & 1.0\\\\1.0 & 0\\end{matrix}\\right]$"
      ],
      "text/plain": [
       "<IPython.core.display.Latex object>"
      ]
     },
     "metadata": {},
     "output_type": "display_data"
    },
    {
     "data": {
      "text/latex": [
       "$XS=\\left[\\begin{matrix}0 & 1.0 i\\\\1.0 & 0\\end{matrix}\\right]$"
      ],
      "text/plain": [
       "<IPython.core.display.Latex object>"
      ]
     },
     "metadata": {},
     "output_type": "display_data"
    },
    {
     "data": {
      "text/latex": [
       "$XSS=\\left[\\begin{matrix}0 & -1.0\\\\1.0 & 0\\end{matrix}\\right]$"
      ],
      "text/plain": [
       "<IPython.core.display.Latex object>"
      ]
     },
     "metadata": {},
     "output_type": "display_data"
    },
    {
     "data": {
      "text/latex": [
       "$XSSS=\\left[\\begin{matrix}0 & - 1.0 i\\\\1.0 & 0\\end{matrix}\\right]$"
      ],
      "text/plain": [
       "<IPython.core.display.Latex object>"
      ]
     },
     "metadata": {},
     "output_type": "display_data"
    },
    {
     "data": {
      "text/latex": [
       "$E=\\left[\\begin{matrix}-0.5 + 0.5 i & 0.5 + 0.5 i\\\\-0.5 + 0.5 i & -0.5 - 0.5 i\\end{matrix}\\right]$"
      ],
      "text/plain": [
       "<IPython.core.display.Latex object>"
      ]
     },
     "metadata": {},
     "output_type": "display_data"
    },
    {
     "data": {
      "text/latex": [
       "$ES=\\left[\\begin{matrix}-0.5 + 0.5 i & -0.5 + 0.5 i\\\\-0.5 + 0.5 i & 0.5 - 0.5 i\\end{matrix}\\right]$"
      ],
      "text/plain": [
       "<IPython.core.display.Latex object>"
      ]
     },
     "metadata": {},
     "output_type": "display_data"
    },
    {
     "data": {
      "text/latex": [
       "$ESS=\\left[\\begin{matrix}-0.5 + 0.5 i & -0.5 - 0.5 i\\\\-0.5 + 0.5 i & 0.5 + 0.5 i\\end{matrix}\\right]$"
      ],
      "text/plain": [
       "<IPython.core.display.Latex object>"
      ]
     },
     "metadata": {},
     "output_type": "display_data"
    },
    {
     "data": {
      "text/latex": [
       "$ESSS=\\left[\\begin{matrix}-0.5 + 0.5 i & 0.5 - 0.5 i\\\\-0.5 + 0.5 i & -0.5 + 0.5 i\\end{matrix}\\right]$"
      ],
      "text/plain": [
       "<IPython.core.display.Latex object>"
      ]
     },
     "metadata": {},
     "output_type": "display_data"
    },
    {
     "data": {
      "text/latex": [
       "$EX=\\left[\\begin{matrix}0.5 + 0.5 i & -0.5 + 0.5 i\\\\-0.5 - 0.5 i & -0.5 + 0.5 i\\end{matrix}\\right]$"
      ],
      "text/plain": [
       "<IPython.core.display.Latex object>"
      ]
     },
     "metadata": {},
     "output_type": "display_data"
    },
    {
     "data": {
      "text/latex": [
       "$EXS=\\left[\\begin{matrix}0.5 + 0.5 i & -0.5 - 0.5 i\\\\-0.5 - 0.5 i & -0.5 - 0.5 i\\end{matrix}\\right]$"
      ],
      "text/plain": [
       "<IPython.core.display.Latex object>"
      ]
     },
     "metadata": {},
     "output_type": "display_data"
    },
    {
     "data": {
      "text/latex": [
       "$EXSS=\\left[\\begin{matrix}0.5 + 0.5 i & 0.5 - 0.5 i\\\\-0.5 - 0.5 i & 0.5 - 0.5 i\\end{matrix}\\right]$"
      ],
      "text/plain": [
       "<IPython.core.display.Latex object>"
      ]
     },
     "metadata": {},
     "output_type": "display_data"
    },
    {
     "data": {
      "text/latex": [
       "$EXSSS=\\left[\\begin{matrix}0.5 + 0.5 i & 0.5 + 0.5 i\\\\-0.5 - 0.5 i & 0.5 + 0.5 i\\end{matrix}\\right]$"
      ],
      "text/plain": [
       "<IPython.core.display.Latex object>"
      ]
     },
     "metadata": {},
     "output_type": "display_data"
    },
    {
     "data": {
      "text/latex": [
       "$EE=\\left[\\begin{matrix}-0.5 - 0.5 i & -0.5 - 0.5 i\\\\0.5 - 0.5 i & -0.5 + 0.5 i\\end{matrix}\\right]$"
      ],
      "text/plain": [
       "<IPython.core.display.Latex object>"
      ]
     },
     "metadata": {},
     "output_type": "display_data"
    },
    {
     "data": {
      "text/latex": [
       "$EES=\\left[\\begin{matrix}-0.5 - 0.5 i & 0.5 - 0.5 i\\\\0.5 - 0.5 i & -0.5 - 0.5 i\\end{matrix}\\right]$"
      ],
      "text/plain": [
       "<IPython.core.display.Latex object>"
      ]
     },
     "metadata": {},
     "output_type": "display_data"
    },
    {
     "data": {
      "text/latex": [
       "$EESS=\\left[\\begin{matrix}-0.5 - 0.5 i & 0.5 + 0.5 i\\\\0.5 - 0.5 i & 0.5 - 0.5 i\\end{matrix}\\right]$"
      ],
      "text/plain": [
       "<IPython.core.display.Latex object>"
      ]
     },
     "metadata": {},
     "output_type": "display_data"
    },
    {
     "data": {
      "text/latex": [
       "$EESSS=\\left[\\begin{matrix}-0.5 - 0.5 i & -0.5 + 0.5 i\\\\0.5 - 0.5 i & 0.5 + 0.5 i\\end{matrix}\\right]$"
      ],
      "text/plain": [
       "<IPython.core.display.Latex object>"
      ]
     },
     "metadata": {},
     "output_type": "display_data"
    },
    {
     "data": {
      "text/latex": [
       "$EEX=\\left[\\begin{matrix}-0.5 - 0.5 i & -0.5 - 0.5 i\\\\-0.5 + 0.5 i & 0.5 - 0.5 i\\end{matrix}\\right]$"
      ],
      "text/plain": [
       "<IPython.core.display.Latex object>"
      ]
     },
     "metadata": {},
     "output_type": "display_data"
    },
    {
     "data": {
      "text/latex": [
       "$EEXS=\\left[\\begin{matrix}-0.5 - 0.5 i & 0.5 - 0.5 i\\\\-0.5 + 0.5 i & 0.5 + 0.5 i\\end{matrix}\\right]$"
      ],
      "text/plain": [
       "<IPython.core.display.Latex object>"
      ]
     },
     "metadata": {},
     "output_type": "display_data"
    },
    {
     "data": {
      "text/latex": [
       "$EEXSS=\\left[\\begin{matrix}-0.5 - 0.5 i & 0.5 + 0.5 i\\\\-0.5 + 0.5 i & -0.5 + 0.5 i\\end{matrix}\\right]$"
      ],
      "text/plain": [
       "<IPython.core.display.Latex object>"
      ]
     },
     "metadata": {},
     "output_type": "display_data"
    },
    {
     "data": {
      "text/latex": [
       "$EEXSSS=\\left[\\begin{matrix}-0.5 - 0.5 i & -0.5 + 0.5 i\\\\-0.5 + 0.5 i & -0.5 - 0.5 i\\end{matrix}\\right]$"
      ],
      "text/plain": [
       "<IPython.core.display.Latex object>"
      ]
     },
     "metadata": {},
     "output_type": "display_data"
    }
   ],
   "source": [
    "C = clifford_group(1,letters='SEX')\n",
    "print(f'dim(Clifford)={clifford_dim(1)}, generated {len(C)}')\n",
    "\n",
    "for k,v in C.items():\n",
    "    fancy_display(v,k)"
   ]
  },
  {
   "cell_type": "code",
   "execution_count": 4,
   "id": "33691069",
   "metadata": {},
   "outputs": [
    {
     "name": "stdout",
     "output_type": "stream",
     "text": [
      "dim(Clifford)=11520, generated 11520\n"
     ]
    },
    {
     "data": {
      "text/latex": [
       "$(EESS\\otimes EXSSS).CNOT.(-E\\otimes -E)=\\left[\\begin{matrix}0 & 0 & 1.0 i & 0\\\\0 & - 1.0 i & 0 & 0\\\\- 1.0 i & 0 & 0 & 0\\\\0 & 0 & 0 & - 1.0 i\\end{matrix}\\right]$"
      ],
      "text/plain": [
       "<IPython.core.display.Latex object>"
      ]
     },
     "metadata": {},
     "output_type": "display_data"
    },
    {
     "data": {
      "text/latex": [
       "$(X\\otimes XS).CNOT.(I\\otimes I)=\\left[\\begin{matrix}0 & 0 & 1.0 i & 0\\\\0 & 0 & 0 & 1.0\\\\0 & 1.0 i & 0 & 0\\\\1.0 & 0 & 0 & 0\\end{matrix}\\right]$"
      ],
      "text/plain": [
       "<IPython.core.display.Latex object>"
      ]
     },
     "metadata": {},
     "output_type": "display_data"
    },
    {
     "data": {
      "text/latex": [
       "$(I\\otimes EEXS).iSWAP.(-E\\otimes -E)=\\left[\\begin{matrix}0 & 0 & 0.5 + 0.5 i & 0.5 - 0.5 i\\\\0.5 + 0.5 i & 0.5 - 0.5 i & 0 & 0\\\\-0.5 - 0.5 i & 0.5 - 0.5 i & 0 & 0\\\\0 & 0 & 0.5 + 0.5 i & -0.5 + 0.5 i\\end{matrix}\\right]$"
      ],
      "text/plain": [
       "<IPython.core.display.Latex object>"
      ]
     },
     "metadata": {},
     "output_type": "display_data"
    },
    {
     "data": {
      "text/latex": [
       "$(SSS\\otimes EXSSS).iSWAP.(I\\otimes -E)=\\left[\\begin{matrix}0.5 & - 0.5 i & 0.5 i & 0.5\\\\-0.5 & 0.5 i & 0.5 i & 0.5\\\\0.5 & 0.5 i & - 0.5 i & 0.5\\\\-0.5 & - 0.5 i & - 0.5 i & 0.5\\end{matrix}\\right]$"
      ],
      "text/plain": [
       "<IPython.core.display.Latex object>"
      ]
     },
     "metadata": {},
     "output_type": "display_data"
    },
    {
     "data": {
      "text/latex": [
       "$(EXSS\\otimes EXSS).CNOT.(-E\\otimes -E)=\\left[\\begin{matrix}- 0.5 i & 0.5 & - 0.5 i & -0.5\\\\-0.5 & 0.5 i & -0.5 & - 0.5 i\\\\-0.5 & 0.5 i & 0.5 & 0.5 i\\\\0.5 i & -0.5 & - 0.5 i & -0.5\\end{matrix}\\right]$"
      ],
      "text/plain": [
       "<IPython.core.display.Latex object>"
      ]
     },
     "metadata": {},
     "output_type": "display_data"
    }
   ],
   "source": [
    "C = clifford_group(2,letters='SEX')\n",
    "\n",
    "print(f'dim(Clifford)={clifford_dim(2)}, generated {len(C)}')\n",
    "for k,v in [list(C.items())[i] for i in np.random.randint(0,len(C),5)]:\n",
    "    fancy_display(v,k)"
   ]
  },
  {
   "cell_type": "markdown",
   "id": "73347880",
   "metadata": {},
   "source": [
    "# Random Clifford sampling"
   ]
  },
  {
   "cell_type": "code",
   "execution_count": 29,
   "id": "d1cfccf1",
   "metadata": {},
   "outputs": [
    {
     "data": {
      "text/latex": [
       "$\\omega^6HSSSHSSSSS=\\left[\\begin{matrix}-0.5 - 0.5 i & 0.5 + 0.5 i\\\\0.5 - 0.5 i & 0.5 - 0.5 i\\end{matrix}\\right]$"
      ],
      "text/plain": [
       "<IPython.core.display.Latex object>"
      ]
     },
     "metadata": {},
     "output_type": "display_data"
    },
    {
     "data": {
      "text/latex": [
       "$\\omega^3HSSSSS=\\left[\\begin{matrix}-0.5 + 0.5 i & -0.5 - 0.5 i\\\\-0.5 + 0.5 i & 0.5 + 0.5 i\\end{matrix}\\right]$"
      ],
      "text/plain": [
       "<IPython.core.display.Latex object>"
      ]
     },
     "metadata": {},
     "output_type": "display_data"
    },
    {
     "data": {
      "text/latex": [
       "$\\omega^3HSSSHSSHSSS=\\left[\\begin{matrix}0.5 + 0.5 i & 0.5 + 0.5 i\\\\-0.5 - 0.5 i & 0.5 + 0.5 i\\end{matrix}\\right]$"
      ],
      "text/plain": [
       "<IPython.core.display.Latex object>"
      ]
     },
     "metadata": {},
     "output_type": "display_data"
    }
   ],
   "source": [
    "cliffords = random_clifford(1,3,True,'HS')\n",
    "\n",
    "for k,v in cliffords.items():\n",
    "    fancy_display(v,k)"
   ]
  },
  {
   "cell_type": "code",
   "execution_count": 39,
   "id": "48e347e7",
   "metadata": {},
   "outputs": [
    {
     "data": {
      "text/latex": [
       "$(\\omega^0HSSHSSS\\otimes \\omega^0SSS)=\\left[\\begin{matrix}0 & 0 & - 1.0 i & 0\\\\0 & 0 & 0 & -1.0\\\\1.0 & 0 & 0 & 0\\\\0 & - 1.0 i & 0 & 0\\end{matrix}\\right]$"
      ],
      "text/plain": [
       "<IPython.core.display.Latex object>"
      ]
     },
     "metadata": {},
     "output_type": "display_data"
    },
    {
     "data": {
      "text/latex": [
       "$(\\omega^6HSSSHSSSHSSHS\\otimes \\omega^6HSSSHSSSSSS).CNOT.(\\omega^6HSSSHSSS\\otimes -\\omega^3HSSS)=\\left[\\begin{matrix}0 & -0.5 - 0.5 i & -0.5 - 0.5 i & 0\\\\0 & -0.5 - 0.5 i & 0.5 + 0.5 i & 0\\\\-0.5 + 0.5 i & 0 & 0 & -0.5 + 0.5 i\\\\0.5 - 0.5 i & 0 & 0 & -0.5 + 0.5 i\\end{matrix}\\right]$"
      ],
      "text/plain": [
       "<IPython.core.display.Latex object>"
      ]
     },
     "metadata": {},
     "output_type": "display_data"
    },
    {
     "data": {
      "text/latex": [
       "$(\\omega^3HSSSSS\\otimes \\omega^6HSSSHSSSHSSHSS)=\\left[\\begin{matrix}0.5 & -0.5 & 0.5 i & - 0.5 i\\\\- 0.5 i & - 0.5 i & 0.5 & 0.5\\\\0.5 & -0.5 & - 0.5 i & 0.5 i\\\\- 0.5 i & - 0.5 i & -0.5 & -0.5\\end{matrix}\\right]$"
      ],
      "text/plain": [
       "<IPython.core.display.Latex object>"
      ]
     },
     "metadata": {},
     "output_type": "display_data"
    }
   ],
   "source": [
    "cliffords = random_clifford(2,3,True,'HS')\n",
    "\n",
    "for k,v in cliffords.items():\n",
    "    fancy_display(v,k)"
   ]
  },
  {
   "cell_type": "code",
   "execution_count": 57,
   "id": "d9eb12b8",
   "metadata": {},
   "outputs": [
    {
     "name": "stderr",
     "output_type": "stream",
     "text": [
      "/Users/gian/Code/CIPEC/CIPEC.py:343: SyntaxWarning: invalid escape sequence '\\o'\n",
      "  key = ('I' if j+k+l==0 else f'\\omega^{3*j}'+f'HSSS'*j+'HSSH'*k+'S'*l)\n",
      "/Users/gian/Code/CIPEC/CIPEC.py:350: SyntaxWarning: invalid escape sequence '\\o'\n",
      "  key = ('I' if i+j+k+l==0 else f\"\\omega^{i+3*j}\"+'HSSS'*j+'HSSH'*k+'S'*l)\n",
      "/Users/gian/Code/CIPEC/CIPEC.py:369: SyntaxWarning: invalid escape sequence '\\o'\n",
      "  S1 = {'I': np.eye(2), f'-\\omega^{3}HSSS': RS, f'\\omega^{6}HSSSHSSS': RS@RS}\n",
      "/Users/gian/Code/CIPEC/CIPEC.py:369: SyntaxWarning: invalid escape sequence '\\o'\n",
      "  S1 = {'I': np.eye(2), f'-\\omega^{3}HSSS': RS, f'\\omega^{6}HSSSHSSS': RS@RS}\n",
      "/Users/gian/Code/CIPEC/CIPEC.py:375: SyntaxWarning: invalid escape sequence '\\o'\n",
      "  C2['('+k1+'\\otimes '+k2+')'] = kron\n",
      "/Users/gian/Code/CIPEC/CIPEC.py:377: SyntaxWarning: invalid escape sequence '\\o'\n",
      "  C2['('+k1+'\\otimes '+k2+').CNOT.('+k3+'\\otimes '+k4+')'] = kron@CNOT@np.kron(S1[k3],S1[k4])\n",
      "/Users/gian/Code/CIPEC/CIPEC.py:377: SyntaxWarning: invalid escape sequence '\\o'\n",
      "  C2['('+k1+'\\otimes '+k2+').CNOT.('+k3+'\\otimes '+k4+')'] = kron@CNOT@np.kron(S1[k3],S1[k4])\n",
      "/Users/gian/Code/CIPEC/CIPEC.py:378: SyntaxWarning: invalid escape sequence '\\o'\n",
      "  C2['('+k1+'\\otimes '+k2+').iSWAP.('+k3+'\\otimes '+k4+')'] = kron@iSWAP@np.kron(S1[k3],S1[k4])\n",
      "/Users/gian/Code/CIPEC/CIPEC.py:378: SyntaxWarning: invalid escape sequence '\\o'\n",
      "  C2['('+k1+'\\otimes '+k2+').iSWAP.('+k3+'\\otimes '+k4+')'] = kron@iSWAP@np.kron(S1[k3],S1[k4])\n",
      "/Users/gian/Code/CIPEC/CIPEC.py:379: SyntaxWarning: invalid escape sequence '\\o'\n",
      "  C2['('+k1+'\\otimes '+k2+').SWAP'] = kron@SWAP\n",
      "[Qibo 0.2.16|INFO|2025-02-25 23:46:30]: Using numpy backend on /CPU:0\n",
      "/Users/gian/Code/CIPEC/CIPEC.py:343: SyntaxWarning: invalid escape sequence '\\o'\n",
      "  key = ('I' if j+k+l==0 else f'\\omega^{3*j}'+f'HSSS'*j+'HSSH'*k+'S'*l)\n",
      "/Users/gian/Code/CIPEC/CIPEC.py:350: SyntaxWarning: invalid escape sequence '\\o'\n",
      "  key = ('I' if i+j+k+l==0 else f\"\\omega^{i+3*j}\"+'HSSS'*j+'HSSH'*k+'S'*l)\n",
      "/Users/gian/Code/CIPEC/CIPEC.py:369: SyntaxWarning: invalid escape sequence '\\o'\n",
      "  S1 = {'I': np.eye(2), f'-\\omega^{3}HSSS': RS, f'\\omega^{6}HSSSHSSS': RS@RS}\n",
      "/Users/gian/Code/CIPEC/CIPEC.py:369: SyntaxWarning: invalid escape sequence '\\o'\n",
      "  S1 = {'I': np.eye(2), f'-\\omega^{3}HSSS': RS, f'\\omega^{6}HSSSHSSS': RS@RS}\n",
      "/Users/gian/Code/CIPEC/CIPEC.py:375: SyntaxWarning: invalid escape sequence '\\o'\n",
      "  C2['('+k1+'\\otimes '+k2+')'] = kron\n",
      "/Users/gian/Code/CIPEC/CIPEC.py:377: SyntaxWarning: invalid escape sequence '\\o'\n",
      "  C2['('+k1+'\\otimes '+k2+').CNOT.('+k3+'\\otimes '+k4+')'] = kron@CNOT@np.kron(S1[k3],S1[k4])\n",
      "/Users/gian/Code/CIPEC/CIPEC.py:377: SyntaxWarning: invalid escape sequence '\\o'\n",
      "  C2['('+k1+'\\otimes '+k2+').CNOT.('+k3+'\\otimes '+k4+')'] = kron@CNOT@np.kron(S1[k3],S1[k4])\n",
      "/Users/gian/Code/CIPEC/CIPEC.py:378: SyntaxWarning: invalid escape sequence '\\o'\n",
      "  C2['('+k1+'\\otimes '+k2+').iSWAP.('+k3+'\\otimes '+k4+')'] = kron@iSWAP@np.kron(S1[k3],S1[k4])\n",
      "/Users/gian/Code/CIPEC/CIPEC.py:378: SyntaxWarning: invalid escape sequence '\\o'\n",
      "  C2['('+k1+'\\otimes '+k2+').iSWAP.('+k3+'\\otimes '+k4+')'] = kron@iSWAP@np.kron(S1[k3],S1[k4])\n",
      "/Users/gian/Code/CIPEC/CIPEC.py:379: SyntaxWarning: invalid escape sequence '\\o'\n",
      "  C2['('+k1+'\\otimes '+k2+').SWAP'] = kron@SWAP\n"
     ]
    },
    {
     "ename": "NameError",
     "evalue": "name 'random_U_with_fixed_T_count' is not defined",
     "output_type": "error",
     "traceback": [
      "\u001b[0;31m---------------------------------------------------------------------------\u001b[0m",
      "\u001b[0;31mNameError\u001b[0m                                 Traceback (most recent call last)",
      "Cell \u001b[0;32mIn[57], line 3\u001b[0m\n\u001b[1;32m      1\u001b[0m \u001b[38;5;28;01mfor\u001b[39;00m _ \u001b[38;5;129;01min\u001b[39;00m \u001b[38;5;28mrange\u001b[39m(\u001b[38;5;241m10\u001b[39m):\n\u001b[0;32m----> 3\u001b[0m     nonclifford \u001b[38;5;241m=\u001b[39m \u001b[43mrandom_U_with_fixed_T_count\u001b[49m\u001b[43m(\u001b[49m\u001b[38;5;241;43m1\u001b[39;49m\u001b[43m,\u001b[49m\u001b[43mnT\u001b[49m\u001b[38;5;241;43m=\u001b[39;49m\u001b[38;5;241;43m3\u001b[39;49m\u001b[43m,\u001b[49m\u001b[43mignore_global_phase\u001b[49m\u001b[38;5;241;43m=\u001b[39;49m\u001b[38;5;28;43;01mTrue\u001b[39;49;00m\u001b[43m,\u001b[49m\u001b[43mletters\u001b[49m\u001b[38;5;241;43m=\u001b[39;49m\u001b[38;5;124;43m'\u001b[39;49m\u001b[38;5;124;43mHS\u001b[39;49m\u001b[38;5;124;43m'\u001b[39;49m\u001b[43m)\u001b[49m\n\u001b[1;32m      4\u001b[0m     fancy_display(nonclifford)\n\u001b[1;32m      6\u001b[0m \u001b[38;5;66;03m# for k,v in noncliffords.items():\u001b[39;00m\n\u001b[1;32m      7\u001b[0m \u001b[38;5;66;03m#     fancy_display(v,k)\u001b[39;00m\n",
      "File \u001b[0;32m~/Code/CIPEC/CIPEC.py:408\u001b[0m, in \u001b[0;36mrandom_U_with_fixed_T_count\u001b[0;34m(nqubits, nT, ignore_global_phase, letters)\u001b[0m\n\u001b[1;32m    405\u001b[0m     c1 \u001b[38;5;241m=\u001b[39m random_clifford(nqubits,\u001b[38;5;241m1\u001b[39m,ignore_global_phase,letters)\n\u001b[1;32m    406\u001b[0m     \u001b[38;5;28;01mreturn\u001b[39;00m \u001b[38;5;28mlist\u001b[39m(c\u001b[38;5;241m.\u001b[39mkeys())[\u001b[38;5;241m0\u001b[39m], \u001b[38;5;28mlist\u001b[39m(c\u001b[38;5;241m.\u001b[39mvalues())[\u001b[38;5;241m0\u001b[39m]\n\u001b[0;32m--> 408\u001b[0m \u001b[38;5;28;01mif\u001b[39;00m nT \u001b[38;5;241m>\u001b[39m \u001b[38;5;241m0\u001b[39m:\n\u001b[1;32m    409\u001b[0m     c2 \u001b[38;5;241m=\u001b[39m random_clifford(nqubits,\u001b[38;5;241m1\u001b[39m,ignore_global_phase,letters)\n\u001b[1;32m    410\u001b[0m     k \u001b[38;5;241m=\u001b[39m \u001b[38;5;28mlist\u001b[39m(c2\u001b[38;5;241m.\u001b[39mkeys())[\u001b[38;5;241m0\u001b[39m]\n",
      "\u001b[0;31mNameError\u001b[0m: name 'random_U_with_fixed_T_count' is not defined"
     ]
    }
   ],
   "source": [
    "for _ in range(10):\n",
    "\n",
    "    nonclifford = random_U_fixed_T(1,nT=3,ignore_global_phase=True,letters='HS')\n",
    "    fancy_display(nonclifford)\n",
    "\n",
    "# for k,v in noncliffords.items():\n",
    "#     fancy_display(v,k)"
   ]
  },
  {
   "cell_type": "code",
   "execution_count": 96,
   "id": "e5b5ad71",
   "metadata": {},
   "outputs": [
    {
     "data": {
      "text/latex": [
       "$(T \\otimes I).(EX\\otimes EEX).CNOT.(-E\\otimes EE).(I \\otimes T).(ES\\otimes EE).iSWAP.(-E\\otimes I).(I \\otimes T).(ES\\otimes XSS).CNOT.(EE\\otimes I).=\\left[\\begin{matrix}-0.354 - 0.354 i & 0.5 i & -0.354 - 0.354 i & - 0.5 i\\\\-0.5 & -0.354 - 0.354 i & 0.5 & -0.354 - 0.354 i\\\\-0.354 - 0.354 i & 0.5 i & 0.354 + 0.354 i & 0.5 i\\\\- 0.5 i & 0.354 - 0.354 i & - 0.5 i & -0.354 + 0.354 i\\end{matrix}\\right]$"
      ],
      "text/plain": [
       "<IPython.core.display.Latex object>"
      ]
     },
     "metadata": {},
     "output_type": "display_data"
    }
   ],
   "source": [
    "noncliffords = random_U_with_fixed_T_count(2,3,True,'SEX')\n",
    "\n",
    "for k,v in noncliffords.items():\n",
    "    fancy_display(v,k)"
   ]
  },
  {
   "cell_type": "code",
   "execution_count": null,
   "id": "a0a73407-d014-40ef-86a0-e4194f76697f",
   "metadata": {},
   "outputs": [],
   "source": []
  }
 ],
 "metadata": {
  "kernelspec": {
   "display_name": "Python 3 (ipykernel)",
   "language": "python",
   "name": "python3"
  },
  "language_info": {
   "codemirror_mode": {
    "name": "ipython",
    "version": 3
   },
   "file_extension": ".py",
   "mimetype": "text/x-python",
   "name": "python",
   "nbconvert_exporter": "python",
   "pygments_lexer": "ipython3",
   "version": "3.12.5"
  }
 },
 "nbformat": 4,
 "nbformat_minor": 5
}
