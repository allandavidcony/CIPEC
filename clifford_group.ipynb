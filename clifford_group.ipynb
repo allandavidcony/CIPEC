{
 "cells": [
  {
   "cell_type": "code",
   "execution_count": 87,
   "id": "3eb1b399",
   "metadata": {},
   "outputs": [
    {
     "name": "stdout",
     "output_type": "stream",
     "text": [
      "The autoreload extension is already loaded. To reload it, use:\n",
      "  %reload_ext autoreload\n"
     ]
    }
   ],
   "source": [
    "%load_ext autoreload\n",
    "%autoreload 2"
   ]
  },
  {
   "cell_type": "code",
   "execution_count": 88,
   "id": "0c52827a",
   "metadata": {},
   "outputs": [
    {
     "data": {
      "text/html": [
       "<style>.container { width:100% !important; }</style>"
      ],
      "text/plain": [
       "<IPython.core.display.HTML object>"
      ]
     },
     "metadata": {},
     "output_type": "display_data"
    }
   ],
   "source": [
    "from CIPEC import *\n",
    "\n",
    "from IPython.display import display, HTML\n",
    "display(HTML(\"<style>.container { width:100% !important; }</style>\"))"
   ]
  },
  {
   "cell_type": "markdown",
   "id": "d0e1a363",
   "metadata": {},
   "source": [
    "# Clifford group of 1 and 2 qubits"
   ]
  },
  {
   "cell_type": "markdown",
   "id": "a03708a8",
   "metadata": {},
   "source": [
    "This generator works by using the decomposition exploited by [Ross and Selinger](https://hackage.haskell.org/package/newsynth) in their circuit synthesis package. In particular, they use that the single-qubit Clifford group can be characterized as\n",
    "\n",
    "$$\\mathcal{C}_1 = \\left\\{\\omega^i E^j X^k S^\\ell |i \\in \\text{range}(8), j \\in \\text{range}(3), k \\in \\text{range}(2), \\ell \\in \\text{range}(4) \\right\\}$$\n",
    "\n",
    "where $\\omega = \\mathrm{e}^{\\mathrm{i}\\pi/4}$, $E = \\omega^3 H S^3$, and $X=HS^2H$ is the familiar Pauli matrix. "
   ]
  },
  {
   "cell_type": "code",
   "execution_count": 3,
   "id": "49d86f63",
   "metadata": {},
   "outputs": [
    {
     "name": "stdout",
     "output_type": "stream",
     "text": [
      "dim(Clifford)=24, generated 24\n"
     ]
    },
    {
     "data": {
      "text/latex": [
       "$I=\\left[\\begin{matrix}1.0 & 0\\\\0 & 1.0\\end{matrix}\\right]$"
      ],
      "text/plain": [
       "<IPython.core.display.Latex object>"
      ]
     },
     "metadata": {},
     "output_type": "display_data"
    },
    {
     "data": {
      "text/latex": [
       "$S=\\left[\\begin{matrix}1.0 & 0\\\\0 & 1.0 i\\end{matrix}\\right]$"
      ],
      "text/plain": [
       "<IPython.core.display.Latex object>"
      ]
     },
     "metadata": {},
     "output_type": "display_data"
    },
    {
     "data": {
      "text/latex": [
       "$SS=\\left[\\begin{matrix}1.0 & 0\\\\0 & -1.0\\end{matrix}\\right]$"
      ],
      "text/plain": [
       "<IPython.core.display.Latex object>"
      ]
     },
     "metadata": {},
     "output_type": "display_data"
    },
    {
     "data": {
      "text/latex": [
       "$SSS=\\left[\\begin{matrix}1.0 & 0\\\\0 & - 1.0 i\\end{matrix}\\right]$"
      ],
      "text/plain": [
       "<IPython.core.display.Latex object>"
      ]
     },
     "metadata": {},
     "output_type": "display_data"
    },
    {
     "data": {
      "text/latex": [
       "$X=\\left[\\begin{matrix}0 & 1.0\\\\1.0 & 0\\end{matrix}\\right]$"
      ],
      "text/plain": [
       "<IPython.core.display.Latex object>"
      ]
     },
     "metadata": {},
     "output_type": "display_data"
    },
    {
     "data": {
      "text/latex": [
       "$XS=\\left[\\begin{matrix}0 & 1.0 i\\\\1.0 & 0\\end{matrix}\\right]$"
      ],
      "text/plain": [
       "<IPython.core.display.Latex object>"
      ]
     },
     "metadata": {},
     "output_type": "display_data"
    },
    {
     "data": {
      "text/latex": [
       "$XSS=\\left[\\begin{matrix}0 & -1.0\\\\1.0 & 0\\end{matrix}\\right]$"
      ],
      "text/plain": [
       "<IPython.core.display.Latex object>"
      ]
     },
     "metadata": {},
     "output_type": "display_data"
    },
    {
     "data": {
      "text/latex": [
       "$XSSS=\\left[\\begin{matrix}0 & - 1.0 i\\\\1.0 & 0\\end{matrix}\\right]$"
      ],
      "text/plain": [
       "<IPython.core.display.Latex object>"
      ]
     },
     "metadata": {},
     "output_type": "display_data"
    },
    {
     "data": {
      "text/latex": [
       "$E=\\left[\\begin{matrix}-0.5 + 0.5 i & 0.5 + 0.5 i\\\\-0.5 + 0.5 i & -0.5 - 0.5 i\\end{matrix}\\right]$"
      ],
      "text/plain": [
       "<IPython.core.display.Latex object>"
      ]
     },
     "metadata": {},
     "output_type": "display_data"
    },
    {
     "data": {
      "text/latex": [
       "$ES=\\left[\\begin{matrix}-0.5 + 0.5 i & -0.5 + 0.5 i\\\\-0.5 + 0.5 i & 0.5 - 0.5 i\\end{matrix}\\right]$"
      ],
      "text/plain": [
       "<IPython.core.display.Latex object>"
      ]
     },
     "metadata": {},
     "output_type": "display_data"
    },
    {
     "data": {
      "text/latex": [
       "$ESS=\\left[\\begin{matrix}-0.5 + 0.5 i & -0.5 - 0.5 i\\\\-0.5 + 0.5 i & 0.5 + 0.5 i\\end{matrix}\\right]$"
      ],
      "text/plain": [
       "<IPython.core.display.Latex object>"
      ]
     },
     "metadata": {},
     "output_type": "display_data"
    },
    {
     "data": {
      "text/latex": [
       "$ESSS=\\left[\\begin{matrix}-0.5 + 0.5 i & 0.5 - 0.5 i\\\\-0.5 + 0.5 i & -0.5 + 0.5 i\\end{matrix}\\right]$"
      ],
      "text/plain": [
       "<IPython.core.display.Latex object>"
      ]
     },
     "metadata": {},
     "output_type": "display_data"
    },
    {
     "data": {
      "text/latex": [
       "$EX=\\left[\\begin{matrix}0.5 + 0.5 i & -0.5 + 0.5 i\\\\-0.5 - 0.5 i & -0.5 + 0.5 i\\end{matrix}\\right]$"
      ],
      "text/plain": [
       "<IPython.core.display.Latex object>"
      ]
     },
     "metadata": {},
     "output_type": "display_data"
    },
    {
     "data": {
      "text/latex": [
       "$EXS=\\left[\\begin{matrix}0.5 + 0.5 i & -0.5 - 0.5 i\\\\-0.5 - 0.5 i & -0.5 - 0.5 i\\end{matrix}\\right]$"
      ],
      "text/plain": [
       "<IPython.core.display.Latex object>"
      ]
     },
     "metadata": {},
     "output_type": "display_data"
    },
    {
     "data": {
      "text/latex": [
       "$EXSS=\\left[\\begin{matrix}0.5 + 0.5 i & 0.5 - 0.5 i\\\\-0.5 - 0.5 i & 0.5 - 0.5 i\\end{matrix}\\right]$"
      ],
      "text/plain": [
       "<IPython.core.display.Latex object>"
      ]
     },
     "metadata": {},
     "output_type": "display_data"
    },
    {
     "data": {
      "text/latex": [
       "$EXSSS=\\left[\\begin{matrix}0.5 + 0.5 i & 0.5 + 0.5 i\\\\-0.5 - 0.5 i & 0.5 + 0.5 i\\end{matrix}\\right]$"
      ],
      "text/plain": [
       "<IPython.core.display.Latex object>"
      ]
     },
     "metadata": {},
     "output_type": "display_data"
    },
    {
     "data": {
      "text/latex": [
       "$EE=\\left[\\begin{matrix}-0.5 - 0.5 i & -0.5 - 0.5 i\\\\0.5 - 0.5 i & -0.5 + 0.5 i\\end{matrix}\\right]$"
      ],
      "text/plain": [
       "<IPython.core.display.Latex object>"
      ]
     },
     "metadata": {},
     "output_type": "display_data"
    },
    {
     "data": {
      "text/latex": [
       "$EES=\\left[\\begin{matrix}-0.5 - 0.5 i & 0.5 - 0.5 i\\\\0.5 - 0.5 i & -0.5 - 0.5 i\\end{matrix}\\right]$"
      ],
      "text/plain": [
       "<IPython.core.display.Latex object>"
      ]
     },
     "metadata": {},
     "output_type": "display_data"
    },
    {
     "data": {
      "text/latex": [
       "$EESS=\\left[\\begin{matrix}-0.5 - 0.5 i & 0.5 + 0.5 i\\\\0.5 - 0.5 i & 0.5 - 0.5 i\\end{matrix}\\right]$"
      ],
      "text/plain": [
       "<IPython.core.display.Latex object>"
      ]
     },
     "metadata": {},
     "output_type": "display_data"
    },
    {
     "data": {
      "text/latex": [
       "$EESSS=\\left[\\begin{matrix}-0.5 - 0.5 i & -0.5 + 0.5 i\\\\0.5 - 0.5 i & 0.5 + 0.5 i\\end{matrix}\\right]$"
      ],
      "text/plain": [
       "<IPython.core.display.Latex object>"
      ]
     },
     "metadata": {},
     "output_type": "display_data"
    },
    {
     "data": {
      "text/latex": [
       "$EEX=\\left[\\begin{matrix}-0.5 - 0.5 i & -0.5 - 0.5 i\\\\-0.5 + 0.5 i & 0.5 - 0.5 i\\end{matrix}\\right]$"
      ],
      "text/plain": [
       "<IPython.core.display.Latex object>"
      ]
     },
     "metadata": {},
     "output_type": "display_data"
    },
    {
     "data": {
      "text/latex": [
       "$EEXS=\\left[\\begin{matrix}-0.5 - 0.5 i & 0.5 - 0.5 i\\\\-0.5 + 0.5 i & 0.5 + 0.5 i\\end{matrix}\\right]$"
      ],
      "text/plain": [
       "<IPython.core.display.Latex object>"
      ]
     },
     "metadata": {},
     "output_type": "display_data"
    },
    {
     "data": {
      "text/latex": [
       "$EEXSS=\\left[\\begin{matrix}-0.5 - 0.5 i & 0.5 + 0.5 i\\\\-0.5 + 0.5 i & -0.5 + 0.5 i\\end{matrix}\\right]$"
      ],
      "text/plain": [
       "<IPython.core.display.Latex object>"
      ]
     },
     "metadata": {},
     "output_type": "display_data"
    },
    {
     "data": {
      "text/latex": [
       "$EEXSSS=\\left[\\begin{matrix}-0.5 - 0.5 i & -0.5 + 0.5 i\\\\-0.5 + 0.5 i & -0.5 - 0.5 i\\end{matrix}\\right]$"
      ],
      "text/plain": [
       "<IPython.core.display.Latex object>"
      ]
     },
     "metadata": {},
     "output_type": "display_data"
    }
   ],
   "source": [
    "C = clifford_group(1,letters='SEX')\n",
    "print(f'dim(Clifford)={clifford_dim(1)}, generated {len(C)}')\n",
    "\n",
    "for k,v in C.items():\n",
    "    fancy_display(v,k)"
   ]
  },
  {
   "cell_type": "code",
   "execution_count": 4,
   "id": "33691069",
   "metadata": {},
   "outputs": [
    {
     "name": "stdout",
     "output_type": "stream",
     "text": [
      "dim(Clifford)=11520, generated 11520\n"
     ]
    },
    {
     "data": {
      "text/latex": [
       "$(EESS\\otimes EXSSS).CNOT.(-E\\otimes -E)=\\left[\\begin{matrix}0 & 0 & 1.0 i & 0\\\\0 & - 1.0 i & 0 & 0\\\\- 1.0 i & 0 & 0 & 0\\\\0 & 0 & 0 & - 1.0 i\\end{matrix}\\right]$"
      ],
      "text/plain": [
       "<IPython.core.display.Latex object>"
      ]
     },
     "metadata": {},
     "output_type": "display_data"
    },
    {
     "data": {
      "text/latex": [
       "$(X\\otimes XS).CNOT.(I\\otimes I)=\\left[\\begin{matrix}0 & 0 & 1.0 i & 0\\\\0 & 0 & 0 & 1.0\\\\0 & 1.0 i & 0 & 0\\\\1.0 & 0 & 0 & 0\\end{matrix}\\right]$"
      ],
      "text/plain": [
       "<IPython.core.display.Latex object>"
      ]
     },
     "metadata": {},
     "output_type": "display_data"
    },
    {
     "data": {
      "text/latex": [
       "$(I\\otimes EEXS).iSWAP.(-E\\otimes -E)=\\left[\\begin{matrix}0 & 0 & 0.5 + 0.5 i & 0.5 - 0.5 i\\\\0.5 + 0.5 i & 0.5 - 0.5 i & 0 & 0\\\\-0.5 - 0.5 i & 0.5 - 0.5 i & 0 & 0\\\\0 & 0 & 0.5 + 0.5 i & -0.5 + 0.5 i\\end{matrix}\\right]$"
      ],
      "text/plain": [
       "<IPython.core.display.Latex object>"
      ]
     },
     "metadata": {},
     "output_type": "display_data"
    },
    {
     "data": {
      "text/latex": [
       "$(SSS\\otimes EXSSS).iSWAP.(I\\otimes -E)=\\left[\\begin{matrix}0.5 & - 0.5 i & 0.5 i & 0.5\\\\-0.5 & 0.5 i & 0.5 i & 0.5\\\\0.5 & 0.5 i & - 0.5 i & 0.5\\\\-0.5 & - 0.5 i & - 0.5 i & 0.5\\end{matrix}\\right]$"
      ],
      "text/plain": [
       "<IPython.core.display.Latex object>"
      ]
     },
     "metadata": {},
     "output_type": "display_data"
    },
    {
     "data": {
      "text/latex": [
       "$(EXSS\\otimes EXSS).CNOT.(-E\\otimes -E)=\\left[\\begin{matrix}- 0.5 i & 0.5 & - 0.5 i & -0.5\\\\-0.5 & 0.5 i & -0.5 & - 0.5 i\\\\-0.5 & 0.5 i & 0.5 & 0.5 i\\\\0.5 i & -0.5 & - 0.5 i & -0.5\\end{matrix}\\right]$"
      ],
      "text/plain": [
       "<IPython.core.display.Latex object>"
      ]
     },
     "metadata": {},
     "output_type": "display_data"
    }
   ],
   "source": [
    "C = clifford_group(2,letters='SEX')\n",
    "\n",
    "print(f'dim(Clifford)={clifford_dim(2)}, generated {len(C)}')\n",
    "for k,v in [list(C.items())[i] for i in np.random.randint(0,len(C),5)]:\n",
    "    fancy_display(v,k)"
   ]
  },
  {
   "cell_type": "markdown",
   "id": "73347880",
   "metadata": {},
   "source": [
    "# Random Clifford sampling"
   ]
  },
  {
   "cell_type": "code",
   "execution_count": 29,
   "id": "d1cfccf1",
   "metadata": {},
   "outputs": [
    {
     "data": {
      "text/latex": [
       "$\\omega^6HSSSHSSSSS=\\left[\\begin{matrix}-0.5 - 0.5 i & 0.5 + 0.5 i\\\\0.5 - 0.5 i & 0.5 - 0.5 i\\end{matrix}\\right]$"
      ],
      "text/plain": [
       "<IPython.core.display.Latex object>"
      ]
     },
     "metadata": {},
     "output_type": "display_data"
    },
    {
     "data": {
      "text/latex": [
       "$\\omega^3HSSSSS=\\left[\\begin{matrix}-0.5 + 0.5 i & -0.5 - 0.5 i\\\\-0.5 + 0.5 i & 0.5 + 0.5 i\\end{matrix}\\right]$"
      ],
      "text/plain": [
       "<IPython.core.display.Latex object>"
      ]
     },
     "metadata": {},
     "output_type": "display_data"
    },
    {
     "data": {
      "text/latex": [
       "$\\omega^3HSSSHSSHSSS=\\left[\\begin{matrix}0.5 + 0.5 i & 0.5 + 0.5 i\\\\-0.5 - 0.5 i & 0.5 + 0.5 i\\end{matrix}\\right]$"
      ],
      "text/plain": [
       "<IPython.core.display.Latex object>"
      ]
     },
     "metadata": {},
     "output_type": "display_data"
    }
   ],
   "source": [
    "cliffords = random_clifford(1,3,True,'HS')\n",
    "\n",
    "for k,v in cliffords.items():\n",
    "    fancy_display(v,k)"
   ]
  },
  {
   "cell_type": "code",
   "execution_count": 39,
   "id": "48e347e7",
   "metadata": {},
   "outputs": [
    {
     "data": {
      "text/latex": [
       "$(\\omega^0HSSHSSS\\otimes \\omega^0SSS)=\\left[\\begin{matrix}0 & 0 & - 1.0 i & 0\\\\0 & 0 & 0 & -1.0\\\\1.0 & 0 & 0 & 0\\\\0 & - 1.0 i & 0 & 0\\end{matrix}\\right]$"
      ],
      "text/plain": [
       "<IPython.core.display.Latex object>"
      ]
     },
     "metadata": {},
     "output_type": "display_data"
    },
    {
     "data": {
      "text/latex": [
       "$(\\omega^6HSSSHSSSHSSHS\\otimes \\omega^6HSSSHSSSSSS).CNOT.(\\omega^6HSSSHSSS\\otimes -\\omega^3HSSS)=\\left[\\begin{matrix}0 & -0.5 - 0.5 i & -0.5 - 0.5 i & 0\\\\0 & -0.5 - 0.5 i & 0.5 + 0.5 i & 0\\\\-0.5 + 0.5 i & 0 & 0 & -0.5 + 0.5 i\\\\0.5 - 0.5 i & 0 & 0 & -0.5 + 0.5 i\\end{matrix}\\right]$"
      ],
      "text/plain": [
       "<IPython.core.display.Latex object>"
      ]
     },
     "metadata": {},
     "output_type": "display_data"
    },
    {
     "data": {
      "text/latex": [
       "$(\\omega^3HSSSSS\\otimes \\omega^6HSSSHSSSHSSHSS)=\\left[\\begin{matrix}0.5 & -0.5 & 0.5 i & - 0.5 i\\\\- 0.5 i & - 0.5 i & 0.5 & 0.5\\\\0.5 & -0.5 & - 0.5 i & 0.5 i\\\\- 0.5 i & - 0.5 i & -0.5 & -0.5\\end{matrix}\\right]$"
      ],
      "text/plain": [
       "<IPython.core.display.Latex object>"
      ]
     },
     "metadata": {},
     "output_type": "display_data"
    }
   ],
   "source": [
    "cliffords = random_clifford(2,3,True,'HS')\n",
    "\n",
    "for k,v in cliffords.items():\n",
    "    fancy_display(v,k)"
   ]
  },
  {
   "cell_type": "code",
   "execution_count": null,
   "id": "cef02752-075b-402b-b057-61d443ac4b0e",
   "metadata": {},
   "outputs": [],
   "source": []
  },
  {
   "cell_type": "code",
   "execution_count": null,
   "id": "b5aefdc8-9e1e-4bd3-adee-e52dea582f6f",
   "metadata": {},
   "outputs": [],
   "source": []
  },
  {
   "cell_type": "markdown",
   "id": "bc093223-2a7f-4df6-8ec1-0d91fb3078d2",
   "metadata": {},
   "source": [
    "# Random U with a fixed number of T's"
   ]
  },
  {
   "cell_type": "code",
   "execution_count": 75,
   "id": "d9eb12b8",
   "metadata": {},
   "outputs": [
    {
     "data": {
      "text/latex": [
       "$EEXSSS.T.EXSSS.T.X.T.SS.T.EEXSSS.T.X=\\left[\\begin{matrix}-0.354 + 0.854 i & 0.146 + 0.354 i\\\\-0.146 - 0.354 i & 0.854 + 0.354 i\\end{matrix}\\right]$"
      ],
      "text/plain": [
       "<IPython.core.display.Latex object>"
      ]
     },
     "metadata": {},
     "output_type": "display_data"
    },
    {
     "data": {
      "text/latex": [
       "$EXS.T.XS.T.EEX.T.EEX.T.ESS.T.EXS=\\left[\\begin{matrix}0.354 + 0.854 i & -0.354 + 0.146 i\\\\0.146 + 0.354 i & 0.854 - 0.354 i\\end{matrix}\\right]$"
      ],
      "text/plain": [
       "<IPython.core.display.Latex object>"
      ]
     },
     "metadata": {},
     "output_type": "display_data"
    },
    {
     "data": {
      "text/latex": [
       "$EEXSS.T.SSS.T.ESS.T.XSS.T.XSSS.T.EEXSS=\\left[\\begin{matrix}-0.5 & -0.146 + 0.854 i\\\\0.5 - 0.707 i & 0.354 + 0.354 i\\end{matrix}\\right]$"
      ],
      "text/plain": [
       "<IPython.core.display.Latex object>"
      ]
     },
     "metadata": {},
     "output_type": "display_data"
    }
   ],
   "source": [
    "for _ in range(3):\n",
    "\n",
    "    nonclifford = random_U_fixed_T(1,nT=5,ignore_global_phase=True,letters='SEX')\n",
    "    fancy_display(nonclifford[1],nonclifford[0])"
   ]
  },
  {
   "cell_type": "code",
   "execution_count": 94,
   "id": "e5b5ad71",
   "metadata": {},
   "outputs": [
    {
     "data": {
      "text/latex": [
       "$(EXSS\\otimes EESS).CNOT.(EE\\otimes EE).I \\otimes T.(SSS\\otimes X).CNOT.(-E\\otimes EE).I \\otimes T.(XSSS\\otimes ESSS).iSWAP.(EE\\otimes -E).I \\otimes T.(ESS\\otimes EESS).iSWAP.(I\\otimes I)=\\left[\\begin{matrix}0.427 - 0.177 i & 0.323 + 0.78 i & 0.177 - 0.073 i & 0.073 + 0.177 i\\\\-0.323 - 0.78 i & -0.427 + 0.177 i & 0.073 + 0.177 i & 0.177 - 0.073 i\\\\0.177 - 0.073 i & 0.073 + 0.177 i & -0.427 + 0.177 i & -0.323 - 0.78 i\\\\-0.073 - 0.177 i & -0.177 + 0.073 i & -0.323 - 0.78 i & -0.427 + 0.177 i\\end{matrix}\\right]$"
      ],
      "text/plain": [
       "<IPython.core.display.Latex object>"
      ]
     },
     "metadata": {},
     "output_type": "display_data"
    },
    {
     "data": {
      "text/latex": [
       "$(EE\\otimes EXSS).iSWAP.(EE\\otimes -E).I \\otimes T.(ESS\\otimes ESSS).CNOT.(I\\otimes EE).I \\otimes T.(E\\otimes EESS).CNOT.(I\\otimes EE).I \\otimes T.(SS\\otimes I).iSWAP.(-E\\otimes I)=\\left[\\begin{matrix}0.073 - 0.177 i & 0.177 - 0.427 i & 0.073 - 0.677 i & 0.53 - 0.073 i\\\\-0.073 - 0.53 i & -0.677 - 0.073 i & 0.427 + 0.177 i & 0.177 + 0.073 i\\\\-0.427 - 0.177 i & 0.177 + 0.073 i & -0.427 + 0.323 i & 0.53 + 0.427 i\\\\0.427 - 0.53 i & 0.323 + 0.427 i & -0.073 + 0.177 i & 0.177 - 0.427 i\\end{matrix}\\right]$"
      ],
      "text/plain": [
       "<IPython.core.display.Latex object>"
      ]
     },
     "metadata": {},
     "output_type": "display_data"
    },
    {
     "data": {
      "text/latex": [
       "$(ESS\\otimes EE).iSWAP.(EE\\otimes I).T \\otimes T.(SSS\\otimes SS).iSWAP.(-E\\otimes EE).I \\otimes T.(EEXSSS\\otimes EXSSS).CNOT.(-E\\otimes -E)=\\left[\\begin{matrix}0.25 + 0.104 i & -0.25 + 0.604 i & -0.104 + 0.25 i & -0.604 - 0.25 i\\\\0.604 - 0.25 i & -0.104 - 0.25 i & 0.604 - 0.25 i & -0.104 - 0.25 i\\\\0.25 + 0.104 i & -0.25 + 0.604 i & 0.104 - 0.25 i & 0.604 + 0.25 i\\\\0.604 - 0.25 i & -0.104 - 0.25 i & -0.604 + 0.25 i & 0.104 + 0.25 i\\end{matrix}\\right]$"
      ],
      "text/plain": [
       "<IPython.core.display.Latex object>"
      ]
     },
     "metadata": {},
     "output_type": "display_data"
    }
   ],
   "source": [
    "for _ in range(3):\n",
    "\n",
    "    nonclifford = random_U_fixed_T(2,nT=3,ignore_global_phase=True,letters='SEX')\n",
    "    fancy_display(nonclifford[1],nonclifford[0])"
   ]
  },
  {
   "cell_type": "code",
   "execution_count": null,
   "id": "59b1aa96-3fed-4754-8264-0522085c44d7",
   "metadata": {},
   "outputs": [],
   "source": []
  }
 ],
 "metadata": {
  "kernelspec": {
   "display_name": "Python 3 (ipykernel)",
   "language": "python",
   "name": "python3"
  },
  "language_info": {
   "codemirror_mode": {
    "name": "ipython",
    "version": 3
   },
   "file_extension": ".py",
   "mimetype": "text/x-python",
   "name": "python",
   "nbconvert_exporter": "python",
   "pygments_lexer": "ipython3",
   "version": "3.9.15"
  }
 },
 "nbformat": 4,
 "nbformat_minor": 5
}
