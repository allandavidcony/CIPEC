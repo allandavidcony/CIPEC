{
 "cells": [
  {
   "cell_type": "code",
   "execution_count": 16,
   "id": "3eb1b399",
   "metadata": {},
   "outputs": [
    {
     "name": "stdout",
     "output_type": "stream",
     "text": [
      "The autoreload extension is already loaded. To reload it, use:\n",
      "  %reload_ext autoreload\n"
     ]
    }
   ],
   "source": [
    "%load_ext autoreload\n",
    "%autoreload 2"
   ]
  },
  {
   "cell_type": "code",
   "execution_count": 17,
   "id": "0c52827a",
   "metadata": {},
   "outputs": [
    {
     "data": {
      "text/html": [
       "<style>.container { width:100% !important; }</style>"
      ],
      "text/plain": [
       "<IPython.core.display.HTML object>"
      ]
     },
     "metadata": {},
     "output_type": "display_data"
    }
   ],
   "source": [
    "from CIPEC import *\n",
    "\n",
    "from IPython.display import display, HTML\n",
    "display(HTML(\"<style>.container { width:100% !important; }</style>\"))"
   ]
  },
  {
   "cell_type": "markdown",
   "id": "d0e1a363",
   "metadata": {},
   "source": [
    "# Clifford group of 1 and 2 qubits"
   ]
  },
  {
   "cell_type": "markdown",
   "id": "a03708a8",
   "metadata": {},
   "source": [
    "This generator works by using the decomposition exploited by [Ross and Selinger](https://hackage.haskell.org/package/newsynth) in their circuit synthesis package. In particular, they use that the single-qubit Clifford group can be characterized as\n",
    "\n",
    "$$\\mathcal{C}_1 = \\left\\{\\omega^i E^j X^k S^\\ell |i \\in \\text{range}(8), j \\in \\text{range}(3), k \\in \\text{range}(2), \\ell \\in \\text{range}(4) \\right\\}$$\n",
    "\n",
    "where $\\omega = \\mathrm{e}^{\\mathrm{i}\\pi/4}$, $E = \\omega^3 H S^3$, and $X=HS^2H$ is the familiar Pauli matrix. "
   ]
  },
  {
   "cell_type": "code",
   "execution_count": 113,
   "id": "49d86f63",
   "metadata": {},
   "outputs": [
    {
     "name": "stdout",
     "output_type": "stream",
     "text": [
      "dim(Clifford)=24, generated 24\n"
     ]
    },
    {
     "data": {
      "text/latex": [
       "$I=\\left[\\begin{matrix}1.0 & 0\\\\0 & 1.0\\end{matrix}\\right]$"
      ],
      "text/plain": [
       "<IPython.core.display.Latex object>"
      ]
     },
     "metadata": {},
     "output_type": "display_data"
    },
    {
     "data": {
      "text/latex": [
       "$S=\\left[\\begin{matrix}1.0 & 0\\\\0 & 1.0 i\\end{matrix}\\right]$"
      ],
      "text/plain": [
       "<IPython.core.display.Latex object>"
      ]
     },
     "metadata": {},
     "output_type": "display_data"
    },
    {
     "data": {
      "text/latex": [
       "$SS=\\left[\\begin{matrix}1.0 & 0\\\\0 & -1.0\\end{matrix}\\right]$"
      ],
      "text/plain": [
       "<IPython.core.display.Latex object>"
      ]
     },
     "metadata": {},
     "output_type": "display_data"
    },
    {
     "data": {
      "text/latex": [
       "$SSS=\\left[\\begin{matrix}1.0 & 0\\\\0 & - 1.0 i\\end{matrix}\\right]$"
      ],
      "text/plain": [
       "<IPython.core.display.Latex object>"
      ]
     },
     "metadata": {},
     "output_type": "display_data"
    },
    {
     "data": {
      "text/latex": [
       "$X=\\left[\\begin{matrix}0 & 1.0\\\\1.0 & 0\\end{matrix}\\right]$"
      ],
      "text/plain": [
       "<IPython.core.display.Latex object>"
      ]
     },
     "metadata": {},
     "output_type": "display_data"
    },
    {
     "data": {
      "text/latex": [
       "$XS=\\left[\\begin{matrix}0 & 1.0 i\\\\1.0 & 0\\end{matrix}\\right]$"
      ],
      "text/plain": [
       "<IPython.core.display.Latex object>"
      ]
     },
     "metadata": {},
     "output_type": "display_data"
    },
    {
     "data": {
      "text/latex": [
       "$XSS=\\left[\\begin{matrix}0 & -1.0\\\\1.0 & 0\\end{matrix}\\right]$"
      ],
      "text/plain": [
       "<IPython.core.display.Latex object>"
      ]
     },
     "metadata": {},
     "output_type": "display_data"
    },
    {
     "data": {
      "text/latex": [
       "$XSSS=\\left[\\begin{matrix}0 & - 1.0 i\\\\1.0 & 0\\end{matrix}\\right]$"
      ],
      "text/plain": [
       "<IPython.core.display.Latex object>"
      ]
     },
     "metadata": {},
     "output_type": "display_data"
    },
    {
     "data": {
      "text/latex": [
       "$E=\\left[\\begin{matrix}-0.5 + 0.5 i & 0.5 + 0.5 i\\\\-0.5 + 0.5 i & -0.5 - 0.5 i\\end{matrix}\\right]$"
      ],
      "text/plain": [
       "<IPython.core.display.Latex object>"
      ]
     },
     "metadata": {},
     "output_type": "display_data"
    },
    {
     "data": {
      "text/latex": [
       "$ES=\\left[\\begin{matrix}-0.5 + 0.5 i & -0.5 + 0.5 i\\\\-0.5 + 0.5 i & 0.5 - 0.5 i\\end{matrix}\\right]$"
      ],
      "text/plain": [
       "<IPython.core.display.Latex object>"
      ]
     },
     "metadata": {},
     "output_type": "display_data"
    },
    {
     "data": {
      "text/latex": [
       "$ESS=\\left[\\begin{matrix}-0.5 + 0.5 i & -0.5 - 0.5 i\\\\-0.5 + 0.5 i & 0.5 + 0.5 i\\end{matrix}\\right]$"
      ],
      "text/plain": [
       "<IPython.core.display.Latex object>"
      ]
     },
     "metadata": {},
     "output_type": "display_data"
    },
    {
     "data": {
      "text/latex": [
       "$ESSS=\\left[\\begin{matrix}-0.5 + 0.5 i & 0.5 - 0.5 i\\\\-0.5 + 0.5 i & -0.5 + 0.5 i\\end{matrix}\\right]$"
      ],
      "text/plain": [
       "<IPython.core.display.Latex object>"
      ]
     },
     "metadata": {},
     "output_type": "display_data"
    },
    {
     "data": {
      "text/latex": [
       "$EX=\\left[\\begin{matrix}0.5 + 0.5 i & -0.5 + 0.5 i\\\\-0.5 - 0.5 i & -0.5 + 0.5 i\\end{matrix}\\right]$"
      ],
      "text/plain": [
       "<IPython.core.display.Latex object>"
      ]
     },
     "metadata": {},
     "output_type": "display_data"
    },
    {
     "data": {
      "text/latex": [
       "$EXS=\\left[\\begin{matrix}0.5 + 0.5 i & -0.5 - 0.5 i\\\\-0.5 - 0.5 i & -0.5 - 0.5 i\\end{matrix}\\right]$"
      ],
      "text/plain": [
       "<IPython.core.display.Latex object>"
      ]
     },
     "metadata": {},
     "output_type": "display_data"
    },
    {
     "data": {
      "text/latex": [
       "$EXSS=\\left[\\begin{matrix}0.5 + 0.5 i & 0.5 - 0.5 i\\\\-0.5 - 0.5 i & 0.5 - 0.5 i\\end{matrix}\\right]$"
      ],
      "text/plain": [
       "<IPython.core.display.Latex object>"
      ]
     },
     "metadata": {},
     "output_type": "display_data"
    },
    {
     "data": {
      "text/latex": [
       "$EXSSS=\\left[\\begin{matrix}0.5 + 0.5 i & 0.5 + 0.5 i\\\\-0.5 - 0.5 i & 0.5 + 0.5 i\\end{matrix}\\right]$"
      ],
      "text/plain": [
       "<IPython.core.display.Latex object>"
      ]
     },
     "metadata": {},
     "output_type": "display_data"
    },
    {
     "data": {
      "text/latex": [
       "$EE=\\left[\\begin{matrix}-0.5 - 0.5 i & -0.5 - 0.5 i\\\\0.5 - 0.5 i & -0.5 + 0.5 i\\end{matrix}\\right]$"
      ],
      "text/plain": [
       "<IPython.core.display.Latex object>"
      ]
     },
     "metadata": {},
     "output_type": "display_data"
    },
    {
     "data": {
      "text/latex": [
       "$EES=\\left[\\begin{matrix}-0.5 - 0.5 i & 0.5 - 0.5 i\\\\0.5 - 0.5 i & -0.5 - 0.5 i\\end{matrix}\\right]$"
      ],
      "text/plain": [
       "<IPython.core.display.Latex object>"
      ]
     },
     "metadata": {},
     "output_type": "display_data"
    },
    {
     "data": {
      "text/latex": [
       "$EESS=\\left[\\begin{matrix}-0.5 - 0.5 i & 0.5 + 0.5 i\\\\0.5 - 0.5 i & 0.5 - 0.5 i\\end{matrix}\\right]$"
      ],
      "text/plain": [
       "<IPython.core.display.Latex object>"
      ]
     },
     "metadata": {},
     "output_type": "display_data"
    },
    {
     "data": {
      "text/latex": [
       "$EESSS=\\left[\\begin{matrix}-0.5 - 0.5 i & -0.5 + 0.5 i\\\\0.5 - 0.5 i & 0.5 + 0.5 i\\end{matrix}\\right]$"
      ],
      "text/plain": [
       "<IPython.core.display.Latex object>"
      ]
     },
     "metadata": {},
     "output_type": "display_data"
    },
    {
     "data": {
      "text/latex": [
       "$EEX=\\left[\\begin{matrix}-0.5 - 0.5 i & -0.5 - 0.5 i\\\\-0.5 + 0.5 i & 0.5 - 0.5 i\\end{matrix}\\right]$"
      ],
      "text/plain": [
       "<IPython.core.display.Latex object>"
      ]
     },
     "metadata": {},
     "output_type": "display_data"
    },
    {
     "data": {
      "text/latex": [
       "$EEXS=\\left[\\begin{matrix}-0.5 - 0.5 i & 0.5 - 0.5 i\\\\-0.5 + 0.5 i & 0.5 + 0.5 i\\end{matrix}\\right]$"
      ],
      "text/plain": [
       "<IPython.core.display.Latex object>"
      ]
     },
     "metadata": {},
     "output_type": "display_data"
    },
    {
     "data": {
      "text/latex": [
       "$EEXSS=\\left[\\begin{matrix}-0.5 - 0.5 i & 0.5 + 0.5 i\\\\-0.5 + 0.5 i & -0.5 + 0.5 i\\end{matrix}\\right]$"
      ],
      "text/plain": [
       "<IPython.core.display.Latex object>"
      ]
     },
     "metadata": {},
     "output_type": "display_data"
    },
    {
     "data": {
      "text/latex": [
       "$EEXSSS=\\left[\\begin{matrix}-0.5 - 0.5 i & -0.5 + 0.5 i\\\\-0.5 + 0.5 i & -0.5 - 0.5 i\\end{matrix}\\right]$"
      ],
      "text/plain": [
       "<IPython.core.display.Latex object>"
      ]
     },
     "metadata": {},
     "output_type": "display_data"
    }
   ],
   "source": [
    "C = clifford_group(1,letters='SEX')\n",
    "print(f'dim(Clifford)={clifford_dim(1)}, generated {len(C)}')\n",
    "\n",
    "for k,v in C.items():\n",
    "    fancy_display(v,k)"
   ]
  },
  {
   "cell_type": "code",
   "execution_count": 17,
   "id": "33691069",
   "metadata": {},
   "outputs": [
    {
     "name": "stdout",
     "output_type": "stream",
     "text": [
      "dim(Clifford)=11520, generated 11520\n"
     ]
    },
    {
     "data": {
      "text/latex": [
       "$(EEXSSS\\otimes EESS)=\\left[\\begin{matrix}0.5 i & - 0.5 i & 0.5 & -0.5\\\\-0.5 & -0.5 & 0.5 i & 0.5 i\\\\0.5 & -0.5 & 0.5 i & - 0.5 i\\\\0.5 i & 0.5 i & -0.5 & -0.5\\end{matrix}\\right]$"
      ],
      "text/plain": [
       "<IPython.core.display.Latex object>"
      ]
     },
     "metadata": {},
     "output_type": "display_data"
    },
    {
     "data": {
      "text/latex": [
       "$(EE\\otimes EES).CNOT.(-E\\otimes -E)=\\left[\\begin{matrix}0.5 + 0.5 i & 0 & 0 & -0.5 + 0.5 i\\\\0.5 + 0.5 i & 0 & 0 & 0.5 - 0.5 i\\\\0 & 0.5 - 0.5 i & 0.5 + 0.5 i & 0\\\\0 & -0.5 + 0.5 i & 0.5 + 0.5 i & 0\\end{matrix}\\right]$"
      ],
      "text/plain": [
       "<IPython.core.display.Latex object>"
      ]
     },
     "metadata": {},
     "output_type": "display_data"
    },
    {
     "data": {
      "text/latex": [
       "$(EXSS\\otimes I).CNOT.(I\\otimes I)=\\left[\\begin{matrix}0.5 + 0.5 i & 0 & 0 & 0.5 - 0.5 i\\\\0 & 0.5 + 0.5 i & 0.5 - 0.5 i & 0\\\\-0.5 - 0.5 i & 0 & 0 & 0.5 - 0.5 i\\\\0 & -0.5 - 0.5 i & 0.5 - 0.5 i & 0\\end{matrix}\\right]$"
      ],
      "text/plain": [
       "<IPython.core.display.Latex object>"
      ]
     },
     "metadata": {},
     "output_type": "display_data"
    },
    {
     "data": {
      "text/latex": [
       "$(X\\otimes ESSS).SWAP=\\left[\\begin{matrix}0 & -0.5 + 0.5 i & 0 & 0.5 - 0.5 i\\\\0 & -0.5 + 0.5 i & 0 & -0.5 + 0.5 i\\\\-0.5 + 0.5 i & 0 & 0.5 - 0.5 i & 0\\\\-0.5 + 0.5 i & 0 & -0.5 + 0.5 i & 0\\end{matrix}\\right]$"
      ],
      "text/plain": [
       "<IPython.core.display.Latex object>"
      ]
     },
     "metadata": {},
     "output_type": "display_data"
    },
    {
     "data": {
      "text/latex": [
       "$(EEXS\\otimes XSSS).CNOT.(EE\\otimes I)=\\left[\\begin{matrix}-0.5 & 0.5 & 0.5 & 0.5\\\\0.5 i & - 0.5 i & 0.5 i & 0.5 i\\\\- 0.5 i & - 0.5 i & 0.5 i & - 0.5 i\\\\0.5 & 0.5 & 0.5 & -0.5\\end{matrix}\\right]$"
      ],
      "text/plain": [
       "<IPython.core.display.Latex object>"
      ]
     },
     "metadata": {},
     "output_type": "display_data"
    }
   ],
   "source": [
    "C = clifford_group(2,letters='SEX')\n",
    "\n",
    "print(f'dim(Clifford)={clifford_dim(2)}, generated {len(C)}')\n",
    "for k,v in [list(C.items())[i] for i in np.random.randint(0,len(C),5)]:\n",
    "    fancy_display(v,k)"
   ]
  },
  {
   "cell_type": "markdown",
   "id": "73347880",
   "metadata": {},
   "source": [
    "# Random Clifford sampling"
   ]
  },
  {
   "cell_type": "code",
   "execution_count": 14,
   "id": "d1cfccf1",
   "metadata": {},
   "outputs": [
    {
     "data": {
      "text/latex": [
       "$\\omega^6HSSSHSSSHSSHSS=\\left[\\begin{matrix}-0.5 - 0.5 i & 0.5 + 0.5 i\\\\-0.5 + 0.5 i & -0.5 + 0.5 i\\end{matrix}\\right]$"
      ],
      "text/plain": [
       "<IPython.core.display.Latex object>"
      ]
     },
     "metadata": {},
     "output_type": "display_data"
    },
    {
     "data": {
      "text/latex": [
       "$\\omega^3HSSSHSSH=\\left[\\begin{matrix}0.5 + 0.5 i & -0.5 + 0.5 i\\\\-0.5 - 0.5 i & -0.5 + 0.5 i\\end{matrix}\\right]$"
      ],
      "text/plain": [
       "<IPython.core.display.Latex object>"
      ]
     },
     "metadata": {},
     "output_type": "display_data"
    },
    {
     "data": {
      "text/latex": [
       "$\\omega^0SS=\\left[\\begin{matrix}1.0 & 0\\\\0 & -1.0\\end{matrix}\\right]$"
      ],
      "text/plain": [
       "<IPython.core.display.Latex object>"
      ]
     },
     "metadata": {},
     "output_type": "display_data"
    }
   ],
   "source": [
    "cliffords = random_clifford(1,3,True,'HS')\n",
    "\n",
    "for k,v in cliffords.items():\n",
    "    fancy_display(v,k)"
   ]
  },
  {
   "cell_type": "code",
   "execution_count": 13,
   "id": "48e347e7",
   "metadata": {},
   "outputs": [
    {
     "data": {
      "text/latex": [
       "$(\\omega^0HSSHSS\\otimes \\omega^6HSSSHSSSHSSHSSS).CNOT.(I\\otimes \\omega^6HSSSHSSS)=\\left[\\begin{matrix}0 & 0 & 0 & -1.0\\\\0 & 0 & - 1.0 i & 0\\\\1.0 i & 0 & 0 & 0\\\\0 & 1.0 & 0 & 0\\end{matrix}\\right]$"
      ],
      "text/plain": [
       "<IPython.core.display.Latex object>"
      ]
     },
     "metadata": {},
     "output_type": "display_data"
    },
    {
     "data": {
      "text/latex": [
       "$(\\omega^0SSS\\otimes \\omega^0HSSHS).CNOT.(-\\omega^3HSSS\\otimes \\omega^6HSSSHSSS)=\\left[\\begin{matrix}0.5 & -0.5 & - 0.5 i & 0.5 i\\\\-0.5 & -0.5 & 0.5 i & 0.5 i\\\\-0.5 & -0.5 & - 0.5 i & - 0.5 i\\\\-0.5 & 0.5 & - 0.5 i & 0.5 i\\end{matrix}\\right]$"
      ],
      "text/plain": [
       "<IPython.core.display.Latex object>"
      ]
     },
     "metadata": {},
     "output_type": "display_data"
    },
    {
     "data": {
      "text/latex": [
       "$(\\omega^3HSSSHSSHS\\otimes \\omega^0HSSH).CNOT.(I\\otimes \\omega^6HSSSHSSS)=\\left[\\begin{matrix}0.5 & -0.5 & 0.5 i & 0.5 i\\\\- 0.5 i & - 0.5 i & -0.5 & 0.5\\\\-0.5 & 0.5 & 0.5 i & 0.5 i\\\\0.5 i & 0.5 i & -0.5 & 0.5\\end{matrix}\\right]$"
      ],
      "text/plain": [
       "<IPython.core.display.Latex object>"
      ]
     },
     "metadata": {},
     "output_type": "display_data"
    }
   ],
   "source": [
    "cliffords = random_clifford(2,3,True,'HS')\n",
    "\n",
    "for k,v in cliffords.items():\n",
    "    fancy_display(v,k)"
   ]
  },
  {
   "cell_type": "code",
   "execution_count": 95,
   "id": "d9eb12b8",
   "metadata": {},
   "outputs": [
    {
     "data": {
      "text/latex": [
       "$T.\\omega^0HSSHS.T.I.T.\\omega^0HSSH.=\\left[\\begin{matrix}-1.0 & 0\\\\0 & 0.707 + 0.707 i\\end{matrix}\\right]$"
      ],
      "text/plain": [
       "<IPython.core.display.Latex object>"
      ]
     },
     "metadata": {},
     "output_type": "display_data"
    }
   ],
   "source": [
    "noncliffords = random_U_with_fixed_T_count(1,3,True,'HS')\n",
    "\n",
    "for k,v in noncliffords.items():\n",
    "    fancy_display(v,k)"
   ]
  },
  {
   "cell_type": "code",
   "execution_count": 96,
   "id": "e5b5ad71",
   "metadata": {},
   "outputs": [
    {
     "data": {
      "text/latex": [
       "$(T \\otimes I).(EX\\otimes EEX).CNOT.(-E\\otimes EE).(I \\otimes T).(ES\\otimes EE).iSWAP.(-E\\otimes I).(I \\otimes T).(ES\\otimes XSS).CNOT.(EE\\otimes I).=\\left[\\begin{matrix}-0.354 - 0.354 i & 0.5 i & -0.354 - 0.354 i & - 0.5 i\\\\-0.5 & -0.354 - 0.354 i & 0.5 & -0.354 - 0.354 i\\\\-0.354 - 0.354 i & 0.5 i & 0.354 + 0.354 i & 0.5 i\\\\- 0.5 i & 0.354 - 0.354 i & - 0.5 i & -0.354 + 0.354 i\\end{matrix}\\right]$"
      ],
      "text/plain": [
       "<IPython.core.display.Latex object>"
      ]
     },
     "metadata": {},
     "output_type": "display_data"
    }
   ],
   "source": [
    "noncliffords = random_U_with_fixed_T_count(2,3,True,'SEX')\n",
    "\n",
    "for k,v in noncliffords.items():\n",
    "    fancy_display(v,k)"
   ]
  },
  {
   "cell_type": "code",
   "execution_count": null,
   "id": "055ff09d",
   "metadata": {},
   "outputs": [],
   "source": []
  }
 ],
 "metadata": {
  "kernelspec": {
   "display_name": "Python 3 (ipykernel)",
   "language": "python",
   "name": "python3"
  },
  "language_info": {
   "codemirror_mode": {
    "name": "ipython",
    "version": 3
   },
   "file_extension": ".py",
   "mimetype": "text/x-python",
   "name": "python",
   "nbconvert_exporter": "python",
   "pygments_lexer": "ipython3",
   "version": "3.9.15"
  }
 },
 "nbformat": 4,
 "nbformat_minor": 5
}
