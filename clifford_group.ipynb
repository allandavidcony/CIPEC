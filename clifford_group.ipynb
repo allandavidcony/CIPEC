{
 "cells": [
  {
   "cell_type": "code",
   "execution_count": 1,
   "id": "3eb1b399",
   "metadata": {},
   "outputs": [],
   "source": [
    "%load_ext autoreload\n",
    "%autoreload 2"
   ]
  },
  {
   "cell_type": "code",
   "execution_count": 2,
   "id": "0c52827a",
   "metadata": {},
   "outputs": [
    {
     "name": "stderr",
     "output_type": "stream",
     "text": [
      "/Users/gian/Code/CIPEC/CIPEC.py:384: SyntaxWarning: invalid escape sequence '\\o'\n",
      "  key = ('I' if j+k+l==0 else f'\\omega^{3*j}'+f'HSSS'*j+'HSSH'*k+'S'*l)\n",
      "/Users/gian/Code/CIPEC/CIPEC.py:391: SyntaxWarning: invalid escape sequence '\\o'\n",
      "  key = ('I' if i+j+k+l==0 else f\"\\omega^{i+3*j}\"+'HSSS'*j+'HSSH'*k+'S'*l)\n",
      "/Users/gian/Code/CIPEC/CIPEC.py:410: SyntaxWarning: invalid escape sequence '\\o'\n",
      "  S1 = {'I': np.eye(2), f'-\\omega^{3}HSSS': RS, f'\\omega^{6}HSSSHSSS': RS@RS}\n",
      "/Users/gian/Code/CIPEC/CIPEC.py:410: SyntaxWarning: invalid escape sequence '\\o'\n",
      "  S1 = {'I': np.eye(2), f'-\\omega^{3}HSSS': RS, f'\\omega^{6}HSSSHSSS': RS@RS}\n",
      "/Users/gian/Code/CIPEC/CIPEC.py:416: SyntaxWarning: invalid escape sequence '\\o'\n",
      "  C2['('+k1+'\\otimes '+k2+')'] = kron\n",
      "/Users/gian/Code/CIPEC/CIPEC.py:418: SyntaxWarning: invalid escape sequence '\\o'\n",
      "  C2['('+k1+'\\otimes '+k2+').CNOT.('+k3+'\\otimes '+k4+')'] = kron@CNOT@np.kron(S1[k3],S1[k4])\n",
      "/Users/gian/Code/CIPEC/CIPEC.py:418: SyntaxWarning: invalid escape sequence '\\o'\n",
      "  C2['('+k1+'\\otimes '+k2+').CNOT.('+k3+'\\otimes '+k4+')'] = kron@CNOT@np.kron(S1[k3],S1[k4])\n",
      "/Users/gian/Code/CIPEC/CIPEC.py:419: SyntaxWarning: invalid escape sequence '\\o'\n",
      "  C2['('+k1+'\\otimes '+k2+').iSWAP.('+k3+'\\otimes '+k4+')'] = kron@iSWAP@np.kron(S1[k3],S1[k4])\n",
      "/Users/gian/Code/CIPEC/CIPEC.py:419: SyntaxWarning: invalid escape sequence '\\o'\n",
      "  C2['('+k1+'\\otimes '+k2+').iSWAP.('+k3+'\\otimes '+k4+')'] = kron@iSWAP@np.kron(S1[k3],S1[k4])\n",
      "/Users/gian/Code/CIPEC/CIPEC.py:420: SyntaxWarning: invalid escape sequence '\\o'\n",
      "  C2['('+k1+'\\otimes '+k2+').SWAP'] = kron@SWAP\n",
      "/Users/gian/Code/CIPEC/CIPEC.py:472: SyntaxWarning: invalid escape sequence '\\o'\n",
      "  return c2k+f'.{ks[0]} \\otimes {ks[1]}.'+random_U_fixed_T(nqubits, nT-Tcount, ignore_global_phase, letters)[0], c2u@TT@random_U_fixed_T(nqubits, nT-Tcount, ignore_global_phase, letters)[1]\n",
      "/Users/gian/Code/CIPEC/CIPEC.py:483: SyntaxWarning: invalid escape sequence '\\o'\n",
      "  return c2k+f'.{ks[0]} \\otimes {ks[1]}.'+random_U_fixed_T(nqubits, nT-Tcount, ignore_global_phase, letters)[0], c2u@TT@random_U_fixed_T(nqubits, nT-Tcount, ignore_global_phase, letters)[1]\n",
      "[Qibo 0.2.16|INFO|2025-02-26 22:40:26]: Using numpy backend on /CPU:0\n"
     ]
    },
    {
     "data": {
      "text/html": [
       "<style>.container { width:100% !important; }</style>"
      ],
      "text/plain": [
       "<IPython.core.display.HTML object>"
      ]
     },
     "metadata": {},
     "output_type": "display_data"
    }
   ],
   "source": [
    "from CIPEC import *\n",
    "\n",
    "from IPython.display import display, HTML\n",
    "display(HTML(\"<style>.container { width:100% !important; }</style>\"))"
   ]
  },
  {
   "cell_type": "markdown",
   "id": "d0e1a363",
   "metadata": {},
   "source": [
    "# Clifford group of 1 and 2 qubits"
   ]
  },
  {
   "cell_type": "markdown",
   "id": "a03708a8",
   "metadata": {},
   "source": [
    "This generator works by using the decomposition exploited by [Ross and Selinger](https://hackage.haskell.org/package/newsynth) in their circuit synthesis package. In particular, they use that the single-qubit Clifford group can be characterized as\n",
    "\n",
    "$$\\mathcal{C}_1 = \\left\\{\\omega^i E^j X^k S^\\ell |i \\in \\text{range}(8), j \\in \\text{range}(3), k \\in \\text{range}(2), \\ell \\in \\text{range}(4) \\right\\}$$\n",
    "\n",
    "where $\\omega = \\mathrm{e}^{\\mathrm{i}\\pi/4}$, $E = \\omega^3 H S^3$, and $X=HS^2H$ is the familiar Pauli matrix. "
   ]
  },
  {
   "cell_type": "code",
   "execution_count": 3,
   "id": "49d86f63",
   "metadata": {},
   "outputs": [
    {
     "name": "stdout",
     "output_type": "stream",
     "text": [
      "dim(Clifford)=24, generated 24\n"
     ]
    },
    {
     "data": {
      "text/latex": [
       "$I=\\left[\\begin{matrix}1.0 & 0\\\\0 & 1.0\\end{matrix}\\right]$"
      ],
      "text/plain": [
       "<IPython.core.display.Latex object>"
      ]
     },
     "metadata": {},
     "output_type": "display_data"
    },
    {
     "data": {
      "text/latex": [
       "$S=\\left[\\begin{matrix}1.0 & 0\\\\0 & 1.0 i\\end{matrix}\\right]$"
      ],
      "text/plain": [
       "<IPython.core.display.Latex object>"
      ]
     },
     "metadata": {},
     "output_type": "display_data"
    },
    {
     "data": {
      "text/latex": [
       "$SS=\\left[\\begin{matrix}1.0 & 0\\\\0 & -1.0\\end{matrix}\\right]$"
      ],
      "text/plain": [
       "<IPython.core.display.Latex object>"
      ]
     },
     "metadata": {},
     "output_type": "display_data"
    },
    {
     "data": {
      "text/latex": [
       "$SSS=\\left[\\begin{matrix}1.0 & 0\\\\0 & - 1.0 i\\end{matrix}\\right]$"
      ],
      "text/plain": [
       "<IPython.core.display.Latex object>"
      ]
     },
     "metadata": {},
     "output_type": "display_data"
    },
    {
     "data": {
      "text/latex": [
       "$X=\\left[\\begin{matrix}0 & 1.0\\\\1.0 & 0\\end{matrix}\\right]$"
      ],
      "text/plain": [
       "<IPython.core.display.Latex object>"
      ]
     },
     "metadata": {},
     "output_type": "display_data"
    },
    {
     "data": {
      "text/latex": [
       "$XS=\\left[\\begin{matrix}0 & 1.0 i\\\\1.0 & 0\\end{matrix}\\right]$"
      ],
      "text/plain": [
       "<IPython.core.display.Latex object>"
      ]
     },
     "metadata": {},
     "output_type": "display_data"
    },
    {
     "data": {
      "text/latex": [
       "$XSS=\\left[\\begin{matrix}0 & -1.0\\\\1.0 & 0\\end{matrix}\\right]$"
      ],
      "text/plain": [
       "<IPython.core.display.Latex object>"
      ]
     },
     "metadata": {},
     "output_type": "display_data"
    },
    {
     "data": {
      "text/latex": [
       "$XSSS=\\left[\\begin{matrix}0 & - 1.0 i\\\\1.0 & 0\\end{matrix}\\right]$"
      ],
      "text/plain": [
       "<IPython.core.display.Latex object>"
      ]
     },
     "metadata": {},
     "output_type": "display_data"
    },
    {
     "data": {
      "text/latex": [
       "$E=\\left[\\begin{matrix}-0.5 + 0.5 i & 0.5 + 0.5 i\\\\-0.5 + 0.5 i & -0.5 - 0.5 i\\end{matrix}\\right]$"
      ],
      "text/plain": [
       "<IPython.core.display.Latex object>"
      ]
     },
     "metadata": {},
     "output_type": "display_data"
    },
    {
     "data": {
      "text/latex": [
       "$ES=\\left[\\begin{matrix}-0.5 + 0.5 i & -0.5 + 0.5 i\\\\-0.5 + 0.5 i & 0.5 - 0.5 i\\end{matrix}\\right]$"
      ],
      "text/plain": [
       "<IPython.core.display.Latex object>"
      ]
     },
     "metadata": {},
     "output_type": "display_data"
    },
    {
     "data": {
      "text/latex": [
       "$ESS=\\left[\\begin{matrix}-0.5 + 0.5 i & -0.5 - 0.5 i\\\\-0.5 + 0.5 i & 0.5 + 0.5 i\\end{matrix}\\right]$"
      ],
      "text/plain": [
       "<IPython.core.display.Latex object>"
      ]
     },
     "metadata": {},
     "output_type": "display_data"
    },
    {
     "data": {
      "text/latex": [
       "$ESSS=\\left[\\begin{matrix}-0.5 + 0.5 i & 0.5 - 0.5 i\\\\-0.5 + 0.5 i & -0.5 + 0.5 i\\end{matrix}\\right]$"
      ],
      "text/plain": [
       "<IPython.core.display.Latex object>"
      ]
     },
     "metadata": {},
     "output_type": "display_data"
    },
    {
     "data": {
      "text/latex": [
       "$EX=\\left[\\begin{matrix}0.5 + 0.5 i & -0.5 + 0.5 i\\\\-0.5 - 0.5 i & -0.5 + 0.5 i\\end{matrix}\\right]$"
      ],
      "text/plain": [
       "<IPython.core.display.Latex object>"
      ]
     },
     "metadata": {},
     "output_type": "display_data"
    },
    {
     "data": {
      "text/latex": [
       "$EXS=\\left[\\begin{matrix}0.5 + 0.5 i & -0.5 - 0.5 i\\\\-0.5 - 0.5 i & -0.5 - 0.5 i\\end{matrix}\\right]$"
      ],
      "text/plain": [
       "<IPython.core.display.Latex object>"
      ]
     },
     "metadata": {},
     "output_type": "display_data"
    },
    {
     "data": {
      "text/latex": [
       "$EXSS=\\left[\\begin{matrix}0.5 + 0.5 i & 0.5 - 0.5 i\\\\-0.5 - 0.5 i & 0.5 - 0.5 i\\end{matrix}\\right]$"
      ],
      "text/plain": [
       "<IPython.core.display.Latex object>"
      ]
     },
     "metadata": {},
     "output_type": "display_data"
    },
    {
     "data": {
      "text/latex": [
       "$EXSSS=\\left[\\begin{matrix}0.5 + 0.5 i & 0.5 + 0.5 i\\\\-0.5 - 0.5 i & 0.5 + 0.5 i\\end{matrix}\\right]$"
      ],
      "text/plain": [
       "<IPython.core.display.Latex object>"
      ]
     },
     "metadata": {},
     "output_type": "display_data"
    },
    {
     "data": {
      "text/latex": [
       "$EE=\\left[\\begin{matrix}-0.5 - 0.5 i & -0.5 - 0.5 i\\\\0.5 - 0.5 i & -0.5 + 0.5 i\\end{matrix}\\right]$"
      ],
      "text/plain": [
       "<IPython.core.display.Latex object>"
      ]
     },
     "metadata": {},
     "output_type": "display_data"
    },
    {
     "data": {
      "text/latex": [
       "$EES=\\left[\\begin{matrix}-0.5 - 0.5 i & 0.5 - 0.5 i\\\\0.5 - 0.5 i & -0.5 - 0.5 i\\end{matrix}\\right]$"
      ],
      "text/plain": [
       "<IPython.core.display.Latex object>"
      ]
     },
     "metadata": {},
     "output_type": "display_data"
    },
    {
     "data": {
      "text/latex": [
       "$EESS=\\left[\\begin{matrix}-0.5 - 0.5 i & 0.5 + 0.5 i\\\\0.5 - 0.5 i & 0.5 - 0.5 i\\end{matrix}\\right]$"
      ],
      "text/plain": [
       "<IPython.core.display.Latex object>"
      ]
     },
     "metadata": {},
     "output_type": "display_data"
    },
    {
     "data": {
      "text/latex": [
       "$EESSS=\\left[\\begin{matrix}-0.5 - 0.5 i & -0.5 + 0.5 i\\\\0.5 - 0.5 i & 0.5 + 0.5 i\\end{matrix}\\right]$"
      ],
      "text/plain": [
       "<IPython.core.display.Latex object>"
      ]
     },
     "metadata": {},
     "output_type": "display_data"
    },
    {
     "data": {
      "text/latex": [
       "$EEX=\\left[\\begin{matrix}-0.5 - 0.5 i & -0.5 - 0.5 i\\\\-0.5 + 0.5 i & 0.5 - 0.5 i\\end{matrix}\\right]$"
      ],
      "text/plain": [
       "<IPython.core.display.Latex object>"
      ]
     },
     "metadata": {},
     "output_type": "display_data"
    },
    {
     "data": {
      "text/latex": [
       "$EEXS=\\left[\\begin{matrix}-0.5 - 0.5 i & 0.5 - 0.5 i\\\\-0.5 + 0.5 i & 0.5 + 0.5 i\\end{matrix}\\right]$"
      ],
      "text/plain": [
       "<IPython.core.display.Latex object>"
      ]
     },
     "metadata": {},
     "output_type": "display_data"
    },
    {
     "data": {
      "text/latex": [
       "$EEXSS=\\left[\\begin{matrix}-0.5 - 0.5 i & 0.5 + 0.5 i\\\\-0.5 + 0.5 i & -0.5 + 0.5 i\\end{matrix}\\right]$"
      ],
      "text/plain": [
       "<IPython.core.display.Latex object>"
      ]
     },
     "metadata": {},
     "output_type": "display_data"
    },
    {
     "data": {
      "text/latex": [
       "$EEXSSS=\\left[\\begin{matrix}-0.5 - 0.5 i & -0.5 + 0.5 i\\\\-0.5 + 0.5 i & -0.5 - 0.5 i\\end{matrix}\\right]$"
      ],
      "text/plain": [
       "<IPython.core.display.Latex object>"
      ]
     },
     "metadata": {},
     "output_type": "display_data"
    }
   ],
   "source": [
    "C = clifford_group(1,letters='SEX')\n",
    "print(f'dim(Clifford)={clifford_dim(1)}, generated {len(C)}')\n",
    "\n",
    "for k,v in C.items():\n",
    "    fancy_display(v,k)"
   ]
  },
  {
   "cell_type": "code",
   "execution_count": 4,
   "id": "33691069",
   "metadata": {},
   "outputs": [
    {
     "name": "stdout",
     "output_type": "stream",
     "text": [
      "dim(Clifford)=11520, generated 11520\n"
     ]
    },
    {
     "data": {
      "text/latex": [
       "$(EESS\\otimes EXSSS).CNOT.(-E\\otimes -E)=\\left[\\begin{matrix}0 & 0 & 1.0 i & 0\\\\0 & - 1.0 i & 0 & 0\\\\- 1.0 i & 0 & 0 & 0\\\\0 & 0 & 0 & - 1.0 i\\end{matrix}\\right]$"
      ],
      "text/plain": [
       "<IPython.core.display.Latex object>"
      ]
     },
     "metadata": {},
     "output_type": "display_data"
    },
    {
     "data": {
      "text/latex": [
       "$(X\\otimes XS).CNOT.(I\\otimes I)=\\left[\\begin{matrix}0 & 0 & 1.0 i & 0\\\\0 & 0 & 0 & 1.0\\\\0 & 1.0 i & 0 & 0\\\\1.0 & 0 & 0 & 0\\end{matrix}\\right]$"
      ],
      "text/plain": [
       "<IPython.core.display.Latex object>"
      ]
     },
     "metadata": {},
     "output_type": "display_data"
    },
    {
     "data": {
      "text/latex": [
       "$(I\\otimes EEXS).iSWAP.(-E\\otimes -E)=\\left[\\begin{matrix}0 & 0 & 0.5 + 0.5 i & 0.5 - 0.5 i\\\\0.5 + 0.5 i & 0.5 - 0.5 i & 0 & 0\\\\-0.5 - 0.5 i & 0.5 - 0.5 i & 0 & 0\\\\0 & 0 & 0.5 + 0.5 i & -0.5 + 0.5 i\\end{matrix}\\right]$"
      ],
      "text/plain": [
       "<IPython.core.display.Latex object>"
      ]
     },
     "metadata": {},
     "output_type": "display_data"
    },
    {
     "data": {
      "text/latex": [
       "$(SSS\\otimes EXSSS).iSWAP.(I\\otimes -E)=\\left[\\begin{matrix}0.5 & - 0.5 i & 0.5 i & 0.5\\\\-0.5 & 0.5 i & 0.5 i & 0.5\\\\0.5 & 0.5 i & - 0.5 i & 0.5\\\\-0.5 & - 0.5 i & - 0.5 i & 0.5\\end{matrix}\\right]$"
      ],
      "text/plain": [
       "<IPython.core.display.Latex object>"
      ]
     },
     "metadata": {},
     "output_type": "display_data"
    },
    {
     "data": {
      "text/latex": [
       "$(EXSS\\otimes EXSS).CNOT.(-E\\otimes -E)=\\left[\\begin{matrix}- 0.5 i & 0.5 & - 0.5 i & -0.5\\\\-0.5 & 0.5 i & -0.5 & - 0.5 i\\\\-0.5 & 0.5 i & 0.5 & 0.5 i\\\\0.5 i & -0.5 & - 0.5 i & -0.5\\end{matrix}\\right]$"
      ],
      "text/plain": [
       "<IPython.core.display.Latex object>"
      ]
     },
     "metadata": {},
     "output_type": "display_data"
    }
   ],
   "source": [
    "C = clifford_group(2,letters='SEX')\n",
    "\n",
    "print(f'dim(Clifford)={clifford_dim(2)}, generated {len(C)}')\n",
    "for k,v in [list(C.items())[i] for i in np.random.randint(0,len(C),5)]:\n",
    "    fancy_display(v,k)"
   ]
  },
  {
   "cell_type": "markdown",
   "id": "73347880",
   "metadata": {},
   "source": [
    "# Random Clifford sampling"
   ]
  },
  {
   "cell_type": "code",
   "execution_count": 5,
   "id": "d1cfccf1",
   "metadata": {},
   "outputs": [
    {
     "data": {
      "text/latex": [
       "$\\omega^6HSSSHSSS=\\left[\\begin{matrix}-0.5 - 0.5 i & -0.5 - 0.5 i\\\\0.5 - 0.5 i & -0.5 + 0.5 i\\end{matrix}\\right]$"
      ],
      "text/plain": [
       "<IPython.core.display.Latex object>"
      ]
     },
     "metadata": {},
     "output_type": "display_data"
    }
   ],
   "source": [
    "k, clifford = random_clifford(1,True,'HS')\n",
    "fancy_display(clifford,k)"
   ]
  },
  {
   "cell_type": "code",
   "execution_count": 6,
   "id": "48e347e7",
   "metadata": {},
   "outputs": [
    {
     "data": {
      "text/latex": [
       "$(\\omega^6HSSSHSSSHSSH\\otimes \\omega^0HSSHSSS).CNOT.(-\\omega^3HSSS\\otimes -\\omega^3HSSS)=\\left[\\begin{matrix}-0.5 - 0.5 i & -0.5 - 0.5 i\\\\0.5 - 0.5 i & -0.5 + 0.5 i\\end{matrix}\\right]$"
      ],
      "text/plain": [
       "<IPython.core.display.Latex object>"
      ]
     },
     "metadata": {},
     "output_type": "display_data"
    }
   ],
   "source": [
    "k, cliffords = random_clifford(2,True,'HS')\n",
    "fancy_display(clifford,k)"
   ]
  },
  {
   "cell_type": "markdown",
   "id": "bc093223-2a7f-4df6-8ec1-0d91fb3078d2",
   "metadata": {},
   "source": [
    "# Random U with a fixed number of T's"
   ]
  },
  {
   "cell_type": "code",
   "execution_count": 10,
   "id": "d9eb12b8",
   "metadata": {},
   "outputs": [
    {
     "data": {
      "text/latex": [
       "$EES.T.SSS.T.EXS.T.SS.T.EEXSS.T.ESS=\\left[\\begin{matrix}- 0.707 i & 0.707\\\\0.5 + 0.5 i & 0.5 - 0.5 i\\end{matrix}\\right]$"
      ],
      "text/plain": [
       "<IPython.core.display.Latex object>"
      ]
     },
     "metadata": {},
     "output_type": "display_data"
    }
   ],
   "source": [
    "k, nonclifford = random_U_fixed_T(1,nT=5,ignore_global_phase=True,letters='SEX')\n",
    "fancy_display(nonclifford,k)"
   ]
  },
  {
   "cell_type": "code",
   "execution_count": 21,
   "id": "e5b5ad71",
   "metadata": {},
   "outputs": [
    {
     "data": {
      "text/latex": [
       "$(EXS\\otimes EESS).T \\otimes I.(X\\otimes EXSSS).CNOT.(EE\\otimes -E).T \\otimes I.(E\\otimes SS).CNOT.(-E\\otimes -E)=\\left[\\begin{matrix}-0.25 + 0.104 i & 0.104 + 0.25 i & 0.604 + 0.25 i & 0.25 - 0.604 i\\\\-0.104 + 0.25 i & -0.25 - 0.104 i & -0.25 - 0.604 i & 0.604 - 0.25 i\\\\-0.25 - 0.604 i & -0.604 + 0.25 i & 0.104 - 0.25 i & -0.25 - 0.104 i\\\\-0.604 - 0.25 i & 0.25 - 0.604 i & -0.25 + 0.104 i & -0.104 - 0.25 i\\end{matrix}\\right]$"
      ],
      "text/plain": [
       "<IPython.core.display.Latex object>"
      ]
     },
     "metadata": {},
     "output_type": "display_data"
    }
   ],
   "source": [
    "k, nonclifford = random_U_fixed_T(2,nT=2,ignore_global_phase=True,letters='SEX')\n",
    "fancy_display(nonclifford,k)"
   ]
  },
  {
   "cell_type": "code",
   "execution_count": null,
   "id": "59b1aa96-3fed-4754-8264-0522085c44d7",
   "metadata": {},
   "outputs": [],
   "source": []
  }
 ],
 "metadata": {
  "kernelspec": {
   "display_name": "Python 3 (ipykernel)",
   "language": "python",
   "name": "python3"
  },
  "language_info": {
   "codemirror_mode": {
    "name": "ipython",
    "version": 3
   },
   "file_extension": ".py",
   "mimetype": "text/x-python",
   "name": "python",
   "nbconvert_exporter": "python",
   "pygments_lexer": "ipython3",
   "version": "3.9.15"
  }
 },
 "nbformat": 4,
 "nbformat_minor": 5
}
