{
 "cells": [
  {
   "cell_type": "code",
   "execution_count": 1,
   "id": "d66ad41b",
   "metadata": {},
   "outputs": [],
   "source": [
    "%load_ext autoreload\n",
    "%autoreload 2"
   ]
  },
  {
   "cell_type": "code",
   "execution_count": 2,
   "id": "6c22ad26",
   "metadata": {},
   "outputs": [
    {
     "name": "stderr",
     "output_type": "stream",
     "text": [
      "[Qibo 0.2.14|INFO|2025-02-21 16:01:52]: Using numpy backend on /CPU:0\n"
     ]
    }
   ],
   "source": [
    "from CIPEC import *"
   ]
  },
  {
   "cell_type": "code",
   "execution_count": 4,
   "id": "7ea96295",
   "metadata": {},
   "outputs": [],
   "source": [
    "def apply_noise(B, noise):    \n",
    "    return {k:qi.liouville_to_choi(noise.to_liouville()@qi.choi_to_liouville(v)) for k,v in B.items()}"
   ]
  },
  {
   "cell_type": "code",
   "execution_count": 5,
   "id": "2dfc1304",
   "metadata": {},
   "outputs": [
    {
     "name": "stdout",
     "output_type": "stream",
     "text": [
      "Loaded pre-computed basis\n",
      "rank(G)=241\n"
     ]
    }
   ],
   "source": [
    "# Noise Model\n",
    "lam = .2\n",
    "noise = gates.DepolarizingChannel([0,1],lam)\n",
    "\n",
    "# Noisy basis\n",
    "B = noiseless_basis(2)\n",
    "B_noisy = apply_noise(B,noise)\n",
    "\n",
    "# Gram matrix and LI check\n",
    "G = gram_matrix(list(B_noisy.values()))\n",
    "print(f'rank(G)={np.linalg.matrix_rank(G)}')"
   ]
  }
 ],
 "metadata": {
  "kernelspec": {
   "display_name": "Python 3 (ipykernel)",
   "language": "python",
   "name": "python3"
  },
  "language_info": {
   "codemirror_mode": {
    "name": "ipython",
    "version": 3
   },
   "file_extension": ".py",
   "mimetype": "text/x-python",
   "name": "python",
   "nbconvert_exporter": "python",
   "pygments_lexer": "ipython3",
   "version": "3.9.15"
  }
 },
 "nbformat": 4,
 "nbformat_minor": 5
}
