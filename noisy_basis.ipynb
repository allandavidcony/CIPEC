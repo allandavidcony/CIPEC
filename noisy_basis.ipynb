{
 "cells": [
  {
   "cell_type": "code",
   "execution_count": 58,
   "id": "9705a6cb",
   "metadata": {},
   "outputs": [
    {
     "name": "stdout",
     "output_type": "stream",
     "text": [
      "The autoreload extension is already loaded. To reload it, use:\n",
      "  %reload_ext autoreload\n"
     ]
    }
   ],
   "source": [
    "%load_ext autoreload\n",
    "%autoreload 2"
   ]
  },
  {
   "cell_type": "code",
   "execution_count": 60,
   "id": "c6b4de0c",
   "metadata": {},
   "outputs": [],
   "source": [
    "from CIPEC import *"
   ]
  },
  {
   "cell_type": "code",
   "execution_count": 3,
   "id": "76c925f7",
   "metadata": {},
   "outputs": [
    {
     "name": "stdout",
     "output_type": "stream",
     "text": [
      "Loaded pre-computed basis\n",
      "Applied noise model to basis elements\n",
      "The noisy channels form a basis! :)\n"
     ]
    }
   ],
   "source": [
    "B = noiseless_basis(1,include_T=False)\n",
    "\n",
    "# Noise Model\n",
    "params = {k:1e-2*np.random.rand() for k in B.keys()}\n",
    "noise_model = {k:gates.DepolarizingChannel([0],params[k]) for k in B.keys()}\n",
    "\n",
    "# Noisy basis\n",
    "B_noisy = apply_noise_to_basis(B,noise_model)"
   ]
  },
  {
   "cell_type": "code",
   "execution_count": 39,
   "id": "1efdae60",
   "metadata": {},
   "outputs": [
    {
     "name": "stdout",
     "output_type": "stream",
     "text": [
      "Loaded pre-computed basis\n",
      "Applied noise model to basis elements\n",
      "The noisy channels form a basis! :)\n"
     ]
    }
   ],
   "source": [
    "B = noiseless_basis(2,include_T=False)\n",
    "\n",
    "# Noise Model\n",
    "params = {k:1e-2*np.random.rand() for k in B.keys()}\n",
    "noise_model = {k:gates.DepolarizingChannel([0,1],params[k]) for k in B.keys()}\n",
    "\n",
    "# Noisy basis\n",
    "B_noisy = apply_noise_to_basis(B,noise_model)"
   ]
  },
  {
   "cell_type": "code",
   "execution_count": 40,
   "id": "c9efd2fe",
   "metadata": {},
   "outputs": [
    {
     "name": "stdout",
     "output_type": "stream",
     "text": [
      "Loaded pre-computed basis\n",
      "Applied noise model to basis elements\n",
      "No longer a basis! :(\n",
      "Only spanned 1 directions\n"
     ]
    }
   ],
   "source": [
    "B = noiseless_basis(1,include_T=False)\n",
    "\n",
    "# Noise Model\n",
    "params = {k:[1e-3,1e-3,1e-1] for k in B.keys()}\n",
    "noise_model = {k:gates.ThermalRelaxationChannel(0,params[k]) for k in B.keys()}\n",
    "\n",
    "# Noisy basis\n",
    "B_noisy = apply_noise_to_basis(B,noise_model)"
   ]
  },
  {
   "cell_type": "code",
   "execution_count": null,
   "id": "563d266b-ca8f-4b44-acbb-987f6b8603f0",
   "metadata": {},
   "outputs": [],
   "source": []
  }
 ],
 "metadata": {
  "kernelspec": {
   "display_name": "Python 3 (ipykernel)",
   "language": "python",
   "name": "python3"
  },
  "language_info": {
   "codemirror_mode": {
    "name": "ipython",
    "version": 3
   },
   "file_extension": ".py",
   "mimetype": "text/x-python",
   "name": "python",
   "nbconvert_exporter": "python",
   "pygments_lexer": "ipython3",
   "version": "3.12.5"
  }
 },
 "nbformat": 4,
 "nbformat_minor": 5
}
