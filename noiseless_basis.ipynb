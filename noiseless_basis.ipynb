{
 "cells": [
  {
   "cell_type": "code",
   "execution_count": 30,
   "id": "504f8405",
   "metadata": {},
   "outputs": [
    {
     "name": "stdout",
     "output_type": "stream",
     "text": [
      "The autoreload extension is already loaded. To reload it, use:\n",
      "  %reload_ext autoreload\n"
     ]
    }
   ],
   "source": [
    "%load_ext autoreload\n",
    "%autoreload 2"
   ]
  },
  {
   "cell_type": "code",
   "execution_count": 2,
   "id": "e1e1282f",
   "metadata": {},
   "outputs": [
    {
     "name": "stderr",
     "output_type": "stream",
     "text": [
      "[Qibo 0.2.14|INFO|2025-02-21 15:49:01]: Using numpy backend on /CPU:0\n"
     ]
    }
   ],
   "source": [
    "from CIPEC import *"
   ]
  },
  {
   "cell_type": "markdown",
   "id": "60336f2e",
   "metadata": {},
   "source": [
    "# 1) Single-qubit basis"
   ]
  },
  {
   "cell_type": "code",
   "execution_count": 25,
   "id": "e87604fc",
   "metadata": {},
   "outputs": [
    {
     "name": "stdout",
     "output_type": "stream",
     "text": [
      "Loaded pre-computed basis\n",
      "\n",
      "The following 13 channels form a basis of 1q CPTP maps:\n",
      "[('H',), ('S',), ('T',), ('H', 'H'), ('H', 'S'), ('H', 'T'), ('S', 'H'), ('T', 'H'), ('H', 'S', 'H'), ('S', 'H', 'T'), ('Px',), ('Py',), ('Pz',)]\n",
      "\n",
      "Here are their Choi matrices:\n",
      "[[ 0.5  0.5  0.5 -0.5]\n",
      " [ 0.5  0.5  0.5 -0.5]\n",
      " [ 0.5  0.5  0.5 -0.5]\n",
      " [-0.5 -0.5 -0.5  0.5]]\n",
      "[[1.+0.j 0.+0.j 0.+0.j 0.-1.j]\n",
      " [0.+0.j 0.+0.j 0.+0.j 0.+0.j]\n",
      " [0.+0.j 0.+0.j 0.+0.j 0.+0.j]\n",
      " [0.+1.j 0.+0.j 0.+0.j 1.+0.j]]\n",
      "[[1.  +0.j   0.  +0.j   0.  +0.j   0.71-0.71j]\n",
      " [0.  +0.j   0.  +0.j   0.  +0.j   0.  +0.j  ]\n",
      " [0.  +0.j   0.  +0.j   0.  +0.j   0.  +0.j  ]\n",
      " [0.71+0.71j 0.  +0.j   0.  +0.j   1.  +0.j  ]]\n",
      "[[ 1. -0. -0.  1.]\n",
      " [-0.  0.  0. -0.]\n",
      " [-0.  0.  0. -0.]\n",
      " [ 1. -0. -0.  1.]]\n",
      "[[ 0.5+0.j   0.5+0.j   0. -0.5j  0. +0.5j]\n",
      " [ 0.5+0.j   0.5+0.j   0. -0.5j  0. +0.5j]\n",
      " [ 0. +0.5j  0. +0.5j  0.5+0.j  -0.5+0.j ]\n",
      " [ 0. -0.5j  0. -0.5j -0.5+0.j   0.5+0.j ]]\n",
      "[[ 0.5 +0.j    0.5 +0.j    0.35-0.35j -0.35+0.35j]\n",
      " [ 0.5 +0.j    0.5 +0.j    0.35-0.35j -0.35+0.35j]\n",
      " [ 0.35+0.35j  0.35+0.35j  0.5 +0.j   -0.5 -0.j  ]\n",
      " [-0.35-0.35j -0.35-0.35j -0.5 -0.j    0.5 +0.j  ]]\n",
      "[[ 0.5+0.j   0. -0.5j  0.5+0.j   0. +0.5j]\n",
      " [ 0. +0.5j  0.5+0.j   0. +0.5j -0.5+0.j ]\n",
      " [ 0.5+0.j   0. -0.5j  0.5+0.j   0. +0.5j]\n",
      " [ 0. -0.5j -0.5+0.j   0. -0.5j  0.5+0.j ]]\n",
      "[[ 0.5 +0.j    0.35-0.35j  0.5 +0.j   -0.35+0.35j]\n",
      " [ 0.35+0.35j  0.5 +0.j    0.35+0.35j -0.5 -0.j  ]\n",
      " [ 0.5 +0.j    0.35-0.35j  0.5 +0.j   -0.35+0.35j]\n",
      " [-0.35-0.35j -0.5 -0.j   -0.35-0.35j  0.5 +0.j  ]]\n",
      "[[ 0.5+0.j  -0. +0.5j -0. +0.5j  0.5+0.j ]\n",
      " [-0. -0.5j  0.5-0.j   0.5-0.j  -0. -0.5j]\n",
      " [-0. -0.5j  0.5-0.j   0.5-0.j  -0. -0.5j]\n",
      " [ 0.5+0.j  -0. +0.5j -0. +0.5j  0.5+0.j ]]\n",
      "[[ 0.5 +0.j    0.  -0.5j   0.35-0.35j  0.35+0.35j]\n",
      " [ 0.  +0.5j   0.5 +0.j    0.35+0.35j -0.35+0.35j]\n",
      " [ 0.35+0.35j  0.35-0.35j  0.5 +0.j   -0.  +0.5j ]\n",
      " [ 0.35-0.35j -0.35-0.35j  0.  -0.5j   0.5 +0.j  ]]\n",
      "[[0.5 0.  0.5 0. ]\n",
      " [0.  0.5 0.  0.5]\n",
      " [0.5 0.  0.5 0. ]\n",
      " [0.  0.5 0.  0.5]]\n",
      "[[0.5+0.j  0. +0.j  0. +0.5j 0. +0.j ]\n",
      " [0. +0.j  0.5+0.j  0. +0.j  0. +0.5j]\n",
      " [0. -0.5j 0. +0.j  0.5+0.j  0. +0.j ]\n",
      " [0. +0.j  0. -0.5j 0. +0.j  0.5+0.j ]]\n",
      "[[1. 0. 0. 0.]\n",
      " [0. 1. 0. 0.]\n",
      " [0. 0. 0. 0.]\n",
      " [0. 0. 0. 0.]]\n"
     ]
    }
   ],
   "source": [
    "# 1-qubit CPTP maps (including T)\n",
    "B = noiseless_basis(1,include_T=True)\n",
    "\n",
    "print(f\"\\nThe following {len(B)} channels form a basis of 1q CPTP maps:\\n{list(B.keys())}\")\n",
    "\n",
    "print(f'\\nHere are their Choi matrices:')\n",
    "for v in B.values():\n",
    "    print(f'{np.round(v,2)}')"
   ]
  },
  {
   "cell_type": "code",
   "execution_count": 26,
   "id": "02eea8fd",
   "metadata": {},
   "outputs": [
    {
     "name": "stdout",
     "output_type": "stream",
     "text": [
      "Loaded pre-computed basis\n",
      "\n",
      "The following 13 channels form a basis of 1q CPTP maps:\n",
      "[('H',), ('S',), ('H', 'H'), ('H', 'S'), ('S', 'H'), ('S', 'S'), ('H', 'S', 'H'), ('H', 'S', 'S'), ('S', 'H', 'S'), ('S', 'H', 'S', 'S'), ('Px',), ('Py',), ('Pz',)]\n",
      "\n",
      "Here are their Choi matrices:\n",
      "[[ 0.5  0.5  0.5 -0.5]\n",
      " [ 0.5  0.5  0.5 -0.5]\n",
      " [ 0.5  0.5  0.5 -0.5]\n",
      " [-0.5 -0.5 -0.5  0.5]]\n",
      "[[1.+0.j 0.+0.j 0.+0.j 0.-1.j]\n",
      " [0.+0.j 0.+0.j 0.+0.j 0.+0.j]\n",
      " [0.+0.j 0.+0.j 0.+0.j 0.+0.j]\n",
      " [0.+1.j 0.+0.j 0.+0.j 1.+0.j]]\n",
      "[[ 1. -0. -0.  1.]\n",
      " [-0.  0.  0. -0.]\n",
      " [-0.  0.  0. -0.]\n",
      " [ 1. -0. -0.  1.]]\n",
      "[[ 0.5+0.j   0.5+0.j   0. -0.5j  0. +0.5j]\n",
      " [ 0.5+0.j   0.5+0.j   0. -0.5j  0. +0.5j]\n",
      " [ 0. +0.5j  0. +0.5j  0.5+0.j  -0.5+0.j ]\n",
      " [ 0. -0.5j  0. -0.5j -0.5+0.j   0.5+0.j ]]\n",
      "[[ 0.5+0.j   0. -0.5j  0.5+0.j   0. +0.5j]\n",
      " [ 0. +0.5j  0.5+0.j   0. +0.5j -0.5+0.j ]\n",
      " [ 0.5+0.j   0. -0.5j  0.5+0.j   0. +0.5j]\n",
      " [ 0. -0.5j -0.5+0.j   0. -0.5j  0.5+0.j ]]\n",
      "[[ 1.+0.j  0.+0.j  0.+0.j -1.+0.j]\n",
      " [ 0.+0.j  0.+0.j  0.+0.j  0.+0.j]\n",
      " [ 0.+0.j  0.+0.j  0.+0.j  0.+0.j]\n",
      " [-1.+0.j  0.+0.j  0.+0.j  1.+0.j]]\n",
      "[[ 0.5+0.j  -0. +0.5j -0. +0.5j  0.5+0.j ]\n",
      " [-0. -0.5j  0.5-0.j   0.5-0.j  -0. -0.5j]\n",
      " [-0. -0.5j  0.5-0.j   0.5-0.j  -0. -0.5j]\n",
      " [ 0.5+0.j  -0. +0.5j -0. +0.5j  0.5+0.j ]]\n",
      "[[ 0.5+0.j  0.5+0.j -0.5+0.j  0.5+0.j]\n",
      " [ 0.5+0.j  0.5+0.j -0.5+0.j  0.5+0.j]\n",
      " [-0.5+0.j -0.5+0.j  0.5+0.j -0.5+0.j]\n",
      " [ 0.5+0.j  0.5+0.j -0.5+0.j  0.5+0.j]]\n",
      "[[0.5+0.j  0. -0.5j 0. -0.5j 0.5+0.j ]\n",
      " [0. +0.5j 0.5+0.j  0.5+0.j  0. +0.5j]\n",
      " [0. +0.5j 0.5+0.j  0.5+0.j  0. +0.5j]\n",
      " [0.5+0.j  0. -0.5j 0. -0.5j 0.5+0.j ]]\n",
      "[[ 0.5+0.j   0. -0.5j -0.5+0.j   0. -0.5j]\n",
      " [ 0. +0.5j  0.5+0.j   0. -0.5j  0.5+0.j ]\n",
      " [-0.5+0.j   0. +0.5j  0.5+0.j   0. +0.5j]\n",
      " [ 0. +0.5j  0.5+0.j   0. -0.5j  0.5+0.j ]]\n",
      "[[0.5 0.  0.5 0. ]\n",
      " [0.  0.5 0.  0.5]\n",
      " [0.5 0.  0.5 0. ]\n",
      " [0.  0.5 0.  0.5]]\n",
      "[[0.5+0.j  0. +0.j  0. +0.5j 0. +0.j ]\n",
      " [0. +0.j  0.5+0.j  0. +0.j  0. +0.5j]\n",
      " [0. -0.5j 0. +0.j  0.5+0.j  0. +0.j ]\n",
      " [0. +0.j  0. -0.5j 0. +0.j  0.5+0.j ]]\n",
      "[[1. 0. 0. 0.]\n",
      " [0. 1. 0. 0.]\n",
      " [0. 0. 0. 0.]\n",
      " [0. 0. 0. 0.]]\n"
     ]
    }
   ],
   "source": [
    "# 1-qubit CPTP maps (excluding T)\n",
    "B = noiseless_basis(1,include_T=False)\n",
    "\n",
    "print(f\"\\nThe following {len(B)} channels form a basis of 1q CPTP maps:\\n{list(B.keys())}\")\n",
    "print(f'\\nHere are their Choi matrices:')\n",
    "for v in B.values():\n",
    "    print(f'{np.round(v,2)}')"
   ]
  },
  {
   "cell_type": "markdown",
   "id": "075e1a9e",
   "metadata": {},
   "source": [
    "# 2) Two-qubit basis"
   ]
  },
  {
   "cell_type": "code",
   "execution_count": 27,
   "id": "8bdb304b",
   "metadata": {},
   "outputs": [
    {
     "name": "stdout",
     "output_type": "stream",
     "text": [
      "Loaded pre-computed basis\n",
      "\n",
      "The following 241 channels form a basis of 1q CPTP maps:\n",
      "[('HI',), ('IH',), ('SI',), ('IS',), ('HS',), ('SH',), ('CX',), ('XC',), ('TI',), ('IT',), ('HT',), ('TH',), ('ST',), ('TS',), ('HI', 'HI'), ('HI', 'IH'), ('HI', 'SI'), ('HI', 'SH'), ('HI', 'CX'), ('HI', 'XC'), ('HI', 'TI'), ('HI', 'TH'), ('HI', 'ST'), ('HI', 'TS'), ('IH', 'IS'), ('IH', 'HS'), ('IH', 'CX'), ('IH', 'XC'), ('IH', 'IT'), ('IH', 'HT'), ('IH', 'ST'), ('IH', 'TS'), ('SI', 'HI'), ('SI', 'IS'), ('SI', 'HS'), ('SI', 'CX'), ('SI', 'XC'), ('SI', 'HT'), ('SI', 'ST'), ('IS', 'IH'), ('IS', 'SH'), ('IS', 'CX'), ('IS', 'XC'), ('IS', 'TH'), ('HS', 'IH'), ('HS', 'SI'), ('HS', 'SH'), ('HS', 'CX'), ('HS', 'XC'), ('HS', 'TH'), ('HS', 'TS'), ('SH', 'HI'), ('SH', 'IS'), ('SH', 'HS'), ('SH', 'CX'), ('SH', 'XC'), ('SH', 'HT'), ('SH', 'ST'), ('CX', 'HI'), ('CX', 'IH'), ('CX', 'IS'), ('CX', 'HS'), ('CX', 'SH'), ('CX', 'XC'), ('CX', 'TI'), ('CX', 'IT'), ('CX', 'HT'), ('CX', 'TH'), ('CX', 'ST'), ('CX', 'TS'), ('XC', 'HI'), ('XC', 'IH'), ('XC', 'SI'), ('XC', 'HS'), ('XC', 'SH'), ('XC', 'CX'), ('XC', 'TI'), ('XC', 'IT'), ('XC', 'HT'), ('XC', 'TH'), ('XC', 'ST'), ('XC', 'TS'), ('TI', 'HI'), ('TI', 'HS'), ('TI', 'XC'), ('TI', 'HT'), ('IT', 'IH'), ('IT', 'SH'), ('IT', 'CX'), ('IT', 'TH'), ('HT', 'IH'), ('HT', 'SH'), ('HT', 'CX'), ('HT', 'XC'), ('HT', 'TH'), ('TH', 'HI'), ('TH', 'HS'), ('TH', 'CX'), ('TH', 'XC'), ('TH', 'HT'), ('ST', 'CX'), ('ST', 'XC'), ('HI', 'IH', 'CX'), ('HI', 'IH', 'XC'), ('HI', 'IH', 'ST'), ('HI', 'IH', 'TS'), ('HI', 'SI', 'HI'), ('HI', 'SI', 'HS'), ('HI', 'SI', 'CX'), ('HI', 'SI', 'XC'), ('HI', 'SI', 'HT'), ('HI', 'SH', 'HI'), ('HI', 'SH', 'IS'), ('HI', 'SH', 'HS'), ('HI', 'SH', 'CX'), ('HI', 'SH', 'XC'), ('HI', 'SH', 'HT'), ('HI', 'SH', 'ST'), ('HI', 'CX', 'HI'), ('HI', 'CX', 'IH'), ('HI', 'CX', 'IS'), ('HI', 'CX', 'HS'), ('HI', 'CX', 'SH'), ('HI', 'CX', 'XC'), ('HI', 'CX', 'TI'), ('HI', 'CX', 'IT'), ('HI', 'CX', 'HT'), ('HI', 'CX', 'TH'), ('HI', 'CX', 'ST'), ('HI', 'CX', 'TS'), ('HI', 'XC', 'IH'), ('HI', 'XC', 'SI'), ('HI', 'XC', 'SH'), ('HI', 'XC', 'CX'), ('HI', 'XC', 'TH'), ('HI', 'XC', 'ST'), ('HI', 'ST', 'CX'), ('IH', 'IS', 'IH'), ('IH', 'IS', 'SH'), ('IH', 'IS', 'CX'), ('IH', 'IS', 'XC'), ('IH', 'IS', 'TH'), ('IH', 'HS', 'IH'), ('IH', 'HS', 'SH'), ('IH', 'HS', 'CX'), ('IH', 'HS', 'XC'), ('IH', 'HS', 'TH'), ('IH', 'CX', 'IS'), ('IH', 'CX', 'HS'), ('IH', 'CX', 'XC'), ('IH', 'CX', 'IT'), ('IH', 'CX', 'HT'), ('IH', 'CX', 'ST'), ('IH', 'XC', 'SI'), ('IH', 'XC', 'SH'), ('IH', 'XC', 'CX'), ('IH', 'XC', 'TI'), ('IH', 'XC', 'IT'), ('IH', 'XC', 'TH'), ('IH', 'XC', 'ST'), ('IH', 'XC', 'TS'), ('IH', 'ST', 'XC'), ('SI', 'HI', 'CX'), ('SI', 'HI', 'XC'), ('SI', 'HI', 'TI'), ('SI', 'HI', 'TH'), ('SI', 'HS', 'IH'), ('SI', 'HS', 'SH'), ('SI', 'HS', 'CX'), ('SI', 'HS', 'TH'), ('SI', 'CX', 'HI'), ('SI', 'CX', 'HS'), ('SI', 'CX', 'XC'), ('SI', 'CX', 'HT'), ('SI', 'XC', 'IH'), ('SI', 'XC', 'SH'), ('SI', 'XC', 'CX'), ('SI', 'XC', 'TH'), ('SI', 'HT', 'IH'), ('SI', 'HT', 'CX'), ('IS', 'IH', 'CX'), ('IS', 'IH', 'XC'), ('IS', 'IH', 'IT'), ('IS', 'IH', 'HT'), ('IS', 'SH', 'HS'), ('IS', 'SH', 'XC'), ('IS', 'SH', 'HT'), ('IS', 'CX', 'HI'), ('IS', 'CX', 'HS'), ('IS', 'CX', 'XC'), ('IS', 'CX', 'HT'), ('IS', 'XC', 'IH'), ('IS', 'XC', 'SH'), ('IS', 'XC', 'CX'), ('IS', 'XC', 'TH'), ('IS', 'TH', 'HI'), ('IS', 'TH', 'XC'), ('HS', 'IH', 'CX'), ('HS', 'IH', 'XC'), ('HS', 'IH', 'ST'), ('HS', 'SI', 'CX'), ('HS', 'SH', 'XC'), ('HS', 'SH', 'HT'), ('HS', 'CX', 'XC'), ('HS', 'XC', 'CX'), ('SH', 'HI', 'XC'), ('SH', 'HI', 'TS'), ('SH', 'IS', 'XC'), ('SH', 'HS', 'CX'), ('SH', 'HS', 'TH'), ('CX', 'HI', 'CX'), ('CX', 'HI', 'XC'), ('CX', 'HI', 'ST'), ('CX', 'HI', 'TS'), ('CX', 'IS', 'XC'), ('CX', 'HS', 'SH'), ('CX', 'HS', 'CX'), ('CX', 'XC', 'CX'), ('CX', 'XC', 'IT'), ('CX', 'TI', 'HI'), ('CX', 'ST', 'XC'), ('XC', 'SI', 'CX'), ('HI', 'CX', 'IS', 'XC'), ('IH', 'XC', 'SI', 'CX'), ('SI', 'HI', 'XC', 'CX'), ('IS', 'IH', 'CX', 'XC'), ('PxI',), ('PyI',), ('PzI',), ('IPx',), ('IPy',), ('IPz',), ('PxPx',), ('PxPy',), ('PxPz',), ('PyPx',), ('PyPy',), ('PyPz',), ('PzPx',), ('PzPy',), ('PzPz',)]\n"
     ]
    }
   ],
   "source": [
    "# 2-qubit CPTP maps (including T)\n",
    "B = noiseless_basis(2,include_T=True)\n",
    "\n",
    "print(f\"\\nThe following {len(B)} channels form a basis of 1q CPTP maps:\\n{list(B.keys())}\")\n",
    "# print(f'\\nHere are their Choi matrices:')\n",
    "# for v in B.values():\n",
    "#     print(f'{np.round(v,2)}')"
   ]
  },
  {
   "cell_type": "code",
   "execution_count": 28,
   "id": "7c16ea74",
   "metadata": {},
   "outputs": [
    {
     "name": "stdout",
     "output_type": "stream",
     "text": [
      "Loaded pre-computed basis\n",
      "\n",
      "The following 241 channels form a basis of 1q CPTP maps:\n",
      "[('HI',), ('IH',), ('SI',), ('IS',), ('HS',), ('SH',), ('CX',), ('XC',), ('HI', 'HI'), ('HI', 'IH'), ('HI', 'SI'), ('HI', 'SH'), ('HI', 'CX'), ('HI', 'XC'), ('IH', 'IS'), ('IH', 'HS'), ('IH', 'CX'), ('IH', 'XC'), ('SI', 'HI'), ('SI', 'SI'), ('SI', 'IS'), ('SI', 'HS'), ('SI', 'SH'), ('SI', 'CX'), ('SI', 'XC'), ('IS', 'IH'), ('IS', 'IS'), ('IS', 'HS'), ('IS', 'SH'), ('IS', 'CX'), ('IS', 'XC'), ('HS', 'IH'), ('HS', 'SI'), ('HS', 'SH'), ('HS', 'CX'), ('HS', 'XC'), ('SH', 'HI'), ('SH', 'IS'), ('SH', 'HS'), ('SH', 'CX'), ('SH', 'XC'), ('CX', 'HI'), ('CX', 'IH'), ('CX', 'IS'), ('CX', 'HS'), ('CX', 'SH'), ('CX', 'XC'), ('XC', 'HI'), ('XC', 'IH'), ('XC', 'SI'), ('XC', 'HS'), ('XC', 'SH'), ('XC', 'CX'), ('HI', 'IH', 'CX'), ('HI', 'IH', 'XC'), ('HI', 'SI', 'HI'), ('HI', 'SI', 'SI'), ('HI', 'SI', 'HS'), ('HI', 'SI', 'SH'), ('HI', 'SI', 'CX'), ('HI', 'SI', 'XC'), ('HI', 'SH', 'HI'), ('HI', 'SH', 'IS'), ('HI', 'SH', 'HS'), ('HI', 'SH', 'CX'), ('HI', 'SH', 'XC'), ('HI', 'CX', 'HI'), ('HI', 'CX', 'IH'), ('HI', 'CX', 'IS'), ('HI', 'CX', 'HS'), ('HI', 'CX', 'SH'), ('HI', 'CX', 'XC'), ('HI', 'XC', 'HI'), ('HI', 'XC', 'IH'), ('HI', 'XC', 'SI'), ('HI', 'XC', 'HS'), ('HI', 'XC', 'SH'), ('HI', 'XC', 'CX'), ('IH', 'IS', 'IH'), ('IH', 'IS', 'IS'), ('IH', 'IS', 'HS'), ('IH', 'IS', 'SH'), ('IH', 'IS', 'CX'), ('IH', 'IS', 'XC'), ('IH', 'HS', 'IH'), ('IH', 'HS', 'SH'), ('IH', 'HS', 'CX'), ('IH', 'HS', 'XC'), ('IH', 'CX', 'IS'), ('IH', 'CX', 'HS'), ('IH', 'CX', 'SH'), ('IH', 'CX', 'XC'), ('IH', 'XC', 'SI'), ('IH', 'XC', 'HS'), ('IH', 'XC', 'SH'), ('IH', 'XC', 'CX'), ('SI', 'HI', 'SI'), ('SI', 'HI', 'SH'), ('SI', 'HI', 'CX'), ('SI', 'HI', 'XC'), ('SI', 'SI', 'IS'), ('SI', 'SI', 'HS'), ('SI', 'SI', 'CX'), ('SI', 'SI', 'XC'), ('SI', 'IS', 'IS'), ('SI', 'IS', 'HS'), ('SI', 'IS', 'SH'), ('SI', 'IS', 'CX'), ('SI', 'IS', 'XC'), ('SI', 'HS', 'IH'), ('SI', 'HS', 'SI'), ('SI', 'HS', 'SH'), ('SI', 'HS', 'CX'), ('SI', 'HS', 'XC'), ('SI', 'SH', 'IS'), ('SI', 'SH', 'HS'), ('SI', 'SH', 'CX'), ('SI', 'SH', 'XC'), ('SI', 'CX', 'HI'), ('SI', 'CX', 'IS'), ('SI', 'CX', 'HS'), ('SI', 'CX', 'SH'), ('SI', 'CX', 'XC'), ('SI', 'XC', 'HI'), ('SI', 'XC', 'IH'), ('SI', 'XC', 'SI'), ('SI', 'XC', 'HS'), ('SI', 'XC', 'SH'), ('SI', 'XC', 'CX'), ('IS', 'IH', 'IS'), ('IS', 'IH', 'HS'), ('IS', 'IH', 'CX'), ('IS', 'IH', 'XC'), ('IS', 'IS', 'SH'), ('IS', 'IS', 'CX'), ('IS', 'IS', 'XC'), ('IS', 'HS', 'SI'), ('IS', 'HS', 'SH'), ('IS', 'HS', 'CX'), ('IS', 'HS', 'XC'), ('IS', 'SH', 'IS'), ('IS', 'SH', 'HS'), ('IS', 'SH', 'CX'), ('IS', 'SH', 'XC'), ('IS', 'CX', 'HI'), ('IS', 'CX', 'IH'), ('IS', 'CX', 'IS'), ('IS', 'CX', 'HS'), ('IS', 'CX', 'SH'), ('IS', 'CX', 'XC'), ('IS', 'XC', 'IH'), ('IS', 'XC', 'SI'), ('IS', 'XC', 'SH'), ('IS', 'XC', 'CX'), ('HS', 'IH', 'CX'), ('HS', 'IH', 'XC'), ('HS', 'SI', 'HS'), ('HS', 'SI', 'SH'), ('HS', 'SI', 'CX'), ('HS', 'SI', 'XC'), ('HS', 'SH', 'HI'), ('HS', 'SH', 'IS'), ('HS', 'SH', 'HS'), ('HS', 'SH', 'CX'), ('HS', 'SH', 'XC'), ('HS', 'CX', 'HI'), ('HS', 'CX', 'IH'), ('HS', 'CX', 'IS'), ('HS', 'CX', 'HS'), ('HS', 'CX', 'SH'), ('HS', 'CX', 'XC'), ('HS', 'XC', 'IH'), ('HS', 'XC', 'SH'), ('HS', 'XC', 'CX'), ('SH', 'HI', 'CX'), ('SH', 'HI', 'XC'), ('SH', 'IS', 'HS'), ('SH', 'IS', 'CX'), ('SH', 'IS', 'XC'), ('SH', 'HS', 'IH'), ('SH', 'HS', 'SI'), ('SH', 'HS', 'SH'), ('SH', 'HS', 'CX'), ('SH', 'HS', 'XC'), ('SH', 'CX', 'HS'), ('SH', 'CX', 'XC'), ('SH', 'XC', 'HI'), ('SH', 'XC', 'IH'), ('SH', 'XC', 'SI'), ('SH', 'XC', 'HS'), ('SH', 'XC', 'CX'), ('CX', 'HI', 'CX'), ('CX', 'HI', 'XC'), ('CX', 'IH', 'XC'), ('CX', 'IS', 'HS'), ('CX', 'IS', 'XC'), ('CX', 'HS', 'IH'), ('CX', 'HS', 'SI'), ('CX', 'HS', 'SH'), ('CX', 'HS', 'CX'), ('CX', 'HS', 'XC'), ('CX', 'SH', 'XC'), ('CX', 'XC', 'HI'), ('CX', 'XC', 'IH'), ('CX', 'XC', 'HS'), ('CX', 'XC', 'SH'), ('CX', 'XC', 'CX'), ('XC', 'HI', 'CX'), ('XC', 'IH', 'CX'), ('XC', 'IH', 'XC'), ('XC', 'SI', 'SH'), ('XC', 'SI', 'CX'), ('HI', 'SI', 'HI', 'CX'), ('HI', 'SI', 'SI', 'CX'), ('HI', 'SI', 'SH', 'CX'), ('HI', 'SI', 'CX', 'HI'), ('HI', 'SI', 'CX', 'HS'), ('HI', 'SI', 'CX', 'XC'), ('HI', 'SI', 'XC', 'IH'), ('HI', 'SI', 'XC', 'CX'), ('HI', 'CX', 'IS', 'HS'), ('HI', 'CX', 'IS', 'XC'), ('HI', 'CX', 'XC', 'CX'), ('IH', 'XC', 'SI', 'CX'), ('SI', 'HI', 'XC', 'CX'), ('IS', 'IH', 'CX', 'XC'), ('PxI',), ('PyI',), ('PzI',), ('IPx',), ('IPy',), ('IPz',), ('PxPx',), ('PxPy',), ('PxPz',), ('PyPx',), ('PyPy',), ('PyPz',), ('PzPx',), ('PzPy',), ('PzPz',)]\n"
     ]
    }
   ],
   "source": [
    "# 2-qubit CPTP maps (excluding T)\n",
    "B = noiseless_basis(2,include_T=False)\n",
    "\n",
    "print(f\"\\nThe following {len(B)} channels form a basis of 1q CPTP maps:\\n{list(B.keys())}\")\n",
    "# print(f'\\nHere are their Choi matrices:')\n",
    "# for v in B.values():\n",
    "#     print(f'{np.round(v,2)}')"
   ]
  }
 ],
 "metadata": {
  "kernelspec": {
   "display_name": "Python 3 (ipykernel)",
   "language": "python",
   "name": "python3"
  },
  "language_info": {
   "codemirror_mode": {
    "name": "ipython",
    "version": 3
   },
   "file_extension": ".py",
   "mimetype": "text/x-python",
   "name": "python",
   "nbconvert_exporter": "python",
   "pygments_lexer": "ipython3",
   "version": "3.9.15"
  }
 },
 "nbformat": 4,
 "nbformat_minor": 5
}
